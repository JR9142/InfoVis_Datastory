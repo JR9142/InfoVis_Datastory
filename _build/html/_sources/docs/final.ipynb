{
 "cells": [
  {
   "cell_type": "markdown",
   "id": "22b29c0f",
   "metadata": {},
   "source": [
    "## Reflectie\n",
    "\n",
    "Op basis van de ontvangen feedback hebben wij meerdere aanpassingen doorgevoerd om de leesbaarheid, helderheid en toegankelijkheid van ons werk te verbeteren. Ten eerste hebben wij de inleiding en de sectie over preprocessing herzien. Deze onderdelen zijn aangescherpt en aangevuld, zodat de context en methodologische keuzes duidelijker worden toegelicht en beter aansluiten op de rest van het onderzoek.\n",
    "\n",
    "Daarnaast hebben wij de toelichting vóór de figuren geplaatst in plaats van erna. Op deze manier worden de visualisaties vooraf van context voorzien, wat de interpretatie ervan vergemakkelijkt en onze argumenten beter ondersteunt. Door de lezer eerst mee te nemen in de kern van onze analyse, ontstaat er een logischere en overtuigendere opbouw.\n",
    "\n",
    "Verder hebben wij ervoor gezorgd dat vakinhoudelijke termen, zoals GDP (bruto binnenlands product) en de Gini-coëfficiënt, kort worden toegelicht. Hierdoor kunnen ook lezers zonder een economische achtergrond onze bevindingen en conclusies volgen. We streven hiermee naar een bredere toegankelijkheid en begrijpelijkheid van onze tekst.\n",
    "\n",
    "Tot slot hebben wij de visualisaties geoptimaliseerd door de schaling aan te passen en de labels duidelijker te herintroduceren. Deze verbeteringen zorgen ervoor dat de grafieken overzichtelijker zijn en dat de weergegeven informatie intuïtiever te interpreteren is. De aanpassingen dragen bij aan een visueel consistenter geheel en versterken de communicatie van onze resultaten."
   ]
  },
  {
   "cell_type": "markdown",
   "id": "e24145a0",
   "metadata": {},
   "source": [
    "## Work Distribution\n",
    "\n",
    "Jason richtte zich op het preprocessen van de datasets. Hierna focusde hij zich vooral op het coordineren van de samenwerking en begeleidende tekst voor het datastory. Hij was hoofdverantwoordelijk voor de GitHub repository en -page.\n",
    "\n",
    "Ryan was voornamelijk verantwoordelijk voor het ontwerpen van diverse visualisaties. Daarnaast werkte hij samen met David aan het schrijven van de reflectie en droeg hij bij door het uitwerken van inhoudelijke argumenten.\n",
    "\n",
    "David hield zich bezig met het vertalen van data naar duidelijke en informatieve visualisaties. Samen met Ryan schreef hij de reflectie, en daarnaast herschreef en verrijkte hij de argumentatie met aanvullende inzichten.\n",
    "\n",
    "Chris was verantwoordelijk voor het ontwikkelen van de grafieken binnen perspectief 2 en schreef daarnaast mee aan een deel van de bijbehorende argumentatie.\n"
   ]
  },
  {
   "cell_type": "markdown",
   "id": "c28a9ffe",
   "metadata": {},
   "source": [
    "## References\n",
    "\n",
    "De Courson, B., Nettle, D. Why do inequality and deprivation produce high crime and low trust?. Sci Rep 11, 1937 (2021). https://doi.org/10.1038/s41598-020-80897-8\n",
    "\n",
    "https://www.ceeol.com/search/article-detail?id=1093866\n",
    "\n",
    "Petersen, K., Weisburd, D., Fay, S., Eggins, E., & Mazerolle, L. (2023). Police stops to reduce crime: A systematic review and meta-analysis. Campbell Systematic Reviews, 19, e1302. https://doi.org/10.1002/cl2.1302\n",
    "Newburn, Tim (jan 2007). “Tough on Crime”: Penal Policy in England and Wales”. en. In:” Crime and Justice 36.1, p. 425–470. issn: 0192-3234, 2153-0416. doi: 10.1086/592810. url: https://www.journals.uchicago.edu/doi/10.1086/592810 (bezocht op 20-06-2025).\n",
    "\n",
    "Rudolph, Maximilian en Peter Starke (2020). How does the welfare state reduce crime? The effect of program characteristics and decommodification across 18 OECD-countries”. In: Journal of Criminal Justice 68, p. 101684. issn: 0047-2352. doi: https://doi.org/10.1016/j.jcrimjus.2020.101684. url: https://www.sciencedirect.com/science/article/pii/S0047235220300623."
   ]
  },
  {
   "cell_type": "code",
   "execution_count": null,
   "id": "7ffe5773",
   "metadata": {},
   "outputs": [],
   "source": []
  }
 ],
 "metadata": {
  "kernelspec": {
   "display_name": "Python 3 (ipykernel)",
   "language": "python",
   "name": "python3"
  },
  "language_info": {
   "codemirror_mode": {
    "name": "ipython",
    "version": 3
   },
   "file_extension": ".py",
   "mimetype": "text/x-python",
   "name": "python",
   "nbconvert_exporter": "python",
   "pygments_lexer": "ipython3",
   "version": "3.12.3"
  }
 },
 "nbformat": 4,
 "nbformat_minor": 5
}
