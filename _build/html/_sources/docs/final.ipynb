{
 "cells": [
  {
   "cell_type": "markdown",
   "id": "22b29c0f",
   "metadata": {},
   "source": [
    "## Reflectie\n",
    "\n",
    "lorem ipsum"
   ]
  },
  {
   "cell_type": "markdown",
   "id": "e24145a0",
   "metadata": {},
   "source": [
    "## Work Distribution\n",
    "\n",
    "Jason richtte zich op het preprocessen van de datasets. Hierna focusde hij zich vooral op het coordineren van de samenwerking en begeleidende tekst voor het datastory."
   ]
  },
  {
   "cell_type": "markdown",
   "id": "c28a9ffe",
   "metadata": {},
   "source": [
    "## References\n",
    "\n",
    "De Courson, B., Nettle, D. Why do inequality and deprivation produce high crime and low trust?. Sci Rep 11, 1937 (2021). https://doi.org/10.1038/s41598-020-80897-8\n",
    "\n",
    "https://www.ceeol.com/search/article-detail?id=1093866\n",
    "\n",
    "Newburn, Tim (jan 2007). “Tough on Crime”: Penal Policy in England and Wales”. en. In:” Crime and Justice 36.1, p. 425–470. issn: 0192-3234, 2153-0416. doi: 10.1086/592810. url: https://www.journals.uchicago.edu/doi/10.1086/592810 (bezocht op 20-06-2025).\n",
    "\n",
    "Rudolph, Maximilian en Peter Starke (2020). How does the welfare state reduce crime? The effect of program characteristics and decommodification across 18 OECD-countries”. In: Journal of Criminal Justice 68, p. 101684. issn: 0047-2352. doi: https://doi.org/10.1016/j.jcrimjus.2020.101684. url: https://www.sciencedirect.com/science/article/pii/S0047235220300623."
   ]
  }
 ],
 "metadata": {
  "language_info": {
   "name": "python"
  }
 },
 "nbformat": 4,
 "nbformat_minor": 5
}
