{
 "cells": [
  {
   "cell_type": "markdown",
   "id": "e24145a0",
   "metadata": {},
   "source": [
    "## Work Distribution\n",
    "\n",
    "Jason richtte zich op het preprocessen van de datasets. Hierna focusde hij zich vooral op het coordineren van de samenwerking en begeleidende tekst voor het datastory."
   ]
  },
  {
   "cell_type": "markdown",
   "id": "1eb8ab23",
   "metadata": {},
   "source": [
    "## Reflection\n",
    "\n",
    "lorem ipsum"
   ]
  },
  {
   "cell_type": "markdown",
   "id": "c28a9ffe",
   "metadata": {},
   "source": [
    "## References\n",
    "\n",
    "De Courson, B., Nettle, D. Why do inequality and deprivation produce high crime and low trust?. Sci Rep 11, 1937 (2021). https://doi.org/10.1038/s41598-020-80897-8\n",
    "\n",
    "https://www.ceeol.com/search/article-detail?id=1093866"
   ]
  }
 ],
 "metadata": {
  "language_info": {
   "name": "python"
  }
 },
 "nbformat": 4,
 "nbformat_minor": 5
}
