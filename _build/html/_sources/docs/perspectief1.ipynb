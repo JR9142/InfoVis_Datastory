{
 "cells": [
  {
   "cell_type": "markdown",
   "id": "82159d7a",
   "metadata": {},
   "source": [
    "## Minder misdaad door minder welvaart\n",
    "\n",
    "argumentatie met andere bronnen / redeneren"
   ]
  },
  {
   "cell_type": "markdown",
   "id": "7ba7cf90",
   "metadata": {},
   "source": [
    "### Verband tussen welvaart en verschillende misdaden\n",
    "\n",
    "Met name fraude gebeurt meer in rijkere landen. In rijkere landen loont fraude wellicht meer doordat transacties gaan over grotere bedragen, een rijkere bevolking loont de fraudeur meer."
   ]
  },
  {
   "cell_type": "code",
   "execution_count": 2,
   "id": "a85ba0ed",
   "metadata": {},
   "outputs": [
    {
     "data": {
      "application/vnd.plotly.v1+json": {
       "config": {
        "plotlyServerURL": "https://plot.ly"
       },
       "data": [
        {
         "coloraxis": "coloraxis",
         "hovertemplate": "Misdaad Indicators: %{x}<br>Economische Indicators: %{y}<br>Correlatie: %{z}<extra></extra>",
         "name": "0",
         "type": "heatmap",
         "x": [
          "Bribery",
          "Burglary",
          "Corruption",
          "Fraud",
          "Intentional homicide",
          "Kidnapping",
          "Rape",
          "Robbery",
          "Sexual assault",
          "Sexual violence",
          "Theft",
          "Unlawful acts involving controlled drugs or precursors"
         ],
         "xaxis": "x",
         "y": [
          "GDP, PPP (constant 2021 international $)",
          "Gross national expenditure (current US$)",
          "Imports of goods and services (current US$)",
          "Total reserves (includes gold, current US$)",
          "GNI per capita growth (annual %)",
          "Inflation, consumer prices (annual %)"
         ],
         "yaxis": "y",
         "z": {
          "bdata": "f3Bb1HBZlz8V4drlL7bUP0KP5P9rPM2/QLrLvx0Q5z+4vCtgKcrOv3VWGn7n4+M/bBkaY5ZSxT++H7LJZT/XPyvAO2ZkneA/xwgvfNB12j80NRM40QfPPxMXawpku88/L1MiCD1zlj+LmswqZPXVP8Zd5bITAMu/f5U1sJlt5z9by924AiDOv4eVqsF73uM/gSTWhbJJyT/YgKOOM33VP2SiLxQ6eeE/jGpz5vPx3D8X1nwjT2PSP9Ge1JhJWNQ/91XDDpRScT+z0K4SLLnZP+XbDIJeIci/K6OXNK8T5z+VEmsWiI/Qv59u3exLhuQ/cVYhMsE/zz8tJut3jRPTPx5VL2BjwOE/Bc0qcDqS3z9Jd3fxcprVPzLs9EBlRto/pbewYgVDx7+/KkNByXfUP03b+KDcf8S/rmXUYEewwT8QfNuMml/Qv3M4F/I9mqc/YtCvjrwIqD8V7rSc4wCiv9B0SmnKZL0/+y/f9Uczzj8oZ5l+Vr3UP0lZ58aQ9eU/iHI7aEfFtz9H/XVYLLjLv+3xFLhhvKU/PFRP8CxSz79ro2yeKyPDP8TBMY6jV7e/28byRiZyxL+kfdgccBnCv1gUNu09Os6/Knpw5ETszb8xcWoHnnTOv3shKFft3Mq/duAoFoOsyD+jzoyM657Mv2h1HaEPR6g/MlHst4lUsb+T1OmEa5+fP3/rup8ni6O/HVhWdqdhoj9ZedgE5UzEv7jg1kKUELu/svyv+6b9s7/upQ12LFPLv5/6ne5nA8m/",
          "dtype": "f8",
          "shape": "6, 12"
         }
        }
       ],
       "layout": {
        "coloraxis": {
         "cmax": 1,
         "cmin": -1,
         "colorbar": {
          "title": {
           "text": "Correlatie"
          }
         },
         "colorscale": [
          [
           0,
           "rgb(103,0,31)"
          ],
          [
           0.1,
           "rgb(178,24,43)"
          ],
          [
           0.2,
           "rgb(214,96,77)"
          ],
          [
           0.3,
           "rgb(244,165,130)"
          ],
          [
           0.4,
           "rgb(253,219,199)"
          ],
          [
           0.5,
           "rgb(247,247,247)"
          ],
          [
           0.6,
           "rgb(209,229,240)"
          ],
          [
           0.7,
           "rgb(146,197,222)"
          ],
          [
           0.8,
           "rgb(67,147,195)"
          ],
          [
           0.9,
           "rgb(33,102,172)"
          ],
          [
           1,
           "rgb(5,48,97)"
          ]
         ]
        },
        "margin": {
         "t": 60
        },
        "template": {
         "data": {
          "bar": [
           {
            "error_x": {
             "color": "#2a3f5f"
            },
            "error_y": {
             "color": "#2a3f5f"
            },
            "marker": {
             "line": {
              "color": "#E5ECF6",
              "width": 0.5
             },
             "pattern": {
              "fillmode": "overlay",
              "size": 10,
              "solidity": 0.2
             }
            },
            "type": "bar"
           }
          ],
          "barpolar": [
           {
            "marker": {
             "line": {
              "color": "#E5ECF6",
              "width": 0.5
             },
             "pattern": {
              "fillmode": "overlay",
              "size": 10,
              "solidity": 0.2
             }
            },
            "type": "barpolar"
           }
          ],
          "carpet": [
           {
            "aaxis": {
             "endlinecolor": "#2a3f5f",
             "gridcolor": "white",
             "linecolor": "white",
             "minorgridcolor": "white",
             "startlinecolor": "#2a3f5f"
            },
            "baxis": {
             "endlinecolor": "#2a3f5f",
             "gridcolor": "white",
             "linecolor": "white",
             "minorgridcolor": "white",
             "startlinecolor": "#2a3f5f"
            },
            "type": "carpet"
           }
          ],
          "choropleth": [
           {
            "colorbar": {
             "outlinewidth": 0,
             "ticks": ""
            },
            "type": "choropleth"
           }
          ],
          "contour": [
           {
            "colorbar": {
             "outlinewidth": 0,
             "ticks": ""
            },
            "colorscale": [
             [
              0,
              "#0d0887"
             ],
             [
              0.1111111111111111,
              "#46039f"
             ],
             [
              0.2222222222222222,
              "#7201a8"
             ],
             [
              0.3333333333333333,
              "#9c179e"
             ],
             [
              0.4444444444444444,
              "#bd3786"
             ],
             [
              0.5555555555555556,
              "#d8576b"
             ],
             [
              0.6666666666666666,
              "#ed7953"
             ],
             [
              0.7777777777777778,
              "#fb9f3a"
             ],
             [
              0.8888888888888888,
              "#fdca26"
             ],
             [
              1,
              "#f0f921"
             ]
            ],
            "type": "contour"
           }
          ],
          "contourcarpet": [
           {
            "colorbar": {
             "outlinewidth": 0,
             "ticks": ""
            },
            "type": "contourcarpet"
           }
          ],
          "heatmap": [
           {
            "colorbar": {
             "outlinewidth": 0,
             "ticks": ""
            },
            "colorscale": [
             [
              0,
              "#0d0887"
             ],
             [
              0.1111111111111111,
              "#46039f"
             ],
             [
              0.2222222222222222,
              "#7201a8"
             ],
             [
              0.3333333333333333,
              "#9c179e"
             ],
             [
              0.4444444444444444,
              "#bd3786"
             ],
             [
              0.5555555555555556,
              "#d8576b"
             ],
             [
              0.6666666666666666,
              "#ed7953"
             ],
             [
              0.7777777777777778,
              "#fb9f3a"
             ],
             [
              0.8888888888888888,
              "#fdca26"
             ],
             [
              1,
              "#f0f921"
             ]
            ],
            "type": "heatmap"
           }
          ],
          "histogram": [
           {
            "marker": {
             "pattern": {
              "fillmode": "overlay",
              "size": 10,
              "solidity": 0.2
             }
            },
            "type": "histogram"
           }
          ],
          "histogram2d": [
           {
            "colorbar": {
             "outlinewidth": 0,
             "ticks": ""
            },
            "colorscale": [
             [
              0,
              "#0d0887"
             ],
             [
              0.1111111111111111,
              "#46039f"
             ],
             [
              0.2222222222222222,
              "#7201a8"
             ],
             [
              0.3333333333333333,
              "#9c179e"
             ],
             [
              0.4444444444444444,
              "#bd3786"
             ],
             [
              0.5555555555555556,
              "#d8576b"
             ],
             [
              0.6666666666666666,
              "#ed7953"
             ],
             [
              0.7777777777777778,
              "#fb9f3a"
             ],
             [
              0.8888888888888888,
              "#fdca26"
             ],
             [
              1,
              "#f0f921"
             ]
            ],
            "type": "histogram2d"
           }
          ],
          "histogram2dcontour": [
           {
            "colorbar": {
             "outlinewidth": 0,
             "ticks": ""
            },
            "colorscale": [
             [
              0,
              "#0d0887"
             ],
             [
              0.1111111111111111,
              "#46039f"
             ],
             [
              0.2222222222222222,
              "#7201a8"
             ],
             [
              0.3333333333333333,
              "#9c179e"
             ],
             [
              0.4444444444444444,
              "#bd3786"
             ],
             [
              0.5555555555555556,
              "#d8576b"
             ],
             [
              0.6666666666666666,
              "#ed7953"
             ],
             [
              0.7777777777777778,
              "#fb9f3a"
             ],
             [
              0.8888888888888888,
              "#fdca26"
             ],
             [
              1,
              "#f0f921"
             ]
            ],
            "type": "histogram2dcontour"
           }
          ],
          "mesh3d": [
           {
            "colorbar": {
             "outlinewidth": 0,
             "ticks": ""
            },
            "type": "mesh3d"
           }
          ],
          "parcoords": [
           {
            "line": {
             "colorbar": {
              "outlinewidth": 0,
              "ticks": ""
             }
            },
            "type": "parcoords"
           }
          ],
          "pie": [
           {
            "automargin": true,
            "type": "pie"
           }
          ],
          "scatter": [
           {
            "fillpattern": {
             "fillmode": "overlay",
             "size": 10,
             "solidity": 0.2
            },
            "type": "scatter"
           }
          ],
          "scatter3d": [
           {
            "line": {
             "colorbar": {
              "outlinewidth": 0,
              "ticks": ""
             }
            },
            "marker": {
             "colorbar": {
              "outlinewidth": 0,
              "ticks": ""
             }
            },
            "type": "scatter3d"
           }
          ],
          "scattercarpet": [
           {
            "marker": {
             "colorbar": {
              "outlinewidth": 0,
              "ticks": ""
             }
            },
            "type": "scattercarpet"
           }
          ],
          "scattergeo": [
           {
            "marker": {
             "colorbar": {
              "outlinewidth": 0,
              "ticks": ""
             }
            },
            "type": "scattergeo"
           }
          ],
          "scattergl": [
           {
            "marker": {
             "colorbar": {
              "outlinewidth": 0,
              "ticks": ""
             }
            },
            "type": "scattergl"
           }
          ],
          "scattermap": [
           {
            "marker": {
             "colorbar": {
              "outlinewidth": 0,
              "ticks": ""
             }
            },
            "type": "scattermap"
           }
          ],
          "scattermapbox": [
           {
            "marker": {
             "colorbar": {
              "outlinewidth": 0,
              "ticks": ""
             }
            },
            "type": "scattermapbox"
           }
          ],
          "scatterpolar": [
           {
            "marker": {
             "colorbar": {
              "outlinewidth": 0,
              "ticks": ""
             }
            },
            "type": "scatterpolar"
           }
          ],
          "scatterpolargl": [
           {
            "marker": {
             "colorbar": {
              "outlinewidth": 0,
              "ticks": ""
             }
            },
            "type": "scatterpolargl"
           }
          ],
          "scatterternary": [
           {
            "marker": {
             "colorbar": {
              "outlinewidth": 0,
              "ticks": ""
             }
            },
            "type": "scatterternary"
           }
          ],
          "surface": [
           {
            "colorbar": {
             "outlinewidth": 0,
             "ticks": ""
            },
            "colorscale": [
             [
              0,
              "#0d0887"
             ],
             [
              0.1111111111111111,
              "#46039f"
             ],
             [
              0.2222222222222222,
              "#7201a8"
             ],
             [
              0.3333333333333333,
              "#9c179e"
             ],
             [
              0.4444444444444444,
              "#bd3786"
             ],
             [
              0.5555555555555556,
              "#d8576b"
             ],
             [
              0.6666666666666666,
              "#ed7953"
             ],
             [
              0.7777777777777778,
              "#fb9f3a"
             ],
             [
              0.8888888888888888,
              "#fdca26"
             ],
             [
              1,
              "#f0f921"
             ]
            ],
            "type": "surface"
           }
          ],
          "table": [
           {
            "cells": {
             "fill": {
              "color": "#EBF0F8"
             },
             "line": {
              "color": "white"
             }
            },
            "header": {
             "fill": {
              "color": "#C8D4E3"
             },
             "line": {
              "color": "white"
             }
            },
            "type": "table"
           }
          ]
         },
         "layout": {
          "annotationdefaults": {
           "arrowcolor": "#2a3f5f",
           "arrowhead": 0,
           "arrowwidth": 1
          },
          "autotypenumbers": "strict",
          "coloraxis": {
           "colorbar": {
            "outlinewidth": 0,
            "ticks": ""
           }
          },
          "colorscale": {
           "diverging": [
            [
             0,
             "#8e0152"
            ],
            [
             0.1,
             "#c51b7d"
            ],
            [
             0.2,
             "#de77ae"
            ],
            [
             0.3,
             "#f1b6da"
            ],
            [
             0.4,
             "#fde0ef"
            ],
            [
             0.5,
             "#f7f7f7"
            ],
            [
             0.6,
             "#e6f5d0"
            ],
            [
             0.7,
             "#b8e186"
            ],
            [
             0.8,
             "#7fbc41"
            ],
            [
             0.9,
             "#4d9221"
            ],
            [
             1,
             "#276419"
            ]
           ],
           "sequential": [
            [
             0,
             "#0d0887"
            ],
            [
             0.1111111111111111,
             "#46039f"
            ],
            [
             0.2222222222222222,
             "#7201a8"
            ],
            [
             0.3333333333333333,
             "#9c179e"
            ],
            [
             0.4444444444444444,
             "#bd3786"
            ],
            [
             0.5555555555555556,
             "#d8576b"
            ],
            [
             0.6666666666666666,
             "#ed7953"
            ],
            [
             0.7777777777777778,
             "#fb9f3a"
            ],
            [
             0.8888888888888888,
             "#fdca26"
            ],
            [
             1,
             "#f0f921"
            ]
           ],
           "sequentialminus": [
            [
             0,
             "#0d0887"
            ],
            [
             0.1111111111111111,
             "#46039f"
            ],
            [
             0.2222222222222222,
             "#7201a8"
            ],
            [
             0.3333333333333333,
             "#9c179e"
            ],
            [
             0.4444444444444444,
             "#bd3786"
            ],
            [
             0.5555555555555556,
             "#d8576b"
            ],
            [
             0.6666666666666666,
             "#ed7953"
            ],
            [
             0.7777777777777778,
             "#fb9f3a"
            ],
            [
             0.8888888888888888,
             "#fdca26"
            ],
            [
             1,
             "#f0f921"
            ]
           ]
          },
          "colorway": [
           "#636efa",
           "#EF553B",
           "#00cc96",
           "#ab63fa",
           "#FFA15A",
           "#19d3f3",
           "#FF6692",
           "#B6E880",
           "#FF97FF",
           "#FECB52"
          ],
          "font": {
           "color": "#2a3f5f"
          },
          "geo": {
           "bgcolor": "white",
           "lakecolor": "white",
           "landcolor": "#E5ECF6",
           "showlakes": true,
           "showland": true,
           "subunitcolor": "white"
          },
          "hoverlabel": {
           "align": "left"
          },
          "hovermode": "closest",
          "mapbox": {
           "style": "light"
          },
          "paper_bgcolor": "white",
          "plot_bgcolor": "#E5ECF6",
          "polar": {
           "angularaxis": {
            "gridcolor": "white",
            "linecolor": "white",
            "ticks": ""
           },
           "bgcolor": "#E5ECF6",
           "radialaxis": {
            "gridcolor": "white",
            "linecolor": "white",
            "ticks": ""
           }
          },
          "scene": {
           "xaxis": {
            "backgroundcolor": "#E5ECF6",
            "gridcolor": "white",
            "gridwidth": 2,
            "linecolor": "white",
            "showbackground": true,
            "ticks": "",
            "zerolinecolor": "white"
           },
           "yaxis": {
            "backgroundcolor": "#E5ECF6",
            "gridcolor": "white",
            "gridwidth": 2,
            "linecolor": "white",
            "showbackground": true,
            "ticks": "",
            "zerolinecolor": "white"
           },
           "zaxis": {
            "backgroundcolor": "#E5ECF6",
            "gridcolor": "white",
            "gridwidth": 2,
            "linecolor": "white",
            "showbackground": true,
            "ticks": "",
            "zerolinecolor": "white"
           }
          },
          "shapedefaults": {
           "line": {
            "color": "#2a3f5f"
           }
          },
          "ternary": {
           "aaxis": {
            "gridcolor": "white",
            "linecolor": "white",
            "ticks": ""
           },
           "baxis": {
            "gridcolor": "white",
            "linecolor": "white",
            "ticks": ""
           },
           "bgcolor": "#E5ECF6",
           "caxis": {
            "gridcolor": "white",
            "linecolor": "white",
            "ticks": ""
           }
          },
          "title": {
           "x": 0.05
          },
          "xaxis": {
           "automargin": true,
           "gridcolor": "white",
           "linecolor": "white",
           "ticks": "",
           "title": {
            "standoff": 15
           },
           "zerolinecolor": "white",
           "zerolinewidth": 2
          },
          "yaxis": {
           "automargin": true,
           "gridcolor": "white",
           "linecolor": "white",
           "ticks": "",
           "title": {
            "standoff": 15
           },
           "zerolinecolor": "white",
           "zerolinewidth": 2
          }
         }
        },
        "title": {
         "text": "Correlatie tussen Economische indicators en misdaad indicators"
        },
        "xaxis": {
         "anchor": "y",
         "constrain": "domain",
         "domain": [
          0,
          1
         ],
         "scaleanchor": "y",
         "title": {
          "text": "Misdaad Indicators"
         }
        },
        "yaxis": {
         "anchor": "x",
         "autorange": "reversed",
         "constrain": "domain",
         "domain": [
          0,
          1
         ],
         "title": {
          "text": "Economische Indicators"
         }
        }
       }
      }
     },
     "metadata": {},
     "output_type": "display_data"
    }
   ],
   "source": [
    "import pandas as pd\n",
    "import plotly.express as px\n",
    "import numpy as np\n",
    "\n",
    "# === Load Data ===\n",
    "\n",
    "# Crime dataset\n",
    "crime_df = pd.read_csv(\"europe_crime_definitive_per_100k.csv\")\n",
    "\n",
    "# World Bank economic dataset\n",
    "econ_df = pd.read_csv(\"world_bank_definitive.csv\")\n",
    "\n",
    "# === Filter and Preprocess ===\n",
    "\n",
    "# Desired economic indicators\n",
    "selected_indicators = [\n",
    "\"GDP, PPP (constant 2021 international $)\",\n",
    "\"Gross national expenditure (current US$)\",\n",
    "\"Imports of goods and services (current US$)\",\n",
    "\"Total reserves (includes gold, current US$)\",\n",
    "\"GNI per capita growth (annual %)\",\n",
    "\"Inflation, consumer prices (annual %)\"\n",
    "]\n",
    "\n",
    "# Filter econ_df for selected indicators\n",
    "econ_filtered = econ_df[econ_df[\"Indicator Name\"].isin(selected_indicators)]\n",
    "\n",
    "# Pivot so each indicator becomes a column\n",
    "econ_pivot = econ_filtered.pivot_table(\n",
    "index=[\"Country Name\", \"Year\"],\n",
    "columns=\"Indicator Name\",\n",
    "values=\"Value\"\n",
    ").reset_index()\n",
    "\n",
    "# Prepare crime data\n",
    "crime_df.rename(columns={\n",
    "    'Geopolitical entity (reporting)': 'Country Name',\n",
    "    'TIME_PERIOD': 'Year'\n",
    "}, inplace=True)\n",
    "crime_df['Year'] = pd.to_numeric(crime_df['Year'], errors='coerce')\n",
    "\n",
    "# Rename columns for convenience\n",
    "econ_pivot.columns.name = None\n",
    "\n",
    "# Merge on Country and Year\n",
    "merged_df = pd.merge(econ_pivot, crime_df, on=['Country Name', 'Year'])\n",
    "\n",
    "# Drop rows with missing values\n",
    "merged_df.dropna(inplace=True)\n",
    "\n",
    "# Extract actual column names\n",
    "econ_cols = selected_indicators\n",
    "crime_cols = [col for col in crime_df.columns if col not in ['Country Name', 'Year'] and col in merged_df.columns]\n",
    "\n",
    "# Subset relevant columns\n",
    "corr_data = merged_df[econ_cols + crime_cols].select_dtypes(include=[np.number])\n",
    "\n",
    "# Recalculate available econ and crime columns (since some might have been dropped)\n",
    "econ_cols_numeric = [col for col in econ_cols if col in corr_data.columns]\n",
    "crime_cols_numeric = [col for col in crime_cols if col in corr_data.columns]\n",
    "\n",
    "# Compute correlation matrix\n",
    "correlation_matrix = corr_data.corr()\n",
    "econ_crime_corr = correlation_matrix.loc[econ_cols_numeric, crime_cols_numeric]\n",
    "\n",
    "# === Plot Heatmap ===\n",
    "fig = px.imshow(\n",
    "econ_crime_corr,\n",
    "labels=dict(x=\"Misdaad Indicators\", y=\"Economische Indicators\", color=\"Correlatie\"),\n",
    "x=econ_crime_corr.columns,\n",
    "y=econ_crime_corr.index,\n",
    "color_continuous_scale=\"RdBu\",\n",
    "zmin=-1, zmax=1,\n",
    ")\n",
    "fig.update_layout(title=\"Correlatie tussen Economische indicators en misdaad indicators\")\n",
    "fig.show()"
   ]
  },
  {
   "cell_type": "markdown",
   "id": "ed6c7dab",
   "metadata": {},
   "source": [
    "> *Figuur 1: Een heatmap over de correlaties tussen economische indicators en misdaad indicators*"
   ]
  },
  {
   "cell_type": "markdown",
   "id": "a572ec3f",
   "metadata": {},
   "source": [
    "Verklaringen voor figuur 1, waarom past het bij het perspectief"
   ]
  },
  {
   "cell_type": "markdown",
   "id": "7f95c511",
   "metadata": {},
   "source": [
    "Je kan zien dat misdaden die met geld, kidnappen en sexuele activiteiten te maken hebben meer gebeuren in rijkere landen WANT VARIABELE 1, 2 CORRELEREN MET... , terwijl corruptie en moord juist meer gebeurt in minder rijke landen. Vaak is ongelijkheid ook een vorm van corruptie, dus dit is logisch. "
   ]
  },
  {
   "cell_type": "markdown",
   "id": "e83350d0",
   "metadata": {},
   "source": [
    "### Argument 2\n",
    "\n",
    "Uitleg andere bronnen, logica"
   ]
  },
  {
   "cell_type": "code",
   "execution_count": 7,
   "id": "dac4aad8",
   "metadata": {},
   "outputs": [
    {
     "data": {
      "text/html": [
       "\n",
       "        <iframe\n",
       "            width=\"100%\"\n",
       "            height=\"650\"\n",
       "            src=\"http://127.0.0.1:8050/\"\n",
       "            frameborder=\"0\"\n",
       "            allowfullscreen\n",
       "            \n",
       "        ></iframe>\n",
       "        "
      ],
      "text/plain": [
       "<IPython.lib.display.IFrame at 0x7b3aad827100>"
      ]
     },
     "metadata": {},
     "output_type": "display_data"
    }
   ],
   "source": [
    "import dash\n",
    "from dash import dcc, html\n",
    "from dash.dependencies import Input, Output\n",
    "import pandas as pd\n",
    "import plotly.express as px\n",
    "\n",
    "# Load and prepare the data\n",
    "police_df = pd.read_csv(\"europe_justice_per_100k.csv\")\n",
    "crime_df = pd.read_csv(\"europe_crime_definitive_per_100k.csv\")\n",
    "\n",
    "police_df.rename(columns={\"TIME_PERIOD\": \"Year\"}, inplace=True)\n",
    "crime_df.rename(columns={\"TIME_PERIOD\": \"Year\"}, inplace=True)\n",
    "\n",
    "# Filter and merge\n",
    "police_df = police_df[[\"geo\", \"Year\", \"Police officers\"]]\n",
    "crime_df = crime_df[[\"geo\", \"Year\", \"Theft\"]]\n",
    "merged_df = pd.merge(police_df, crime_df, on=[\"geo\", \"Year\"])\n",
    "merged_df.dropna(subset=[\"Police officers\", \"Theft\"], inplace=True)\n",
    "\n",
    "# Melt for dual-line plotting\n",
    "melted = merged_df.melt(id_vars=[\"geo\", \"Year\"],\n",
    "                        value_vars=[\"Police officers\", \"Theft\"],\n",
    "                        var_name=\"Metric\",\n",
    "                        value_name=\"Value\")\n",
    "\n",
    "# Get unique countries\n",
    "countries = sorted(melted[\"geo\"].unique())\n",
    "\n",
    "# Build the Dash app\n",
    "app = dash.Dash(__name__)\n",
    "\n",
    "app.layout = html.Div([\n",
    "\n",
    "    dcc.Dropdown(\n",
    "        id='country-selector',\n",
    "        options=[{'label': c, 'value': c} for c in countries],\n",
    "        value=[\"AL\"],  # Default selected\n",
    "        multi=True,\n",
    "        placeholder=\"Select one or more countries\"\n",
    "    ),\n",
    "\n",
    "    dcc.Graph(id='line-chart')\n",
    "])\n",
    "\n",
    "\n",
    "@app.callback(\n",
    "    Output('line-chart', 'figure'),\n",
    "    [Input('country-selector', 'value')]\n",
    ")\n",
    "def update_chart(selected_countries):\n",
    "    if not selected_countries:\n",
    "        return px.line(title=\"No countries selected\")\n",
    "\n",
    "    filtered = melted[melted[\"geo\"].isin(selected_countries)]\n",
    "\n",
    "    # Build line plot with metric as line type, country as color\n",
    "    fig = px.line(\n",
    "        filtered,\n",
    "        x=\"Year\",\n",
    "        y=\"Value\",\n",
    "        color=\"geo\",\n",
    "        line_dash=\"Metric\",  # Different dash style for 'Police officers' vs 'Theft'\n",
    "        markers=True,\n",
    "        title=\"Police Officers and Theft Rate Over Time\",\n",
    "        labels={\"geo\": \"Country\", \"Value\": \"Rate per 100k\", \"Year\": \"Year\", \"Metric\": \"Type\"},\n",
    "        height=600\n",
    "    )\n",
    "\n",
    "    fig.update_layout(yaxis=dict(autorange=True))\n",
    "    return fig\n",
    "\n",
    "\n",
    "if __name__ == '__main__':\n",
    "    app.run(debug=True)\n"
   ]
  },
  {
   "cell_type": "markdown",
   "id": "c0b96157",
   "metadata": {},
   "source": [
    "> *Figuur 2: Een Lijn Grafiek die de hoeveelheid Politieagenten en de hoeveelheid Diefstal laat zien per jaar, met een menu waar je de landen kan kiezen waar je de data van wil hebben*"
   ]
  },
  {
   "cell_type": "markdown",
   "id": "ccb56d21",
   "metadata": {},
   "source": [
    "Recap + De grafiek toont de ontwikkeling van het aantal politieagenten en het aantal geregistreerde diefstallen per land over meerdere jaren. Wat opvalt, is dat er niet altijd een directe of omgekeerde relatie is tussen meer politiepersoneel en minder criminaliteit. In sommige landen daalt het aantal diefstallen ondanks een afname van het politieapparaat, terwijl in andere landen een stijging van het aantal agenten samengaat met meer meldingen van diefstal. Dit suggereert dat andere factoren zoals sociale omstandigheden, wetgeving, meldingsbereidheid en economische situatie ook een grote rol spelen bij criminaliteitscijfers. De grafiek benadrukt dus dat het aantal politieagenten op zichzelf geen garantie is voor minder criminaliteit, maar slechts één van de vele beïnvloedende factoren."
   ]
  }
 ],
 "metadata": {
  "kernelspec": {
   "display_name": "base",
   "language": "python",
   "name": "python3"
  },
  "language_info": {
   "codemirror_mode": {
    "name": "ipython",
    "version": 3
   },
   "file_extension": ".py",
   "mimetype": "text/x-python",
   "name": "python",
   "nbconvert_exporter": "python",
   "pygments_lexer": "ipython3",
   "version": "3.13.3"
  }
 },
 "nbformat": 4,
 "nbformat_minor": 5
}
