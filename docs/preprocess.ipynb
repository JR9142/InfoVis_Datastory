{
 "cells": [
  {
   "cell_type": "markdown",
   "id": "3b46ee32",
   "metadata": {},
   "source": [
    "# Data preprocessing TO DO: filter op variabelen die wij interessant vinden."
   ]
  },
  {
   "cell_type": "markdown",
   "id": "24109071",
   "metadata": {},
   "source": [
    "## Datasets kiezen\n",
    "Wij hebben drie datasets gekozen om te vergelijken. Als eerste hebben wij de dataset [\"Police-recorded offences by offence category\"](https://ec.europa.eu/eurostat/databrowser/view/crim_off_cat/default/table?lang=en&category=crim.crim_off) van Eurostat om verschillende categorieën criminaliteit in de deelnemende landen te kunnen onderzoeken. Wij hebben geen dataset gevonden die meer landen verkende met eenzelfde diepgang, vandaar dat wij ons hebben toegespitst op alleen de landen die in deze dataset voor komen.\n",
    "\n",
    "Wij hebben ook de dataset [\"Economy & Growth\"](https://data.worldbank.org/topic/economy-and-growth) van World Bank Group gebruikt. Deze dataset bevat verschillende economische statistieken van een groot aantal landen over een lange periode. Deze gebruikten wij om correlaties te identificeren tussen de categorieën criminaliteit uit de Eurostat datbase, en verschillende economische factoren en -trends.\n",
    "\n",
    "Ten slotte hebben wij de dataset [\"World Bank, Poverty and Inequality Platform. (Gini Index)\"](https://databank.worldbank.org/reports.aspx?source=2&series=SI.POV.GINI&country=), ook van World bank group, gebruikt als een (versimpelde) weergave van de welvaartsongelijkheid in deelnemende landen.\n",
    "\n"
   ]
  },
  {
   "cell_type": "markdown",
   "id": "54582175-0319-458b-b3f9-b6c8ef415196",
   "metadata": {},
   "source": [
    "## Preprocessing\n",
    "Het data preprocessen gebeurde in een aantal stappen. Wij hebben hier python code gebruikt met de pandas library.\n",
    "\n",
    "1. De dataset \"Police-recorded offences by offence category\" van de EU hebben wij omgevormd zodat iedere soort misdaad een eigen kolom kreeg.\n",
    "2. Wij hebben de andere twee dataset, \"Economy & Growth\" en \"World Bank, Poverty and Inequality Platform. (Gini Index)\" omgevormd van 'wide' naar 'long-format'.\n",
    "3. Wij hebben deze laatste twee databases gefilterd op jaar en land, zodat alleen de jaren en landen die voor komen in de EU database over blijven. Op deze manier kunnen we voor de EU landen correlaties tussen economische variabelen en verschillende soorten criminaliteit identificeren."
   ]
  },
  {
   "cell_type": "markdown",
   "id": "a624fb77",
   "metadata": {},
   "source": [
    "## Variabelen\n",
    "Beschrijving van de gebruikte variabelen\n",
    "\n",
    "Lorem ipsum si dolor amet\n",
    "\n",
    "## Gebruikte code"
   ]
  },
  {
   "cell_type": "code",
   "execution_count": null,
   "id": "e180382e",
   "metadata": {},
   "outputs": [
    {
     "name": "stdout",
     "output_type": "stream",
     "text": [
      "Filtered and pivoted data saved to europe_crime_definitive_per_100k.csv\n",
      "Filtered and pivoted data saved to europe_crime_definitive_absolute.csv\n"
     ]
    }
   ],
   "source": [
    "import pandas as pd\n",
    "######################################################\n",
    "# Converting wide-format datasets to long-format ones#\n",
    "######################################################\n",
    "\n",
    "def convert_wide_to_long(file_path, skiprows=4, id_vars=None, var_name=\"Year\", value_name=\"Value\"):\n",
    "    # Load the CSV file\n",
    "    df = pd.read_csv(file_path, skiprows=skiprows)\n",
    "    \n",
    "    # Automatically determine id_vars if not provided\n",
    "    if id_vars is None:\n",
    "        id_vars = df.columns[:4]  # First 4 columns are IDs\n",
    "    \n",
    "    # Melt the DataFrame\n",
    "    df_long = pd.melt(df, id_vars=id_vars, var_name=var_name, value_name=value_name)\n",
    "    \n",
    "    # Optionally drop rows with missing values in the value column\n",
    "    # df_long.dropna(subset=[value_name], inplace=True)\n",
    "\n",
    "    return df_long\n",
    "\n",
    "# Convert economy csv to long format\n",
    "file_path1 = \"og_csv_files/API_3_DS2_en_csv_v2_390106.csv\"\n",
    "world_bank_long_format = convert_wide_to_long(file_path1)\n",
    "\n",
    "# convert GINI csv to long format\n",
    "filepath2 = \"og_csv_files/API_SI.POV.GINI_DS2_en_csv_v2_2566.csv\"\n",
    "gini_long_format = convert_wide_to_long(filepath2)\n",
    "\n",
    "#save as new files to [path]\n",
    "#output_csv_path1 = \"world bank long format2.csv\"\n",
    "#output_csv_path2 = \"gini long2.csv\"\n",
    "#df_long1.to_csv(output_csv_path1, index=False)\n",
    "#df_long2.to_csv(output_csv_path2, index=False)\n",
    "\n",
    "###############################################################################\n",
    "# EU dataset pivot so that the different types of crime get their own columns #\n",
    "###############################################################################\n",
    "\n",
    "# Load the dataset\n",
    "eu_df = pd.read_csv(\"/home/jason/huiswerk/Semester 2/information visualisation/datastory/InfoVis_Datastory/docs/og_csv_files/estat_crim_off_cat_filtered_en.csv\")\n",
    "\n",
    "def convert_and_pivot(df, preferred_unit):\n",
    "    # Validate unit\n",
    "    if preferred_unit not in ['Number', 'Per hundred thousand inhabitants']:\n",
    "        raise ValueError(\"Preferred unit must be 'Number' or 'Per hundred thousand inhabitants'.\")\n",
    "\n",
    "    # Filter based on unit of measure\n",
    "    filtered_df = df[df['Unit of measure'] == preferred_unit].copy()\n",
    "\n",
    "    # Pivot so each ICCS crime type becomes a column\n",
    "    pivot_df = filtered_df.pivot_table(\n",
    "        index=['Geopolitical entity (reporting)','geo', 'TIME_PERIOD'],\n",
    "        columns='International classification of crime for statistical purposes (ICCS)',\n",
    "        values='OBS_VALUE'\n",
    "    ).reset_index()\n",
    "\n",
    "    return pivot_df\n",
    "\n",
    "# usage\n",
    "eu_converted_per_100k = convert_and_pivot(eu_df, 'Per hundred thousand inhabitants')\n",
    "eu_converted_absolute = convert_and_pivot(eu_df, 'Number')\n",
    "\n",
    "# Save the result\n",
    "output_path_per_100k = 'europe_crime_definitive_per_100k.csv'\n",
    "eu_converted_per_100k.to_csv(output_path_per_100k, index=False)\n",
    "print(f\"Filtered and pivoted data saved to {output_path_per_100k}\")\n",
    "\n",
    "output_path_absolute = 'europe_crime_definitive_absolute.csv'\n",
    "eu_converted_absolute.to_csv(output_path_absolute, index=False)\n",
    "print(f\"Filtered and pivoted data saved to {output_path_absolute}\")\n",
    "\n",
    "\n",
    "\n"
   ]
  },
  {
   "cell_type": "code",
   "execution_count": 4,
   "id": "5777878e-d240-4c5e-81f2-b0431f20fa22",
   "metadata": {},
   "outputs": [
    {
     "ename": "FileNotFoundError",
     "evalue": "[Errno 2] No such file or directory: 'europe_crime_definitive.csv'",
     "output_type": "error",
     "traceback": [
      "\u001b[0;31m---------------------------------------------------------------------------\u001b[0m",
      "\u001b[0;31mFileNotFoundError\u001b[0m                         Traceback (most recent call last)",
      "Cell \u001b[0;32mIn[4], line 35\u001b[0m\n\u001b[1;32m     31\u001b[0m     filtered_world_bank_df \u001b[38;5;241m=\u001b[39m world_bank_df[world_bank_df[\u001b[38;5;124m'\u001b[39m\u001b[38;5;124mCountry Name\u001b[39m\u001b[38;5;124m'\u001b[39m]\u001b[38;5;241m.\u001b[39misin(european_countries)]\u001b[38;5;241m.\u001b[39mcopy()\n\u001b[1;32m     33\u001b[0m     \u001b[38;5;28;01mreturn\u001b[39;00m filtered_gini_df, filtered_world_bank_df\n\u001b[0;32m---> 35\u001b[0m gini_filtered, world_bank_filtered \u001b[38;5;241m=\u001b[39m \u001b[43mfilter_to_european_countries\u001b[49m\u001b[43m(\u001b[49m\u001b[38;5;124;43m'\u001b[39;49m\u001b[38;5;124;43meurope_crime_definitive.csv\u001b[39;49m\u001b[38;5;124;43m'\u001b[39;49m\u001b[43m,\u001b[49m\u001b[43m \u001b[49m\u001b[43mgini_long_format\u001b[49m\u001b[43m,\u001b[49m\u001b[43m \u001b[49m\u001b[43mworld_bank_long_format\u001b[49m\u001b[43m)\u001b[49m\n",
      "Cell \u001b[0;32mIn[4], line 20\u001b[0m, in \u001b[0;36mfilter_to_european_countries\u001b[0;34m(crime_file, gini_file, world_bank_file)\u001b[0m\n\u001b[1;32m      8\u001b[0m \u001b[38;5;250m\u001b[39m\u001b[38;5;124;03m\"\"\"\u001b[39;00m\n\u001b[1;32m      9\u001b[0m \u001b[38;5;124;03mFilters the gini and world bank datasets to include only countries present in the european crime dataset.\u001b[39;00m\n\u001b[1;32m     10\u001b[0m \n\u001b[0;32m   (...)\u001b[0m\n\u001b[1;32m     17\u001b[0m \u001b[38;5;124;03m    Tuple of filtered DataFrames: (filtered_gini_df, filtered_world_bank_df)\u001b[39;00m\n\u001b[1;32m     18\u001b[0m \u001b[38;5;124;03m\"\"\"\u001b[39;00m\n\u001b[1;32m     19\u001b[0m \u001b[38;5;66;03m# Load the crime dataset\u001b[39;00m\n\u001b[0;32m---> 20\u001b[0m crime_df \u001b[38;5;241m=\u001b[39m \u001b[43mpd\u001b[49m\u001b[38;5;241;43m.\u001b[39;49m\u001b[43mread_csv\u001b[49m\u001b[43m(\u001b[49m\u001b[43mcrime_file\u001b[49m\u001b[43m)\u001b[49m\n\u001b[1;32m     22\u001b[0m \u001b[38;5;66;03m# Extract unique country names\u001b[39;00m\n\u001b[1;32m     23\u001b[0m european_countries \u001b[38;5;241m=\u001b[39m crime_df[\u001b[38;5;124m'\u001b[39m\u001b[38;5;124mGeopolitical entity (reporting)\u001b[39m\u001b[38;5;124m'\u001b[39m]\u001b[38;5;241m.\u001b[39munique()\n",
      "File \u001b[0;32m~/miniconda3/envs/jupyterbook/lib/python3.10/site-packages/pandas/io/parsers/readers.py:1026\u001b[0m, in \u001b[0;36mread_csv\u001b[0;34m(filepath_or_buffer, sep, delimiter, header, names, index_col, usecols, dtype, engine, converters, true_values, false_values, skipinitialspace, skiprows, skipfooter, nrows, na_values, keep_default_na, na_filter, verbose, skip_blank_lines, parse_dates, infer_datetime_format, keep_date_col, date_parser, date_format, dayfirst, cache_dates, iterator, chunksize, compression, thousands, decimal, lineterminator, quotechar, quoting, doublequote, escapechar, comment, encoding, encoding_errors, dialect, on_bad_lines, delim_whitespace, low_memory, memory_map, float_precision, storage_options, dtype_backend)\u001b[0m\n\u001b[1;32m   1013\u001b[0m kwds_defaults \u001b[38;5;241m=\u001b[39m _refine_defaults_read(\n\u001b[1;32m   1014\u001b[0m     dialect,\n\u001b[1;32m   1015\u001b[0m     delimiter,\n\u001b[0;32m   (...)\u001b[0m\n\u001b[1;32m   1022\u001b[0m     dtype_backend\u001b[38;5;241m=\u001b[39mdtype_backend,\n\u001b[1;32m   1023\u001b[0m )\n\u001b[1;32m   1024\u001b[0m kwds\u001b[38;5;241m.\u001b[39mupdate(kwds_defaults)\n\u001b[0;32m-> 1026\u001b[0m \u001b[38;5;28;01mreturn\u001b[39;00m \u001b[43m_read\u001b[49m\u001b[43m(\u001b[49m\u001b[43mfilepath_or_buffer\u001b[49m\u001b[43m,\u001b[49m\u001b[43m \u001b[49m\u001b[43mkwds\u001b[49m\u001b[43m)\u001b[49m\n",
      "File \u001b[0;32m~/miniconda3/envs/jupyterbook/lib/python3.10/site-packages/pandas/io/parsers/readers.py:620\u001b[0m, in \u001b[0;36m_read\u001b[0;34m(filepath_or_buffer, kwds)\u001b[0m\n\u001b[1;32m    617\u001b[0m _validate_names(kwds\u001b[38;5;241m.\u001b[39mget(\u001b[38;5;124m\"\u001b[39m\u001b[38;5;124mnames\u001b[39m\u001b[38;5;124m\"\u001b[39m, \u001b[38;5;28;01mNone\u001b[39;00m))\n\u001b[1;32m    619\u001b[0m \u001b[38;5;66;03m# Create the parser.\u001b[39;00m\n\u001b[0;32m--> 620\u001b[0m parser \u001b[38;5;241m=\u001b[39m \u001b[43mTextFileReader\u001b[49m\u001b[43m(\u001b[49m\u001b[43mfilepath_or_buffer\u001b[49m\u001b[43m,\u001b[49m\u001b[43m \u001b[49m\u001b[38;5;241;43m*\u001b[39;49m\u001b[38;5;241;43m*\u001b[39;49m\u001b[43mkwds\u001b[49m\u001b[43m)\u001b[49m\n\u001b[1;32m    622\u001b[0m \u001b[38;5;28;01mif\u001b[39;00m chunksize \u001b[38;5;129;01mor\u001b[39;00m iterator:\n\u001b[1;32m    623\u001b[0m     \u001b[38;5;28;01mreturn\u001b[39;00m parser\n",
      "File \u001b[0;32m~/miniconda3/envs/jupyterbook/lib/python3.10/site-packages/pandas/io/parsers/readers.py:1620\u001b[0m, in \u001b[0;36mTextFileReader.__init__\u001b[0;34m(self, f, engine, **kwds)\u001b[0m\n\u001b[1;32m   1617\u001b[0m     \u001b[38;5;28mself\u001b[39m\u001b[38;5;241m.\u001b[39moptions[\u001b[38;5;124m\"\u001b[39m\u001b[38;5;124mhas_index_names\u001b[39m\u001b[38;5;124m\"\u001b[39m] \u001b[38;5;241m=\u001b[39m kwds[\u001b[38;5;124m\"\u001b[39m\u001b[38;5;124mhas_index_names\u001b[39m\u001b[38;5;124m\"\u001b[39m]\n\u001b[1;32m   1619\u001b[0m \u001b[38;5;28mself\u001b[39m\u001b[38;5;241m.\u001b[39mhandles: IOHandles \u001b[38;5;241m|\u001b[39m \u001b[38;5;28;01mNone\u001b[39;00m \u001b[38;5;241m=\u001b[39m \u001b[38;5;28;01mNone\u001b[39;00m\n\u001b[0;32m-> 1620\u001b[0m \u001b[38;5;28mself\u001b[39m\u001b[38;5;241m.\u001b[39m_engine \u001b[38;5;241m=\u001b[39m \u001b[38;5;28;43mself\u001b[39;49m\u001b[38;5;241;43m.\u001b[39;49m\u001b[43m_make_engine\u001b[49m\u001b[43m(\u001b[49m\u001b[43mf\u001b[49m\u001b[43m,\u001b[49m\u001b[43m \u001b[49m\u001b[38;5;28;43mself\u001b[39;49m\u001b[38;5;241;43m.\u001b[39;49m\u001b[43mengine\u001b[49m\u001b[43m)\u001b[49m\n",
      "File \u001b[0;32m~/miniconda3/envs/jupyterbook/lib/python3.10/site-packages/pandas/io/parsers/readers.py:1880\u001b[0m, in \u001b[0;36mTextFileReader._make_engine\u001b[0;34m(self, f, engine)\u001b[0m\n\u001b[1;32m   1878\u001b[0m     \u001b[38;5;28;01mif\u001b[39;00m \u001b[38;5;124m\"\u001b[39m\u001b[38;5;124mb\u001b[39m\u001b[38;5;124m\"\u001b[39m \u001b[38;5;129;01mnot\u001b[39;00m \u001b[38;5;129;01min\u001b[39;00m mode:\n\u001b[1;32m   1879\u001b[0m         mode \u001b[38;5;241m+\u001b[39m\u001b[38;5;241m=\u001b[39m \u001b[38;5;124m\"\u001b[39m\u001b[38;5;124mb\u001b[39m\u001b[38;5;124m\"\u001b[39m\n\u001b[0;32m-> 1880\u001b[0m \u001b[38;5;28mself\u001b[39m\u001b[38;5;241m.\u001b[39mhandles \u001b[38;5;241m=\u001b[39m \u001b[43mget_handle\u001b[49m\u001b[43m(\u001b[49m\n\u001b[1;32m   1881\u001b[0m \u001b[43m    \u001b[49m\u001b[43mf\u001b[49m\u001b[43m,\u001b[49m\n\u001b[1;32m   1882\u001b[0m \u001b[43m    \u001b[49m\u001b[43mmode\u001b[49m\u001b[43m,\u001b[49m\n\u001b[1;32m   1883\u001b[0m \u001b[43m    \u001b[49m\u001b[43mencoding\u001b[49m\u001b[38;5;241;43m=\u001b[39;49m\u001b[38;5;28;43mself\u001b[39;49m\u001b[38;5;241;43m.\u001b[39;49m\u001b[43moptions\u001b[49m\u001b[38;5;241;43m.\u001b[39;49m\u001b[43mget\u001b[49m\u001b[43m(\u001b[49m\u001b[38;5;124;43m\"\u001b[39;49m\u001b[38;5;124;43mencoding\u001b[39;49m\u001b[38;5;124;43m\"\u001b[39;49m\u001b[43m,\u001b[49m\u001b[43m \u001b[49m\u001b[38;5;28;43;01mNone\u001b[39;49;00m\u001b[43m)\u001b[49m\u001b[43m,\u001b[49m\n\u001b[1;32m   1884\u001b[0m \u001b[43m    \u001b[49m\u001b[43mcompression\u001b[49m\u001b[38;5;241;43m=\u001b[39;49m\u001b[38;5;28;43mself\u001b[39;49m\u001b[38;5;241;43m.\u001b[39;49m\u001b[43moptions\u001b[49m\u001b[38;5;241;43m.\u001b[39;49m\u001b[43mget\u001b[49m\u001b[43m(\u001b[49m\u001b[38;5;124;43m\"\u001b[39;49m\u001b[38;5;124;43mcompression\u001b[39;49m\u001b[38;5;124;43m\"\u001b[39;49m\u001b[43m,\u001b[49m\u001b[43m \u001b[49m\u001b[38;5;28;43;01mNone\u001b[39;49;00m\u001b[43m)\u001b[49m\u001b[43m,\u001b[49m\n\u001b[1;32m   1885\u001b[0m \u001b[43m    \u001b[49m\u001b[43mmemory_map\u001b[49m\u001b[38;5;241;43m=\u001b[39;49m\u001b[38;5;28;43mself\u001b[39;49m\u001b[38;5;241;43m.\u001b[39;49m\u001b[43moptions\u001b[49m\u001b[38;5;241;43m.\u001b[39;49m\u001b[43mget\u001b[49m\u001b[43m(\u001b[49m\u001b[38;5;124;43m\"\u001b[39;49m\u001b[38;5;124;43mmemory_map\u001b[39;49m\u001b[38;5;124;43m\"\u001b[39;49m\u001b[43m,\u001b[49m\u001b[43m \u001b[49m\u001b[38;5;28;43;01mFalse\u001b[39;49;00m\u001b[43m)\u001b[49m\u001b[43m,\u001b[49m\n\u001b[1;32m   1886\u001b[0m \u001b[43m    \u001b[49m\u001b[43mis_text\u001b[49m\u001b[38;5;241;43m=\u001b[39;49m\u001b[43mis_text\u001b[49m\u001b[43m,\u001b[49m\n\u001b[1;32m   1887\u001b[0m \u001b[43m    \u001b[49m\u001b[43merrors\u001b[49m\u001b[38;5;241;43m=\u001b[39;49m\u001b[38;5;28;43mself\u001b[39;49m\u001b[38;5;241;43m.\u001b[39;49m\u001b[43moptions\u001b[49m\u001b[38;5;241;43m.\u001b[39;49m\u001b[43mget\u001b[49m\u001b[43m(\u001b[49m\u001b[38;5;124;43m\"\u001b[39;49m\u001b[38;5;124;43mencoding_errors\u001b[39;49m\u001b[38;5;124;43m\"\u001b[39;49m\u001b[43m,\u001b[49m\u001b[43m \u001b[49m\u001b[38;5;124;43m\"\u001b[39;49m\u001b[38;5;124;43mstrict\u001b[39;49m\u001b[38;5;124;43m\"\u001b[39;49m\u001b[43m)\u001b[49m\u001b[43m,\u001b[49m\n\u001b[1;32m   1888\u001b[0m \u001b[43m    \u001b[49m\u001b[43mstorage_options\u001b[49m\u001b[38;5;241;43m=\u001b[39;49m\u001b[38;5;28;43mself\u001b[39;49m\u001b[38;5;241;43m.\u001b[39;49m\u001b[43moptions\u001b[49m\u001b[38;5;241;43m.\u001b[39;49m\u001b[43mget\u001b[49m\u001b[43m(\u001b[49m\u001b[38;5;124;43m\"\u001b[39;49m\u001b[38;5;124;43mstorage_options\u001b[39;49m\u001b[38;5;124;43m\"\u001b[39;49m\u001b[43m,\u001b[49m\u001b[43m \u001b[49m\u001b[38;5;28;43;01mNone\u001b[39;49;00m\u001b[43m)\u001b[49m\u001b[43m,\u001b[49m\n\u001b[1;32m   1889\u001b[0m \u001b[43m\u001b[49m\u001b[43m)\u001b[49m\n\u001b[1;32m   1890\u001b[0m \u001b[38;5;28;01massert\u001b[39;00m \u001b[38;5;28mself\u001b[39m\u001b[38;5;241m.\u001b[39mhandles \u001b[38;5;129;01mis\u001b[39;00m \u001b[38;5;129;01mnot\u001b[39;00m \u001b[38;5;28;01mNone\u001b[39;00m\n\u001b[1;32m   1891\u001b[0m f \u001b[38;5;241m=\u001b[39m \u001b[38;5;28mself\u001b[39m\u001b[38;5;241m.\u001b[39mhandles\u001b[38;5;241m.\u001b[39mhandle\n",
      "File \u001b[0;32m~/miniconda3/envs/jupyterbook/lib/python3.10/site-packages/pandas/io/common.py:873\u001b[0m, in \u001b[0;36mget_handle\u001b[0;34m(path_or_buf, mode, encoding, compression, memory_map, is_text, errors, storage_options)\u001b[0m\n\u001b[1;32m    868\u001b[0m \u001b[38;5;28;01melif\u001b[39;00m \u001b[38;5;28misinstance\u001b[39m(handle, \u001b[38;5;28mstr\u001b[39m):\n\u001b[1;32m    869\u001b[0m     \u001b[38;5;66;03m# Check whether the filename is to be opened in binary mode.\u001b[39;00m\n\u001b[1;32m    870\u001b[0m     \u001b[38;5;66;03m# Binary mode does not support 'encoding' and 'newline'.\u001b[39;00m\n\u001b[1;32m    871\u001b[0m     \u001b[38;5;28;01mif\u001b[39;00m ioargs\u001b[38;5;241m.\u001b[39mencoding \u001b[38;5;129;01mand\u001b[39;00m \u001b[38;5;124m\"\u001b[39m\u001b[38;5;124mb\u001b[39m\u001b[38;5;124m\"\u001b[39m \u001b[38;5;129;01mnot\u001b[39;00m \u001b[38;5;129;01min\u001b[39;00m ioargs\u001b[38;5;241m.\u001b[39mmode:\n\u001b[1;32m    872\u001b[0m         \u001b[38;5;66;03m# Encoding\u001b[39;00m\n\u001b[0;32m--> 873\u001b[0m         handle \u001b[38;5;241m=\u001b[39m \u001b[38;5;28;43mopen\u001b[39;49m\u001b[43m(\u001b[49m\n\u001b[1;32m    874\u001b[0m \u001b[43m            \u001b[49m\u001b[43mhandle\u001b[49m\u001b[43m,\u001b[49m\n\u001b[1;32m    875\u001b[0m \u001b[43m            \u001b[49m\u001b[43mioargs\u001b[49m\u001b[38;5;241;43m.\u001b[39;49m\u001b[43mmode\u001b[49m\u001b[43m,\u001b[49m\n\u001b[1;32m    876\u001b[0m \u001b[43m            \u001b[49m\u001b[43mencoding\u001b[49m\u001b[38;5;241;43m=\u001b[39;49m\u001b[43mioargs\u001b[49m\u001b[38;5;241;43m.\u001b[39;49m\u001b[43mencoding\u001b[49m\u001b[43m,\u001b[49m\n\u001b[1;32m    877\u001b[0m \u001b[43m            \u001b[49m\u001b[43merrors\u001b[49m\u001b[38;5;241;43m=\u001b[39;49m\u001b[43merrors\u001b[49m\u001b[43m,\u001b[49m\n\u001b[1;32m    878\u001b[0m \u001b[43m            \u001b[49m\u001b[43mnewline\u001b[49m\u001b[38;5;241;43m=\u001b[39;49m\u001b[38;5;124;43m\"\u001b[39;49m\u001b[38;5;124;43m\"\u001b[39;49m\u001b[43m,\u001b[49m\n\u001b[1;32m    879\u001b[0m \u001b[43m        \u001b[49m\u001b[43m)\u001b[49m\n\u001b[1;32m    880\u001b[0m     \u001b[38;5;28;01melse\u001b[39;00m:\n\u001b[1;32m    881\u001b[0m         \u001b[38;5;66;03m# Binary mode\u001b[39;00m\n\u001b[1;32m    882\u001b[0m         handle \u001b[38;5;241m=\u001b[39m \u001b[38;5;28mopen\u001b[39m(handle, ioargs\u001b[38;5;241m.\u001b[39mmode)\n",
      "\u001b[0;31mFileNotFoundError\u001b[0m: [Errno 2] No such file or directory: 'europe_crime_definitive.csv'"
     ]
    }
   ],
   "source": [
    "import pandas as pd\n",
    "\n",
    "########################################################################\n",
    "#Sort economy and gini to only use countries also present in eu dataset#\n",
    "########################################################################\n",
    "\n",
    "def filter_to_european_countries(crime_file, gini_file, world_bank_file):\n",
    "    \"\"\"\n",
    "    Filters the gini and world bank datasets to include only countries present in the european crime dataset.\n",
    "\n",
    "    Parameters:\n",
    "        crime_file (str): Path to 'europe_crime_definitive.csv'\n",
    "        gini_file (pd.df): Gini file in long format\n",
    "        world_bank_file (pd.df): World bank file in long format\n",
    "\n",
    "    Returns:\n",
    "        Tuple of filtered DataFrames: (filtered_gini_df, filtered_world_bank_df)\n",
    "    \"\"\"\n",
    "    # Load the crime dataset\n",
    "    crime_df = pd.read_csv(crime_file)\n",
    "    \n",
    "    # Extract unique country names\n",
    "    european_countries = crime_df['Geopolitical entity (reporting)'].unique()\n",
    "    \n",
    "    # Load GINI and World Bank datasets\n",
    "    gini_df = gini_file\n",
    "    world_bank_df = world_bank_file\n",
    "    \n",
    "    # Filter GINI and World Bank datasets to only include European countries\n",
    "    filtered_gini_df = gini_df[gini_df['Country Name'].isin(european_countries)].copy()\n",
    "    filtered_world_bank_df = world_bank_df[world_bank_df['Country Name'].isin(european_countries)].copy()\n",
    "    \n",
    "    return filtered_gini_df, filtered_world_bank_df\n",
    "\n",
    "gini_filtered, world_bank_filtered = filter_to_european_countries('europe_crime_definitive.csv', gini_long_format, world_bank_long_format)"
   ]
  },
  {
   "cell_type": "code",
   "execution_count": null,
   "id": "79452586",
   "metadata": {},
   "outputs": [],
   "source": [
    "#########################################################\n",
    "#Filter by the timespan of the EU database, 2008 onwards#\n",
    "#########################################################\n",
    "def filter_years_from_2008(gini_df, world_bank_df, start_year=2008):\n",
    "    \"\"\"\n",
    "    Filters the GINI and World Bank DataFrames to include only data from start_year onward.\n",
    "\n",
    "    Parameters:\n",
    "        gini_df (pd.DataFrame): Filtered GINI DataFrame.\n",
    "        world_bank_df (pd.DataFrame): Filtered World Bank DataFrame.\n",
    "        start_year (int): The earliest year to include (default is 2008).\n",
    "\n",
    "    Returns:\n",
    "        Tuple of DataFrames filtered by year: (gini_filtered_by_year, world_bank_filtered_by_year)\n",
    "    \"\"\"\n",
    "    # Make the string entries of the year column be interpreted as numbers\n",
    "    gini_df['Year'] = pd.to_numeric(gini_df['Year'], errors='coerce')\n",
    "    world_bank_df['Year'] = pd.to_numeric(world_bank_df['Year'], errors='coerce')\n",
    "\n",
    "    # Filter out all data with a year not 2008 or onwards\n",
    "    gini_filtered_by_year = gini_df[gini_df['Year'] >= start_year].copy()\n",
    "    world_bank_filtered_by_year = world_bank_df[world_bank_df['Year'] >= start_year].copy()\n",
    "    \n",
    "    return gini_filtered_by_year, world_bank_filtered_by_year\n",
    "\n",
    "gini_definitive, world_bank_definitive = filter_years_from_2008(gini_filtered, world_bank_filtered)\n",
    "\n",
    "# Save the final results\n",
    "gini_definitive.to_csv('gini_definitive.csv')\n",
    "world_bank_definitive.to_csv('world_bank_definitive.csv')\n"
   ]
  }
 ],
 "metadata": {
  "celltoolbar": "Tags",
  "kernelspec": {
   "display_name": "jupyterbook",
   "language": "python",
   "name": "python3"
  },
  "language_info": {
   "codemirror_mode": {
    "name": "ipython",
    "version": 3
   },
   "file_extension": ".py",
   "mimetype": "text/x-python",
   "name": "python",
   "nbconvert_exporter": "python",
   "pygments_lexer": "ipython3",
   "version": "3.10.16"
  }
 },
 "nbformat": 4,
 "nbformat_minor": 5
}
