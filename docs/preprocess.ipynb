{
 "cells": [
  {
   "cell_type": "markdown",
   "id": "3b46ee32",
   "metadata": {},
   "source": [
    "# Data Preprocessing\n",
    "\n",
    "Student names: FIRST_STUDENT, SECOND_STUDENT, THIRD_STUDENT, FORTH_STUDENT\n",
    "\n",
    "Team number: YOUR_REGISTERED_TEAM_NUMBER_ON_CANVAS"
   ]
  },
  {
   "cell_type": "markdown",
   "id": "54582175-0319-458b-b3f9-b6c8ef415196",
   "metadata": {},
   "source": [
    "The following code is used to preprocess the datasets into files that are used for the data story."
   ]
  },
  {
   "cell_type": "code",
   "execution_count": null,
   "id": "e180382e",
   "metadata": {},
   "outputs": [],
   "source": [
    "import pandas as pd\n",
    "######################################################\n",
    "# Converting wide-format datasets to long-format ones#\n",
    "######################################################\n",
    "\n",
    "def convert_wide_to_long(file_path, skiprows=4, id_vars=None, var_name=\"Year\", value_name=\"Value\"):\n",
    "    # Load the CSV file\n",
    "    df = pd.read_csv(file_path, skiprows=skiprows)\n",
    "    \n",
    "    # Automatically determine id_vars if not provided\n",
    "    if id_vars is None:\n",
    "        id_vars = df.columns[:4]  # First 4 columns are IDs\n",
    "    \n",
    "    # Melt the DataFrame\n",
    "    df_long = pd.melt(df, id_vars=id_vars, var_name=var_name, value_name=value_name)\n",
    "    \n",
    "    # Optionally drop rows with missing values in the value column\n",
    "    # df_long.dropna(subset=[value_name], inplace=True)\n",
    "\n",
    "    # Display the result\n",
    "    print(df_long.head())\n",
    "    \n",
    "    return df_long\n",
    "\n",
    "# Convert economy csv to long format\n",
    "file_path1 = \"World bank wide format/API_3_DS2_en_csv_v2_390106.csv\"\n",
    "df_long1 = convert_wide_to_long(file_path1)\n",
    "\n",
    "# convert GINI csv to long format\n",
    "filepath2 = \"World Bank Gini wide/API_SI.POV.GINI_DS2_en_csv_v2_2566.csv\"\n",
    "df_long2 = convert_wide_to_long(filepath2)\n",
    "\n",
    "#save to path\n",
    "output_csv_path1 = \"world bank long format2.csv\"\n",
    "output_csv_path2 = \"gini long2.csv\"\n",
    "\n",
    "#df_long1.to_csv(output_csv_path1, index=False)\n",
    "#df_long2.to_csv(output_csv_path2, index=False)\n",
    "\n",
    "###############################################################################\n",
    "# EU dataset pivot so that the different types of crime get their own columns #\n",
    "###############################################################################\n",
    "\n",
    "# Load the dataset\n",
    "eu_df = pd.read_csv(\"europe crime.csv\")\n",
    "\n",
    "# Pivot the data\n",
    "df_pivot = eu_df.pivot_table(\n",
    "    index=[\"Geopolitical entity (reporting)\", \"TIME_PERIOD\"],\n",
    "    columns=\"International classification of crime for statistical purposes (ICCS)\",\n",
    "    values=\"OBS_VALUE\"\n",
    ").reset_index()\n",
    "\n",
    "# save to new file\n",
    "df_pivot.to_csv(\"europe crime testingasl;dkfja;sdlfjasdf;l.csv\")\n",
    "\n",
    "# Display the first few rows\n",
    "print(df_pivot.head())\n"
   ]
  },
  {
   "cell_type": "code",
   "execution_count": null,
   "id": "5777878e-d240-4c5e-81f2-b0431f20fa22",
   "metadata": {},
   "outputs": [],
   "source": []
  }
 ],
 "metadata": {
  "celltoolbar": "Tags",
  "kernelspec": {
   "display_name": "Python 3 (ipykernel)",
   "language": "python",
   "name": "python3"
  },
  "language_info": {
   "codemirror_mode": {
    "name": "ipython",
    "version": 3
   },
   "file_extension": ".py",
   "mimetype": "text/x-python",
   "name": "python",
   "nbconvert_exporter": "python",
   "pygments_lexer": "ipython3",
   "version": "3.10.5"
  }
 },
 "nbformat": 4,
 "nbformat_minor": 5
}
