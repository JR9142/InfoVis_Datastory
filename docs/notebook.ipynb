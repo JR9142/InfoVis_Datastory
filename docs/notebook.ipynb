{
 "cells": [
  {
   "cell_type": "markdown",
   "id": "3b46ee32",
   "metadata": {},
   "source": [
    "# Criminaliteit, voorkomen of bestrijden?\n",
    "\n",
    "Student names: Chris Dukker, David Snoeks, Ryan Rodrigus, Jason Roes\n",
    "\n",
    "Team number: D2"
   ]
  },
  {
   "cell_type": "code",
   "execution_count": 1,
   "id": "e180382e",
   "metadata": {
    "tags": [
     "hide-input"
    ]
   },
   "outputs": [
    {
     "data": {
      "text/html": [
       "<img src=\"https://ccv-secondant.nl/fileadmin/w/secondant_nl/platform/illustraties/Internationaal.jpg\" width=\"600\" height=\"300\"/>"
      ],
      "text/plain": [
       "<IPython.core.display.Image object>"
      ]
     },
     "metadata": {},
     "output_type": "display_data"
    }
   ],
   "source": [
    "# Load image from link\n",
    "url = 'https://ccv-secondant.nl/fileadmin/w/secondant_nl/platform/illustraties/Internationaal.jpg'\n",
    "\n",
    "# Display image from URL with smaller size and subtitle\n",
    "from IPython.display import Image, display\n",
    "\n",
    "# Set the desired image width and height\n",
    "width = 600\n",
    "height = 300\n",
    "\n",
    "# Set the subtitle text\n",
    "#subtitle = \"© CCV / Hans Sprangers\"\n",
    "\n",
    "# Create an Image instance with the URL\n",
    "image = Image(url=url, width=width, height=height)\n",
    "\n",
    "# Display the image and subtitle\n",
    "display(image)\n",
    "#print(subtitle)"
   ]
  },
  {
   "cell_type": "markdown",
   "id": "7d5fce97-8e22-41ee-a19c-6c0f0fb2f08f",
   "metadata": {},
   "source": [
    "## Introductie"
   ]
  },
  {
   "cell_type": "markdown",
   "id": "7cf81853-c237-4df2-8ed4-9deae8423fb0",
   "metadata": {},
   "source": [
    "Criminaliteit is een van de oudste en hardnekkigste problemen waarmee samenlevingen te maken hebben. De bestrijding ervan vormt een voortdurend punt van discussie in de politiek, waarbij verschillende partijen sterk verschillen in hun benadering van dit probleem. Grofweg kunnen deze benaderingen worden onderverdeeld in twee categorieën: het voorkomen van criminaliteit via economische maatregelen, en het terugdringen ervan door middel van strengere straffen en handhaving.\n",
    "\n",
    "Intuïtief is het te begrijpen dat er een correlatie is tussen welvaart en criminaliteit. Als een deel van de bevolking in armoede leeft zonder een duidelijke manier op verbetering, zullen ze sneller naar illegale middelen grijpen om deze verbetering zelf tot stand te brengen. Dit is waar de economische aanpak op inspeelt. Door deze kwetsbare bevolkingsgroep van steun te voorzien, zijn ze minder geneigd om (uit wanhoop) misdaden te plegen, aldus aanhangers van dit perspectief (Rudolph en Starke 2020).\n",
    "\n",
    "Een andere veelgenoemde strategie om criminaliteit tegen te gaan, is het aanscherpen van de handhaving en het opleggen van strengere straffen. Ook deze aanpak is logisch te beredeneren: als de kans op bestraffing toeneemt en de straffen zwaarder worden, bijvoorbeeld door een grotere politie-inzet, zullen potentiële daders vaker concluderen dat de baten van een misdaad niet opwegen tegen de risico’s (Newburn 2007).\n",
    "\n",
    "In dit datastory gebruiken wij gegevens over verschillende Europese landen om te onderzoeken welke van deze twee benaderingen effectiever is in het terugdringen van criminaliteit. Wegen economische omstandigheden zwaarder, of speelt juist de strengheid van wetgeving en handhaving een grotere rol?"
   ]
  }
 ],
 "metadata": {
  "celltoolbar": "Tags",
  "kernelspec": {
   "display_name": "jupyterbook",
   "language": "python",
   "name": "python3"
  },
  "language_info": {
   "codemirror_mode": {
    "name": "ipython",
    "version": 3
   },
   "file_extension": ".py",
   "mimetype": "text/x-python",
   "name": "python",
   "nbconvert_exporter": "python",
   "pygments_lexer": "ipython3",
   "version": "3.10.16"
  },
  "widgets": {
   "application/vnd.jupyter.widget-state+json": {
    "state": {},
    "version_major": 2,
    "version_minor": 0
   }
  }
 },
 "nbformat": 4,
 "nbformat_minor": 5
}
