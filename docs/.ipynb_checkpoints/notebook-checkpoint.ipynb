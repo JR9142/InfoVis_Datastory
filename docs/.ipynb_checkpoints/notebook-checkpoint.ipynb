{
 "cells": [
  {
   "cell_type": "markdown",
   "id": "3b46ee32",
   "metadata": {},
   "source": [
    "# Criminaliteit en Welvaart\n",
    "\n",
    "Student names: Chris Dukker, David Snoeks, Ryan Rodrigus, Jason Roes\n",
    "\n",
    "Team number: D2"
   ]
  },
  {
   "cell_type": "code",
   "execution_count": 2,
   "id": "e180382e",
   "metadata": {
    "tags": [
     "hide-input"
    ]
   },
   "outputs": [
    {
     "data": {
      "text/html": [
       "<img src=\"https://ccv-secondant.nl/fileadmin/w/secondant_nl/platform/illustraties/Internationaal.jpg\" width=\"600\" height=\"300\"/>"
      ],
      "text/plain": [
       "<IPython.core.display.Image object>"
      ]
     },
     "metadata": {},
     "output_type": "display_data"
    },
    {
     "name": "stdout",
     "output_type": "stream",
     "text": [
      "© CCV / Hans Sprangers\n"
     ]
    }
   ],
   "source": [
    "# Load image from link\n",
    "url = 'https://ccv-secondant.nl/fileadmin/w/secondant_nl/platform/illustraties/Internationaal.jpg'\n",
    "\n",
    "# Display image from URL with smaller size and subtitle\n",
    "from IPython.display import Image, display\n",
    "\n",
    "# Set the desired image width and height\n",
    "width = 600\n",
    "height = 300\n",
    "\n",
    "# Set the subtitle text\n",
    "subtitle = \"© CCV / Hans Sprangers\"\n",
    "\n",
    "# Create an Image instance with the URL\n",
    "image = Image(url=url, width=width, height=height)\n",
    "\n",
    "# Display the image and subtitle\n",
    "display(image)\n",
    "print(subtitle)"
   ]
  },
  {
   "cell_type": "markdown",
   "id": "7d5fce97-8e22-41ee-a19c-6c0f0fb2f08f",
   "metadata": {},
   "source": [
    "## Introduction"
   ]
  },
  {
   "cell_type": "markdown",
   "id": "7cf81853-c237-4df2-8ed4-9deae8423fb0",
   "metadata": {},
   "source": [
    "In Europa is er een verschil in welvaart tussen landen. Zo zijn er sommige landen met meer gelijkheid en landen die meer totaal inkomen hebben. Maar er is ook een verschil in criminaliteit. Sommige landen hebben meer totale criminaliteit en in sommige landen gebeuren bepaalde misdaden meer dan anderen. De vraag is alleen of er ook een verband is tussen hoe welvarend een land is en hoeveel misdaden en ook welke misdaden er gebeuren. \n",
    "\n",
    "Met deze data story gaan we onderzoeken of ongelijkheid en het gemiddelde inkomen per persoon invloed heeft op de hoeveelheid misdaden die er gebeuren, en of het invloed heeft op specifieke misdaden als moord, verkrachting, diefstal, fraude en drugsgebruik. Dit doen we met behulp van de GINI (een maatstaf voor inkomens- of vermogenongelijkheid) en de economie en groei dataset van World Bank Open Data en de misdaadstatistieken dataset van de Europese Commissie.\n",
    "\n",
    "Volgens De Courson & Nettle (2021) is voor mensen met een laag inkomen en kapitaal het soms de optimale strategie om misdaden te plegen, voornamelijk misdaden waarmee geld valt te verdienen. Hoewel er het risico is om gepakt te worden, is wat ze krijgen als ze niet gepakt worden het heel erg waard. Ook omdat ze niet veel hoop voor de rest hebben en ook niet veel te verliezen hebben, voelen ze dat dat hun beste kans is om uit hun huidige leven te ontsnappen."
   ]
  },
  {
   "cell_type": "markdown",
   "id": "d9d4c934-c639-495f-a2bc-ed078e5659c3",
   "metadata": {},
   "source": [
    "## Dataset and Preprocessing"
   ]
  },
  {
   "cell_type": "markdown",
   "id": "850c1744-f4cc-4cc1-b0a7-9207c75837d8",
   "metadata": {},
   "source": [
    "Zie het bestand preprocess.ipynb"
   ]
  },
  {
   "cell_type": "markdown",
   "id": "d5010a07-96a0-45a7-ba76-250a56053f62",
   "metadata": {},
   "source": [
    "## Your First Perspective"
   ]
  },
  {
   "cell_type": "markdown",
   "id": "1f26b1fd",
   "metadata": {},
   "source": []
  },
  {
   "cell_type": "markdown",
   "id": "a43c3ae1-48d8-4663-8525-7d92fae83483",
   "metadata": {},
   "source": [
    "### Verband diefstal, fraude en ongelijkheid"
   ]
  },
  {
   "cell_type": "markdown",
   "id": "a44acbb2-6dbc-4cb9-ba26-7ba3fb19af5d",
   "metadata": {},
   "source": [
    "Fraude en diefstal hebben veel met elkaar te maken: ze gaan namelijk allebei over het stelen van geld van iemand anders. "
   ]
  },
  {
   "cell_type": "code",
   "execution_count": null,
   "id": "5a242e18",
   "metadata": {},
   "outputs": [],
   "source": []
  },
  {
   "cell_type": "markdown",
   "id": "f07d4a62-ad4f-4fd3-84ad-3540363a03fb",
   "metadata": {},
   "source": []
  },
  {
   "cell_type": "markdown",
   "id": "d42bd1f8",
   "metadata": {},
   "source": [
    "At solmen va esser necessi far uniform grammatica, pronunciation e plu sommun paroles. Ma quande lingues coalesce, li grammatica del resultant lingue es plu simplic e regulari quam ti del coalescent lingues. Li nov lingua franca va esser plu simplic e regulari quam li existent Europan lingues. Nam eget dui. Etiam rhoncus. Maecenas tempus, tellus eget condimentum rhoncus, sem quam semper libero, sit amet adipiscing sem neque sed ipsum. Nam quam nunc, blandit vel, luctus pulvinar, hendrerit id, lorem. Maecenas nec odio et ante tincidunt tempus. Donec vitae sapien ut libero venenatis faucibus. Nullam quis ante."
   ]
  },
  {
   "cell_type": "code",
   "execution_count": 18,
   "id": "62bfd307",
   "metadata": {
    "tags": [
     "hide-input"
    ]
   },
   "outputs": [
    {
     "ename": "FileNotFoundError",
     "evalue": "[Errno 2] No such file or directory: 'table2.csv'",
     "output_type": "error",
     "traceback": [
      "\u001b[31m---------------------------------------------------------------------------\u001b[39m",
      "\u001b[31mFileNotFoundError\u001b[39m                         Traceback (most recent call last)",
      "\u001b[36mCell\u001b[39m\u001b[36m \u001b[39m\u001b[32mIn[18]\u001b[39m\u001b[32m, line 5\u001b[39m\n\u001b[32m      2\u001b[39m \u001b[38;5;28;01mimport\u001b[39;00m\u001b[38;5;250m \u001b[39m\u001b[34;01mpandas\u001b[39;00m\u001b[38;5;250m \u001b[39m\u001b[38;5;28;01mas\u001b[39;00m\u001b[38;5;250m \u001b[39m\u001b[34;01mpd\u001b[39;00m\n\u001b[32m      4\u001b[39m \u001b[38;5;66;03m# Read the data from table2.csv\u001b[39;00m\n\u001b[32m----> \u001b[39m\u001b[32m5\u001b[39m df2 = \u001b[43mpd\u001b[49m\u001b[43m.\u001b[49m\u001b[43mread_csv\u001b[49m\u001b[43m(\u001b[49m\u001b[33;43m'\u001b[39;49m\u001b[33;43mtable2.csv\u001b[39;49m\u001b[33;43m'\u001b[39;49m\u001b[43m)\u001b[49m\n\u001b[32m      7\u001b[39m \u001b[38;5;66;03m# Initialize a figure\u001b[39;00m\n\u001b[32m      8\u001b[39m fig2 = go.Figure()\n",
      "\u001b[36mFile \u001b[39m\u001b[32m~/miniconda3/lib/python3.13/site-packages/pandas/io/parsers/readers.py:1026\u001b[39m, in \u001b[36mread_csv\u001b[39m\u001b[34m(filepath_or_buffer, sep, delimiter, header, names, index_col, usecols, dtype, engine, converters, true_values, false_values, skipinitialspace, skiprows, skipfooter, nrows, na_values, keep_default_na, na_filter, verbose, skip_blank_lines, parse_dates, infer_datetime_format, keep_date_col, date_parser, date_format, dayfirst, cache_dates, iterator, chunksize, compression, thousands, decimal, lineterminator, quotechar, quoting, doublequote, escapechar, comment, encoding, encoding_errors, dialect, on_bad_lines, delim_whitespace, low_memory, memory_map, float_precision, storage_options, dtype_backend)\u001b[39m\n\u001b[32m   1013\u001b[39m kwds_defaults = _refine_defaults_read(\n\u001b[32m   1014\u001b[39m     dialect,\n\u001b[32m   1015\u001b[39m     delimiter,\n\u001b[32m   (...)\u001b[39m\u001b[32m   1022\u001b[39m     dtype_backend=dtype_backend,\n\u001b[32m   1023\u001b[39m )\n\u001b[32m   1024\u001b[39m kwds.update(kwds_defaults)\n\u001b[32m-> \u001b[39m\u001b[32m1026\u001b[39m \u001b[38;5;28;01mreturn\u001b[39;00m \u001b[43m_read\u001b[49m\u001b[43m(\u001b[49m\u001b[43mfilepath_or_buffer\u001b[49m\u001b[43m,\u001b[49m\u001b[43m \u001b[49m\u001b[43mkwds\u001b[49m\u001b[43m)\u001b[49m\n",
      "\u001b[36mFile \u001b[39m\u001b[32m~/miniconda3/lib/python3.13/site-packages/pandas/io/parsers/readers.py:620\u001b[39m, in \u001b[36m_read\u001b[39m\u001b[34m(filepath_or_buffer, kwds)\u001b[39m\n\u001b[32m    617\u001b[39m _validate_names(kwds.get(\u001b[33m\"\u001b[39m\u001b[33mnames\u001b[39m\u001b[33m\"\u001b[39m, \u001b[38;5;28;01mNone\u001b[39;00m))\n\u001b[32m    619\u001b[39m \u001b[38;5;66;03m# Create the parser.\u001b[39;00m\n\u001b[32m--> \u001b[39m\u001b[32m620\u001b[39m parser = \u001b[43mTextFileReader\u001b[49m\u001b[43m(\u001b[49m\u001b[43mfilepath_or_buffer\u001b[49m\u001b[43m,\u001b[49m\u001b[43m \u001b[49m\u001b[43m*\u001b[49m\u001b[43m*\u001b[49m\u001b[43mkwds\u001b[49m\u001b[43m)\u001b[49m\n\u001b[32m    622\u001b[39m \u001b[38;5;28;01mif\u001b[39;00m chunksize \u001b[38;5;129;01mor\u001b[39;00m iterator:\n\u001b[32m    623\u001b[39m     \u001b[38;5;28;01mreturn\u001b[39;00m parser\n",
      "\u001b[36mFile \u001b[39m\u001b[32m~/miniconda3/lib/python3.13/site-packages/pandas/io/parsers/readers.py:1620\u001b[39m, in \u001b[36mTextFileReader.__init__\u001b[39m\u001b[34m(self, f, engine, **kwds)\u001b[39m\n\u001b[32m   1617\u001b[39m     \u001b[38;5;28mself\u001b[39m.options[\u001b[33m\"\u001b[39m\u001b[33mhas_index_names\u001b[39m\u001b[33m\"\u001b[39m] = kwds[\u001b[33m\"\u001b[39m\u001b[33mhas_index_names\u001b[39m\u001b[33m\"\u001b[39m]\n\u001b[32m   1619\u001b[39m \u001b[38;5;28mself\u001b[39m.handles: IOHandles | \u001b[38;5;28;01mNone\u001b[39;00m = \u001b[38;5;28;01mNone\u001b[39;00m\n\u001b[32m-> \u001b[39m\u001b[32m1620\u001b[39m \u001b[38;5;28mself\u001b[39m._engine = \u001b[38;5;28;43mself\u001b[39;49m\u001b[43m.\u001b[49m\u001b[43m_make_engine\u001b[49m\u001b[43m(\u001b[49m\u001b[43mf\u001b[49m\u001b[43m,\u001b[49m\u001b[43m \u001b[49m\u001b[38;5;28;43mself\u001b[39;49m\u001b[43m.\u001b[49m\u001b[43mengine\u001b[49m\u001b[43m)\u001b[49m\n",
      "\u001b[36mFile \u001b[39m\u001b[32m~/miniconda3/lib/python3.13/site-packages/pandas/io/parsers/readers.py:1880\u001b[39m, in \u001b[36mTextFileReader._make_engine\u001b[39m\u001b[34m(self, f, engine)\u001b[39m\n\u001b[32m   1878\u001b[39m     \u001b[38;5;28;01mif\u001b[39;00m \u001b[33m\"\u001b[39m\u001b[33mb\u001b[39m\u001b[33m\"\u001b[39m \u001b[38;5;129;01mnot\u001b[39;00m \u001b[38;5;129;01min\u001b[39;00m mode:\n\u001b[32m   1879\u001b[39m         mode += \u001b[33m\"\u001b[39m\u001b[33mb\u001b[39m\u001b[33m\"\u001b[39m\n\u001b[32m-> \u001b[39m\u001b[32m1880\u001b[39m \u001b[38;5;28mself\u001b[39m.handles = \u001b[43mget_handle\u001b[49m\u001b[43m(\u001b[49m\n\u001b[32m   1881\u001b[39m \u001b[43m    \u001b[49m\u001b[43mf\u001b[49m\u001b[43m,\u001b[49m\n\u001b[32m   1882\u001b[39m \u001b[43m    \u001b[49m\u001b[43mmode\u001b[49m\u001b[43m,\u001b[49m\n\u001b[32m   1883\u001b[39m \u001b[43m    \u001b[49m\u001b[43mencoding\u001b[49m\u001b[43m=\u001b[49m\u001b[38;5;28;43mself\u001b[39;49m\u001b[43m.\u001b[49m\u001b[43moptions\u001b[49m\u001b[43m.\u001b[49m\u001b[43mget\u001b[49m\u001b[43m(\u001b[49m\u001b[33;43m\"\u001b[39;49m\u001b[33;43mencoding\u001b[39;49m\u001b[33;43m\"\u001b[39;49m\u001b[43m,\u001b[49m\u001b[43m \u001b[49m\u001b[38;5;28;43;01mNone\u001b[39;49;00m\u001b[43m)\u001b[49m\u001b[43m,\u001b[49m\n\u001b[32m   1884\u001b[39m \u001b[43m    \u001b[49m\u001b[43mcompression\u001b[49m\u001b[43m=\u001b[49m\u001b[38;5;28;43mself\u001b[39;49m\u001b[43m.\u001b[49m\u001b[43moptions\u001b[49m\u001b[43m.\u001b[49m\u001b[43mget\u001b[49m\u001b[43m(\u001b[49m\u001b[33;43m\"\u001b[39;49m\u001b[33;43mcompression\u001b[39;49m\u001b[33;43m\"\u001b[39;49m\u001b[43m,\u001b[49m\u001b[43m \u001b[49m\u001b[38;5;28;43;01mNone\u001b[39;49;00m\u001b[43m)\u001b[49m\u001b[43m,\u001b[49m\n\u001b[32m   1885\u001b[39m \u001b[43m    \u001b[49m\u001b[43mmemory_map\u001b[49m\u001b[43m=\u001b[49m\u001b[38;5;28;43mself\u001b[39;49m\u001b[43m.\u001b[49m\u001b[43moptions\u001b[49m\u001b[43m.\u001b[49m\u001b[43mget\u001b[49m\u001b[43m(\u001b[49m\u001b[33;43m\"\u001b[39;49m\u001b[33;43mmemory_map\u001b[39;49m\u001b[33;43m\"\u001b[39;49m\u001b[43m,\u001b[49m\u001b[43m \u001b[49m\u001b[38;5;28;43;01mFalse\u001b[39;49;00m\u001b[43m)\u001b[49m\u001b[43m,\u001b[49m\n\u001b[32m   1886\u001b[39m \u001b[43m    \u001b[49m\u001b[43mis_text\u001b[49m\u001b[43m=\u001b[49m\u001b[43mis_text\u001b[49m\u001b[43m,\u001b[49m\n\u001b[32m   1887\u001b[39m \u001b[43m    \u001b[49m\u001b[43merrors\u001b[49m\u001b[43m=\u001b[49m\u001b[38;5;28;43mself\u001b[39;49m\u001b[43m.\u001b[49m\u001b[43moptions\u001b[49m\u001b[43m.\u001b[49m\u001b[43mget\u001b[49m\u001b[43m(\u001b[49m\u001b[33;43m\"\u001b[39;49m\u001b[33;43mencoding_errors\u001b[39;49m\u001b[33;43m\"\u001b[39;49m\u001b[43m,\u001b[49m\u001b[43m \u001b[49m\u001b[33;43m\"\u001b[39;49m\u001b[33;43mstrict\u001b[39;49m\u001b[33;43m\"\u001b[39;49m\u001b[43m)\u001b[49m\u001b[43m,\u001b[49m\n\u001b[32m   1888\u001b[39m \u001b[43m    \u001b[49m\u001b[43mstorage_options\u001b[49m\u001b[43m=\u001b[49m\u001b[38;5;28;43mself\u001b[39;49m\u001b[43m.\u001b[49m\u001b[43moptions\u001b[49m\u001b[43m.\u001b[49m\u001b[43mget\u001b[49m\u001b[43m(\u001b[49m\u001b[33;43m\"\u001b[39;49m\u001b[33;43mstorage_options\u001b[39;49m\u001b[33;43m\"\u001b[39;49m\u001b[43m,\u001b[49m\u001b[43m \u001b[49m\u001b[38;5;28;43;01mNone\u001b[39;49;00m\u001b[43m)\u001b[49m\u001b[43m,\u001b[49m\n\u001b[32m   1889\u001b[39m \u001b[43m\u001b[49m\u001b[43m)\u001b[49m\n\u001b[32m   1890\u001b[39m \u001b[38;5;28;01massert\u001b[39;00m \u001b[38;5;28mself\u001b[39m.handles \u001b[38;5;129;01mis\u001b[39;00m \u001b[38;5;129;01mnot\u001b[39;00m \u001b[38;5;28;01mNone\u001b[39;00m\n\u001b[32m   1891\u001b[39m f = \u001b[38;5;28mself\u001b[39m.handles.handle\n",
      "\u001b[36mFile \u001b[39m\u001b[32m~/miniconda3/lib/python3.13/site-packages/pandas/io/common.py:873\u001b[39m, in \u001b[36mget_handle\u001b[39m\u001b[34m(path_or_buf, mode, encoding, compression, memory_map, is_text, errors, storage_options)\u001b[39m\n\u001b[32m    868\u001b[39m \u001b[38;5;28;01melif\u001b[39;00m \u001b[38;5;28misinstance\u001b[39m(handle, \u001b[38;5;28mstr\u001b[39m):\n\u001b[32m    869\u001b[39m     \u001b[38;5;66;03m# Check whether the filename is to be opened in binary mode.\u001b[39;00m\n\u001b[32m    870\u001b[39m     \u001b[38;5;66;03m# Binary mode does not support 'encoding' and 'newline'.\u001b[39;00m\n\u001b[32m    871\u001b[39m     \u001b[38;5;28;01mif\u001b[39;00m ioargs.encoding \u001b[38;5;129;01mand\u001b[39;00m \u001b[33m\"\u001b[39m\u001b[33mb\u001b[39m\u001b[33m\"\u001b[39m \u001b[38;5;129;01mnot\u001b[39;00m \u001b[38;5;129;01min\u001b[39;00m ioargs.mode:\n\u001b[32m    872\u001b[39m         \u001b[38;5;66;03m# Encoding\u001b[39;00m\n\u001b[32m--> \u001b[39m\u001b[32m873\u001b[39m         handle = \u001b[38;5;28;43mopen\u001b[39;49m\u001b[43m(\u001b[49m\n\u001b[32m    874\u001b[39m \u001b[43m            \u001b[49m\u001b[43mhandle\u001b[49m\u001b[43m,\u001b[49m\n\u001b[32m    875\u001b[39m \u001b[43m            \u001b[49m\u001b[43mioargs\u001b[49m\u001b[43m.\u001b[49m\u001b[43mmode\u001b[49m\u001b[43m,\u001b[49m\n\u001b[32m    876\u001b[39m \u001b[43m            \u001b[49m\u001b[43mencoding\u001b[49m\u001b[43m=\u001b[49m\u001b[43mioargs\u001b[49m\u001b[43m.\u001b[49m\u001b[43mencoding\u001b[49m\u001b[43m,\u001b[49m\n\u001b[32m    877\u001b[39m \u001b[43m            \u001b[49m\u001b[43merrors\u001b[49m\u001b[43m=\u001b[49m\u001b[43merrors\u001b[49m\u001b[43m,\u001b[49m\n\u001b[32m    878\u001b[39m \u001b[43m            \u001b[49m\u001b[43mnewline\u001b[49m\u001b[43m=\u001b[49m\u001b[33;43m\"\u001b[39;49m\u001b[33;43m\"\u001b[39;49m\u001b[43m,\u001b[49m\n\u001b[32m    879\u001b[39m \u001b[43m        \u001b[49m\u001b[43m)\u001b[49m\n\u001b[32m    880\u001b[39m     \u001b[38;5;28;01melse\u001b[39;00m:\n\u001b[32m    881\u001b[39m         \u001b[38;5;66;03m# Binary mode\u001b[39;00m\n\u001b[32m    882\u001b[39m         handle = \u001b[38;5;28mopen\u001b[39m(handle, ioargs.mode)\n",
      "\u001b[31mFileNotFoundError\u001b[39m: [Errno 2] No such file or directory: 'table2.csv'"
     ]
    }
   ],
   "source": [
    "import plotly.graph_objects as go\n",
    "import pandas as pd\n",
    "\n",
    "# Read the data from table2.csv\n",
    "df2 = pd.read_csv('table2.csv')\n",
    "\n",
    "# Initialize a figure\n",
    "fig2 = go.Figure()\n",
    "\n",
    "# Create the first line\n",
    "fig2.add_trace(\n",
    "    go.Scatter(\n",
    "        x=df2[\"Jaartal\"], \n",
    "        y=df2[\"Workers involved (x 1,000)\"],\n",
    "        mode='lines+markers',\n",
    "        line=dict(color='#00a1cd', width=2),\n",
    "        marker=dict(color='#00a1cd', size=5),\n",
    "        name=\"Workers involved\",\n",
    "        hovertemplate='<b>%{x}</b><br>Workers involved: <b>%{y} thousand</b> <extra></extra>'\n",
    "    )\n",
    ")\n",
    "\n",
    "# Create the second line\n",
    "fig2.add_trace(\n",
    "    go.Scatter(\n",
    "        x=df2[\"Jaartal\"], \n",
    "        y=df2[\"Working days lost (x 1,000)\"],\n",
    "        mode='lines+markers',\n",
    "        line=dict(color='#0058b8', width=2),\n",
    "        marker=dict(color='#0058b8', size=5),\n",
    "        name=\"Working days lost\",\n",
    "        hovertemplate='<b>%{x}</b><br>Working days lost: <b>%{y} thousand</b> <extra></extra>'\n",
    "    )\n",
    ")\n",
    "\n",
    "# Customize the plot layout\n",
    "fig2.update_layout(\n",
    "    plot_bgcolor='white',\n",
    "    xaxis=dict(title='Years'),\n",
    "    yaxis=dict(title=''),  # Remove y-axis tick labels\n",
    "    legend=dict(title='', orientation='h', yanchor='bottom', y=-0.3, xanchor='right', x=0.3),  # Update legend settings\n",
    "    title=\"Number of workers involved and working<br>days lost during strikes (in thousand)\",\n",
    "    height=500\n",
    ")\n",
    "\n",
    "# Add horizontal lines at y = 0, 100, 200, 300, 400, and 500\n",
    "y_values = [0, 100, 200, 300, 400, 500]\n",
    "for y in y_values:\n",
    "    fig2.add_shape(\n",
    "        type='line',\n",
    "        x0=min(df2['Jaartal']),\n",
    "        x1=max(df2['Jaartal']),\n",
    "        y0=y,\n",
    "        y1=y,\n",
    "        line=dict(color='black'),\n",
    "        line_width=0.5\n",
    "    )\n",
    "\n",
    "# Show the plot\n",
    "fig2.show()"
   ]
  },
  {
   "cell_type": "markdown",
   "id": "62e26829-3d0d-4ee7-b88b-a7dc22849fd1",
   "metadata": {},
   "source": [
    "> *Figure 2: Vivamus elementum semper nisi. Aenean vulputate eleifend tellus. Aenean leo ligula, porttitor eu, consequat vitae, eleifend ac, enim. Aliquam lorem ante, dapibus in, viverra quis, feugiat a, tellus.*"
   ]
  },
  {
   "cell_type": "markdown",
   "id": "be2e96b5-34b9-4070-a924-b2e275d53293",
   "metadata": {},
   "source": [
    "Nam eget dui. Etiam rhoncus. Maecenas tempus, tellus eget condimentum rhoncus, sem quam semper libero, sit amet adipiscing sem neque sed ipsum. Nam quam nunc, blandit vel, luctus pulvinar, hendrerit id, lorem. Maecenas nec odio et ante tincidunt tempus. Donec vitae sapien ut libero venenatis faucibus. Nullam quis ante."
   ]
  },
  {
   "cell_type": "markdown",
   "id": "e0a5e8f3-eed9-4965-a85d-05a296514ca0",
   "metadata": {},
   "source": [
    "### The Second Argument of Your First Perspective"
   ]
  },
  {
   "cell_type": "markdown",
   "id": "bb01e374",
   "metadata": {},
   "source": [
    "It va esser tam simplic quam Occidental in fact, it va esser Occidental. A un Angleso it va semblar un simplificat Angles, quam un skeptic Cambridge amico dit me que Occidental es. Li Europan lingues es membres del sam familie. Lor separat existentie es un myth. Por scientie, musica, sport etc, litot Europa usa li sam vocabular. Li lingues differe solmen in li grammatica, li pronunciation e li plu commun vocabules. Omnicos directe al desirabilite de un nov lingua franca: On refusa continuar payar custosi traductores. At solmen va esser necessi far uniform grammatica, pronunciation e plu sommun paroles."
   ]
  },
  {
   "cell_type": "code",
   "execution_count": 8,
   "id": "7de76f3d",
   "metadata": {
    "tags": [
     "hide-input"
    ]
   },
   "outputs": [
    {
     "ename": "FileNotFoundError",
     "evalue": "[Errno 2] No such file or directory: 'table3.csv'",
     "output_type": "error",
     "traceback": [
      "\u001b[31m---------------------------------------------------------------------------\u001b[39m",
      "\u001b[31mFileNotFoundError\u001b[39m                         Traceback (most recent call last)",
      "\u001b[36mCell\u001b[39m\u001b[36m \u001b[39m\u001b[32mIn[8]\u001b[39m\u001b[32m, line 5\u001b[39m\n\u001b[32m      2\u001b[39m \u001b[38;5;28;01mimport\u001b[39;00m\u001b[38;5;250m \u001b[39m\u001b[34;01mpandas\u001b[39;00m\u001b[38;5;250m \u001b[39m\u001b[38;5;28;01mas\u001b[39;00m\u001b[38;5;250m \u001b[39m\u001b[34;01mpd\u001b[39;00m\n\u001b[32m      4\u001b[39m \u001b[38;5;66;03m# Read the data from table3.csv\u001b[39;00m\n\u001b[32m----> \u001b[39m\u001b[32m5\u001b[39m df3 = \u001b[43mpd\u001b[49m\u001b[43m.\u001b[49m\u001b[43mread_csv\u001b[49m\u001b[43m(\u001b[49m\u001b[33;43m'\u001b[39;49m\u001b[33;43mtable3.csv\u001b[39;49m\u001b[33;43m'\u001b[39;49m\u001b[43m)\u001b[49m\n\u001b[32m      7\u001b[39m \u001b[38;5;66;03m# Create an empty figure\u001b[39;00m\n\u001b[32m      8\u001b[39m fig3 = go.Figure()\n",
      "\u001b[36mFile \u001b[39m\u001b[32m~/miniconda3/lib/python3.13/site-packages/pandas/io/parsers/readers.py:1026\u001b[39m, in \u001b[36mread_csv\u001b[39m\u001b[34m(filepath_or_buffer, sep, delimiter, header, names, index_col, usecols, dtype, engine, converters, true_values, false_values, skipinitialspace, skiprows, skipfooter, nrows, na_values, keep_default_na, na_filter, verbose, skip_blank_lines, parse_dates, infer_datetime_format, keep_date_col, date_parser, date_format, dayfirst, cache_dates, iterator, chunksize, compression, thousands, decimal, lineterminator, quotechar, quoting, doublequote, escapechar, comment, encoding, encoding_errors, dialect, on_bad_lines, delim_whitespace, low_memory, memory_map, float_precision, storage_options, dtype_backend)\u001b[39m\n\u001b[32m   1013\u001b[39m kwds_defaults = _refine_defaults_read(\n\u001b[32m   1014\u001b[39m     dialect,\n\u001b[32m   1015\u001b[39m     delimiter,\n\u001b[32m   (...)\u001b[39m\u001b[32m   1022\u001b[39m     dtype_backend=dtype_backend,\n\u001b[32m   1023\u001b[39m )\n\u001b[32m   1024\u001b[39m kwds.update(kwds_defaults)\n\u001b[32m-> \u001b[39m\u001b[32m1026\u001b[39m \u001b[38;5;28;01mreturn\u001b[39;00m \u001b[43m_read\u001b[49m\u001b[43m(\u001b[49m\u001b[43mfilepath_or_buffer\u001b[49m\u001b[43m,\u001b[49m\u001b[43m \u001b[49m\u001b[43mkwds\u001b[49m\u001b[43m)\u001b[49m\n",
      "\u001b[36mFile \u001b[39m\u001b[32m~/miniconda3/lib/python3.13/site-packages/pandas/io/parsers/readers.py:620\u001b[39m, in \u001b[36m_read\u001b[39m\u001b[34m(filepath_or_buffer, kwds)\u001b[39m\n\u001b[32m    617\u001b[39m _validate_names(kwds.get(\u001b[33m\"\u001b[39m\u001b[33mnames\u001b[39m\u001b[33m\"\u001b[39m, \u001b[38;5;28;01mNone\u001b[39;00m))\n\u001b[32m    619\u001b[39m \u001b[38;5;66;03m# Create the parser.\u001b[39;00m\n\u001b[32m--> \u001b[39m\u001b[32m620\u001b[39m parser = \u001b[43mTextFileReader\u001b[49m\u001b[43m(\u001b[49m\u001b[43mfilepath_or_buffer\u001b[49m\u001b[43m,\u001b[49m\u001b[43m \u001b[49m\u001b[43m*\u001b[49m\u001b[43m*\u001b[49m\u001b[43mkwds\u001b[49m\u001b[43m)\u001b[49m\n\u001b[32m    622\u001b[39m \u001b[38;5;28;01mif\u001b[39;00m chunksize \u001b[38;5;129;01mor\u001b[39;00m iterator:\n\u001b[32m    623\u001b[39m     \u001b[38;5;28;01mreturn\u001b[39;00m parser\n",
      "\u001b[36mFile \u001b[39m\u001b[32m~/miniconda3/lib/python3.13/site-packages/pandas/io/parsers/readers.py:1620\u001b[39m, in \u001b[36mTextFileReader.__init__\u001b[39m\u001b[34m(self, f, engine, **kwds)\u001b[39m\n\u001b[32m   1617\u001b[39m     \u001b[38;5;28mself\u001b[39m.options[\u001b[33m\"\u001b[39m\u001b[33mhas_index_names\u001b[39m\u001b[33m\"\u001b[39m] = kwds[\u001b[33m\"\u001b[39m\u001b[33mhas_index_names\u001b[39m\u001b[33m\"\u001b[39m]\n\u001b[32m   1619\u001b[39m \u001b[38;5;28mself\u001b[39m.handles: IOHandles | \u001b[38;5;28;01mNone\u001b[39;00m = \u001b[38;5;28;01mNone\u001b[39;00m\n\u001b[32m-> \u001b[39m\u001b[32m1620\u001b[39m \u001b[38;5;28mself\u001b[39m._engine = \u001b[38;5;28;43mself\u001b[39;49m\u001b[43m.\u001b[49m\u001b[43m_make_engine\u001b[49m\u001b[43m(\u001b[49m\u001b[43mf\u001b[49m\u001b[43m,\u001b[49m\u001b[43m \u001b[49m\u001b[38;5;28;43mself\u001b[39;49m\u001b[43m.\u001b[49m\u001b[43mengine\u001b[49m\u001b[43m)\u001b[49m\n",
      "\u001b[36mFile \u001b[39m\u001b[32m~/miniconda3/lib/python3.13/site-packages/pandas/io/parsers/readers.py:1880\u001b[39m, in \u001b[36mTextFileReader._make_engine\u001b[39m\u001b[34m(self, f, engine)\u001b[39m\n\u001b[32m   1878\u001b[39m     \u001b[38;5;28;01mif\u001b[39;00m \u001b[33m\"\u001b[39m\u001b[33mb\u001b[39m\u001b[33m\"\u001b[39m \u001b[38;5;129;01mnot\u001b[39;00m \u001b[38;5;129;01min\u001b[39;00m mode:\n\u001b[32m   1879\u001b[39m         mode += \u001b[33m\"\u001b[39m\u001b[33mb\u001b[39m\u001b[33m\"\u001b[39m\n\u001b[32m-> \u001b[39m\u001b[32m1880\u001b[39m \u001b[38;5;28mself\u001b[39m.handles = \u001b[43mget_handle\u001b[49m\u001b[43m(\u001b[49m\n\u001b[32m   1881\u001b[39m \u001b[43m    \u001b[49m\u001b[43mf\u001b[49m\u001b[43m,\u001b[49m\n\u001b[32m   1882\u001b[39m \u001b[43m    \u001b[49m\u001b[43mmode\u001b[49m\u001b[43m,\u001b[49m\n\u001b[32m   1883\u001b[39m \u001b[43m    \u001b[49m\u001b[43mencoding\u001b[49m\u001b[43m=\u001b[49m\u001b[38;5;28;43mself\u001b[39;49m\u001b[43m.\u001b[49m\u001b[43moptions\u001b[49m\u001b[43m.\u001b[49m\u001b[43mget\u001b[49m\u001b[43m(\u001b[49m\u001b[33;43m\"\u001b[39;49m\u001b[33;43mencoding\u001b[39;49m\u001b[33;43m\"\u001b[39;49m\u001b[43m,\u001b[49m\u001b[43m \u001b[49m\u001b[38;5;28;43;01mNone\u001b[39;49;00m\u001b[43m)\u001b[49m\u001b[43m,\u001b[49m\n\u001b[32m   1884\u001b[39m \u001b[43m    \u001b[49m\u001b[43mcompression\u001b[49m\u001b[43m=\u001b[49m\u001b[38;5;28;43mself\u001b[39;49m\u001b[43m.\u001b[49m\u001b[43moptions\u001b[49m\u001b[43m.\u001b[49m\u001b[43mget\u001b[49m\u001b[43m(\u001b[49m\u001b[33;43m\"\u001b[39;49m\u001b[33;43mcompression\u001b[39;49m\u001b[33;43m\"\u001b[39;49m\u001b[43m,\u001b[49m\u001b[43m \u001b[49m\u001b[38;5;28;43;01mNone\u001b[39;49;00m\u001b[43m)\u001b[49m\u001b[43m,\u001b[49m\n\u001b[32m   1885\u001b[39m \u001b[43m    \u001b[49m\u001b[43mmemory_map\u001b[49m\u001b[43m=\u001b[49m\u001b[38;5;28;43mself\u001b[39;49m\u001b[43m.\u001b[49m\u001b[43moptions\u001b[49m\u001b[43m.\u001b[49m\u001b[43mget\u001b[49m\u001b[43m(\u001b[49m\u001b[33;43m\"\u001b[39;49m\u001b[33;43mmemory_map\u001b[39;49m\u001b[33;43m\"\u001b[39;49m\u001b[43m,\u001b[49m\u001b[43m \u001b[49m\u001b[38;5;28;43;01mFalse\u001b[39;49;00m\u001b[43m)\u001b[49m\u001b[43m,\u001b[49m\n\u001b[32m   1886\u001b[39m \u001b[43m    \u001b[49m\u001b[43mis_text\u001b[49m\u001b[43m=\u001b[49m\u001b[43mis_text\u001b[49m\u001b[43m,\u001b[49m\n\u001b[32m   1887\u001b[39m \u001b[43m    \u001b[49m\u001b[43merrors\u001b[49m\u001b[43m=\u001b[49m\u001b[38;5;28;43mself\u001b[39;49m\u001b[43m.\u001b[49m\u001b[43moptions\u001b[49m\u001b[43m.\u001b[49m\u001b[43mget\u001b[49m\u001b[43m(\u001b[49m\u001b[33;43m\"\u001b[39;49m\u001b[33;43mencoding_errors\u001b[39;49m\u001b[33;43m\"\u001b[39;49m\u001b[43m,\u001b[49m\u001b[43m \u001b[49m\u001b[33;43m\"\u001b[39;49m\u001b[33;43mstrict\u001b[39;49m\u001b[33;43m\"\u001b[39;49m\u001b[43m)\u001b[49m\u001b[43m,\u001b[49m\n\u001b[32m   1888\u001b[39m \u001b[43m    \u001b[49m\u001b[43mstorage_options\u001b[49m\u001b[43m=\u001b[49m\u001b[38;5;28;43mself\u001b[39;49m\u001b[43m.\u001b[49m\u001b[43moptions\u001b[49m\u001b[43m.\u001b[49m\u001b[43mget\u001b[49m\u001b[43m(\u001b[49m\u001b[33;43m\"\u001b[39;49m\u001b[33;43mstorage_options\u001b[39;49m\u001b[33;43m\"\u001b[39;49m\u001b[43m,\u001b[49m\u001b[43m \u001b[49m\u001b[38;5;28;43;01mNone\u001b[39;49;00m\u001b[43m)\u001b[49m\u001b[43m,\u001b[49m\n\u001b[32m   1889\u001b[39m \u001b[43m\u001b[49m\u001b[43m)\u001b[49m\n\u001b[32m   1890\u001b[39m \u001b[38;5;28;01massert\u001b[39;00m \u001b[38;5;28mself\u001b[39m.handles \u001b[38;5;129;01mis\u001b[39;00m \u001b[38;5;129;01mnot\u001b[39;00m \u001b[38;5;28;01mNone\u001b[39;00m\n\u001b[32m   1891\u001b[39m f = \u001b[38;5;28mself\u001b[39m.handles.handle\n",
      "\u001b[36mFile \u001b[39m\u001b[32m~/miniconda3/lib/python3.13/site-packages/pandas/io/common.py:873\u001b[39m, in \u001b[36mget_handle\u001b[39m\u001b[34m(path_or_buf, mode, encoding, compression, memory_map, is_text, errors, storage_options)\u001b[39m\n\u001b[32m    868\u001b[39m \u001b[38;5;28;01melif\u001b[39;00m \u001b[38;5;28misinstance\u001b[39m(handle, \u001b[38;5;28mstr\u001b[39m):\n\u001b[32m    869\u001b[39m     \u001b[38;5;66;03m# Check whether the filename is to be opened in binary mode.\u001b[39;00m\n\u001b[32m    870\u001b[39m     \u001b[38;5;66;03m# Binary mode does not support 'encoding' and 'newline'.\u001b[39;00m\n\u001b[32m    871\u001b[39m     \u001b[38;5;28;01mif\u001b[39;00m ioargs.encoding \u001b[38;5;129;01mand\u001b[39;00m \u001b[33m\"\u001b[39m\u001b[33mb\u001b[39m\u001b[33m\"\u001b[39m \u001b[38;5;129;01mnot\u001b[39;00m \u001b[38;5;129;01min\u001b[39;00m ioargs.mode:\n\u001b[32m    872\u001b[39m         \u001b[38;5;66;03m# Encoding\u001b[39;00m\n\u001b[32m--> \u001b[39m\u001b[32m873\u001b[39m         handle = \u001b[38;5;28;43mopen\u001b[39;49m\u001b[43m(\u001b[49m\n\u001b[32m    874\u001b[39m \u001b[43m            \u001b[49m\u001b[43mhandle\u001b[49m\u001b[43m,\u001b[49m\n\u001b[32m    875\u001b[39m \u001b[43m            \u001b[49m\u001b[43mioargs\u001b[49m\u001b[43m.\u001b[49m\u001b[43mmode\u001b[49m\u001b[43m,\u001b[49m\n\u001b[32m    876\u001b[39m \u001b[43m            \u001b[49m\u001b[43mencoding\u001b[49m\u001b[43m=\u001b[49m\u001b[43mioargs\u001b[49m\u001b[43m.\u001b[49m\u001b[43mencoding\u001b[49m\u001b[43m,\u001b[49m\n\u001b[32m    877\u001b[39m \u001b[43m            \u001b[49m\u001b[43merrors\u001b[49m\u001b[43m=\u001b[49m\u001b[43merrors\u001b[49m\u001b[43m,\u001b[49m\n\u001b[32m    878\u001b[39m \u001b[43m            \u001b[49m\u001b[43mnewline\u001b[49m\u001b[43m=\u001b[49m\u001b[33;43m\"\u001b[39;49m\u001b[33;43m\"\u001b[39;49m\u001b[43m,\u001b[49m\n\u001b[32m    879\u001b[39m \u001b[43m        \u001b[49m\u001b[43m)\u001b[49m\n\u001b[32m    880\u001b[39m     \u001b[38;5;28;01melse\u001b[39;00m:\n\u001b[32m    881\u001b[39m         \u001b[38;5;66;03m# Binary mode\u001b[39;00m\n\u001b[32m    882\u001b[39m         handle = \u001b[38;5;28mopen\u001b[39m(handle, ioargs.mode)\n",
      "\u001b[31mFileNotFoundError\u001b[39m: [Errno 2] No such file or directory: 'table3.csv'"
     ]
    }
   ],
   "source": [
    "import plotly.graph_objects as go\n",
    "import pandas as pd\n",
    "\n",
    "# Read the data from table3.csv\n",
    "df3 = pd.read_csv('table3.csv')\n",
    "\n",
    "# Create an empty figure\n",
    "fig3 = go.Figure()\n",
    "\n",
    "# Define a list of tuples with the variable names and their respective colors\n",
    "variables = [(\"Collective agreement (CAO) (% (very) satisfied)\", '#00a1cd'), \n",
    "             (\"Salary (% (very) satisfied)\", '#0058b8')]\n",
    "\n",
    "# Loop over the variables to add a trace for each one\n",
    "for var, color in variables:\n",
    "    name = var.split(\"(\")[0].strip()\n",
    "    fig3.add_trace(go.Bar(\n",
    "        y=df3[\"Bedrijfstak\"],\n",
    "        x=df3[var],\n",
    "        name=name,\n",
    "        orientation='h',\n",
    "        hovertemplate=f'%{{y}}<br>{name}: <b>%{{x}}% (very) satisfied</b><extra></extra>',\n",
    "        marker_color=color\n",
    "    ))\n",
    "\n",
    "# Customize the plot layout\n",
    "fig3.update_layout(\n",
    "    plot_bgcolor='white',\n",
    "    title=\"Percentage of employees satisfied with<br>collective agreement and salary (15-74 yrs), 2022\",\n",
    "    xaxis=dict(title='', title_standoff=10, automargin=True, range=[0, 100]),  # Hide the original x-axis title\n",
    "    yaxis=dict(title='', autorange=\"reversed\", automargin=True),  # Remove y-axis title and add more whitespace between items\n",
    "    legend=dict(title='', orientation='h', yanchor='bottom', y=-0.3, xanchor='right', x=0.04),  # Update legend settings\n",
    "    barmode='group',  # Stack bars instead of placing them side-by-side\n",
    "    height=600,\n",
    "    annotations=[dict(x=1.015, y=-0.15, xref='paper', yref='paper', showarrow=False, text=\"(%) very satisfied\")]  # Add annotation as x-axis title\n",
    ")\n",
    "\n",
    "# Show the plot\n",
    "fig3.show()"
   ]
  },
  {
   "cell_type": "markdown",
   "id": "dbf82375-b2e8-4a22-b5a9-2c45b960d08a",
   "metadata": {},
   "source": [
    "> *Figure 3: Vivamus elementum semper nisi. Aenean vulputate eleifend tellus. Aenean leo ligula, porttitor eu, consequat vitae, eleifend ac, enim. Aliquam lorem ante, dapibus in, viverra quis, feugiat a, tellus.*"
   ]
  },
  {
   "cell_type": "markdown",
   "id": "c0bcecf9-e17c-477a-a229-55277d48fe64",
   "metadata": {},
   "source": [
    "Li Europan lingues es membres del sam familie. Lor separat existentie es un myth. Por scientie, musica, sport etc, litot Europa usa li sam vocabular. Li lingues differe solmen in li grammatica, li pronunciation e li plu commun vocabules. Omnicos directe al desirabilite de un nov lingua franca: On refusa continuar payar custosi traductores."
   ]
  },
  {
   "cell_type": "markdown",
   "id": "e1ec4c90-ccd9-4940-9a0e-18799c438ef5",
   "metadata": {},
   "source": [
    "## Your Second Perspective"
   ]
  },
  {
   "cell_type": "markdown",
   "id": "005e94a9",
   "metadata": {},
   "source": [
    "Lorem ipsum dolor sit amet, consectetuer adipiscing elit. Aenean commodo ligula eget dolor. Aenean massa. Cum sociis natoque penatibus et magnis dis parturient montes, nascetur ridiculus mus. Donec quam felis, ultricies nec, pellentesque eu, pretium quis, sem. Nulla consequat massa quis enim. Donec pede justo, fringilla vel, aliquet nec, vulputate eget, arcu."
   ]
  },
  {
   "cell_type": "markdown",
   "id": "4a3eacb4-4812-474a-9900-71e2ac33cb5f",
   "metadata": {},
   "source": [
    "### The First Argument of Your Second Perspective"
   ]
  },
  {
   "cell_type": "markdown",
   "id": "62b3848e-5c37-482c-a584-c7c2a02a1e95",
   "metadata": {},
   "source": [
    "Over het algemeen "
   ]
  },
  {
   "cell_type": "code",
   "execution_count": 9,
   "id": "982ff45f",
   "metadata": {
    "tags": [
     "hide-input"
    ]
   },
   "outputs": [
    {
     "data": {
      "text/html": [
       "<div>            <script src=\"https://cdnjs.cloudflare.com/ajax/libs/mathjax/2.7.5/MathJax.js?config=TeX-AMS-MML_SVG\"></script><script type=\"text/javascript\">if (window.MathJax && window.MathJax.Hub && window.MathJax.Hub.Config) {window.MathJax.Hub.Config({SVG: {font: \"STIX-Web\"}});}</script>                    <div id=\"77c89f43-5ec1-49b7-9c81-e41d275fe392\" class=\"plotly-graph-div\" style=\"height:525px; width:100%;\"></div>            <script type=\"text/javascript\">                window.PLOTLYENV=window.PLOTLYENV || {};                                if (document.getElementById(\"77c89f43-5ec1-49b7-9c81-e41d275fe392\")) {                    Plotly.newPlot(                        \"77c89f43-5ec1-49b7-9c81-e41d275fe392\",                        [{\"customdata\":{\"dtype\":\"i2\",\"bdata\":\"3gffB+AH4QfiB+MH5AflB+YH5wfeB98H4AfhB+IH4wfkB+UH5gfnB94H3wfgB+EH4gfjB+QH5QfmB+cH3gffB+AH4QfiB+MH5AflB+YH5wfeB98H4AfhB+IH4wfkB+UH5gfnB94H3wfgB+EH4gfjB+QH5QfmB+cH3gffB+AH4QfiB+MH5AflB+YH5wfeB98H4AfhB+IH4wfkB+UH5gfnB94H3wfgB+EH4gfjB+QH5QfmB+cH3gffB+AH4QfiB+MH5AflB+YH5wfeB98H4AfhB+IH4wfkB+UH5gfnB94H3wfgB+EH4gfjB+QH5QfmB+cH3gffB+AH4QfiB+MH5AflB+YH5wfeB98H4AfhB+IH4wfkB+UH5gfnB94H3wfgB+EH4gfjB+QH5QfmB+cH3gffB+AH4QfiB+MH5AflB+YH5wfeB98H4AfhB+IH4wfkB+UH5gfnB94H3wfgB+EH4gfjB+QH5QfmB+cH3gffB+AH4QfiB+MH5AflB+YH5wfeB98H4AfhB+IH4wfkB+UH5gfnB94H3wfgB+EH4gfjB+QH5QfmB+cH3gffB+AH4QfiB+MH5AflB+YH5wfeB98H4AfhB+IH4wfkB+UH5gfnB94H3wfgB+EH4gfjB+QH5QfmB+cH3gffB+AH4QfjB+QH5QfmB+cH3gffB+AH4QfiB+MH5AflB+YH5wfeB98H4AfhB+IH4wfkB+UH5gfnB94H3wfgB+EH4gfjB+QH5QfmB+cH3gffB+AH4QfiB+MH5AflB+YH5wfeB98H4AfhB+IH4wfkB+UH5gfnB94H3wfgB+EH4gfjB+QH5QfmB+cH3gffB+AH4QfiB+MH5AflB+YH5wfeB98H4AfhB+IH4wfkB+UH5gfnB94H3wfgB+EH4gfjB+QH5QfmB+cH\",\"shape\":\"339, 1\"},\"hovertemplate\":\"\\u003cb\\u003e%{hovertext}\\u003c\\u002fb\\u003e\\u003cbr\\u003e\\u003cbr\\u003eGDP per capita, PPP (constant 2021 international $)=%{x}\\u003cbr\\u003eTotal Crime Rate per 100k=%{y}\\u003cbr\\u003eYear=%{customdata[0]}\\u003cextra\\u003e\\u003c\\u002fextra\\u003e\",\"hovertext\":[\"Albania\",\"Albania\",\"Albania\",\"Albania\",\"Albania\",\"Albania\",\"Albania\",\"Albania\",\"Albania\",\"Albania\",\"Austria\",\"Austria\",\"Austria\",\"Austria\",\"Austria\",\"Austria\",\"Austria\",\"Austria\",\"Austria\",\"Austria\",\"Belgium\",\"Belgium\",\"Belgium\",\"Belgium\",\"Belgium\",\"Belgium\",\"Belgium\",\"Belgium\",\"Belgium\",\"Belgium\",\"Bulgaria\",\"Bulgaria\",\"Bulgaria\",\"Bulgaria\",\"Bulgaria\",\"Bulgaria\",\"Bulgaria\",\"Bulgaria\",\"Bulgaria\",\"Bulgaria\",\"Croatia\",\"Croatia\",\"Croatia\",\"Croatia\",\"Croatia\",\"Croatia\",\"Croatia\",\"Croatia\",\"Croatia\",\"Croatia\",\"Cyprus\",\"Cyprus\",\"Cyprus\",\"Cyprus\",\"Cyprus\",\"Cyprus\",\"Cyprus\",\"Cyprus\",\"Cyprus\",\"Cyprus\",\"Czechia\",\"Czechia\",\"Czechia\",\"Czechia\",\"Czechia\",\"Czechia\",\"Czechia\",\"Czechia\",\"Czechia\",\"Czechia\",\"Denmark\",\"Denmark\",\"Denmark\",\"Denmark\",\"Denmark\",\"Denmark\",\"Denmark\",\"Denmark\",\"Denmark\",\"Denmark\",\"Estonia\",\"Estonia\",\"Estonia\",\"Estonia\",\"Estonia\",\"Estonia\",\"Estonia\",\"Estonia\",\"Estonia\",\"Estonia\",\"Finland\",\"Finland\",\"Finland\",\"Finland\",\"Finland\",\"Finland\",\"Finland\",\"Finland\",\"Finland\",\"Finland\",\"France\",\"France\",\"France\",\"France\",\"France\",\"France\",\"France\",\"France\",\"France\",\"France\",\"Germany\",\"Germany\",\"Germany\",\"Germany\",\"Germany\",\"Germany\",\"Germany\",\"Germany\",\"Germany\",\"Germany\",\"Greece\",\"Greece\",\"Greece\",\"Greece\",\"Greece\",\"Greece\",\"Greece\",\"Greece\",\"Greece\",\"Greece\",\"Hungary\",\"Hungary\",\"Hungary\",\"Hungary\",\"Hungary\",\"Hungary\",\"Hungary\",\"Hungary\",\"Hungary\",\"Hungary\",\"Iceland\",\"Iceland\",\"Iceland\",\"Iceland\",\"Iceland\",\"Iceland\",\"Iceland\",\"Iceland\",\"Iceland\",\"Iceland\",\"Ireland\",\"Ireland\",\"Ireland\",\"Ireland\",\"Ireland\",\"Ireland\",\"Ireland\",\"Ireland\",\"Ireland\",\"Ireland\",\"Italy\",\"Italy\",\"Italy\",\"Italy\",\"Italy\",\"Italy\",\"Italy\",\"Italy\",\"Italy\",\"Italy\",\"Latvia\",\"Latvia\",\"Latvia\",\"Latvia\",\"Latvia\",\"Latvia\",\"Latvia\",\"Latvia\",\"Latvia\",\"Latvia\",\"Liechtenstein\",\"Liechtenstein\",\"Liechtenstein\",\"Liechtenstein\",\"Liechtenstein\",\"Liechtenstein\",\"Liechtenstein\",\"Liechtenstein\",\"Liechtenstein\",\"Liechtenstein\",\"Lithuania\",\"Lithuania\",\"Lithuania\",\"Lithuania\",\"Lithuania\",\"Lithuania\",\"Lithuania\",\"Lithuania\",\"Lithuania\",\"Lithuania\",\"Luxembourg\",\"Luxembourg\",\"Luxembourg\",\"Luxembourg\",\"Luxembourg\",\"Luxembourg\",\"Luxembourg\",\"Luxembourg\",\"Luxembourg\",\"Luxembourg\",\"Malta\",\"Malta\",\"Malta\",\"Malta\",\"Malta\",\"Malta\",\"Malta\",\"Malta\",\"Malta\",\"Malta\",\"Montenegro\",\"Montenegro\",\"Montenegro\",\"Montenegro\",\"Montenegro\",\"Montenegro\",\"Montenegro\",\"Montenegro\",\"Montenegro\",\"Montenegro\",\"Netherlands\",\"Netherlands\",\"Netherlands\",\"Netherlands\",\"Netherlands\",\"Netherlands\",\"Netherlands\",\"Netherlands\",\"Netherlands\",\"Netherlands\",\"North Macedonia\",\"North Macedonia\",\"North Macedonia\",\"North Macedonia\",\"North Macedonia\",\"North Macedonia\",\"North Macedonia\",\"North Macedonia\",\"North Macedonia\",\"Norway\",\"Norway\",\"Norway\",\"Norway\",\"Norway\",\"Norway\",\"Norway\",\"Norway\",\"Norway\",\"Norway\",\"Poland\",\"Poland\",\"Poland\",\"Poland\",\"Poland\",\"Poland\",\"Poland\",\"Poland\",\"Poland\",\"Poland\",\"Portugal\",\"Portugal\",\"Portugal\",\"Portugal\",\"Portugal\",\"Portugal\",\"Portugal\",\"Portugal\",\"Portugal\",\"Portugal\",\"Romania\",\"Romania\",\"Romania\",\"Romania\",\"Romania\",\"Romania\",\"Romania\",\"Romania\",\"Romania\",\"Romania\",\"Serbia\",\"Serbia\",\"Serbia\",\"Serbia\",\"Serbia\",\"Serbia\",\"Serbia\",\"Serbia\",\"Serbia\",\"Serbia\",\"Slovenia\",\"Slovenia\",\"Slovenia\",\"Slovenia\",\"Slovenia\",\"Slovenia\",\"Slovenia\",\"Slovenia\",\"Slovenia\",\"Slovenia\",\"Spain\",\"Spain\",\"Spain\",\"Spain\",\"Spain\",\"Spain\",\"Spain\",\"Spain\",\"Spain\",\"Spain\",\"Sweden\",\"Sweden\",\"Sweden\",\"Sweden\",\"Sweden\",\"Sweden\",\"Sweden\",\"Sweden\",\"Sweden\",\"Sweden\",\"Switzerland\",\"Switzerland\",\"Switzerland\",\"Switzerland\",\"Switzerland\",\"Switzerland\",\"Switzerland\",\"Switzerland\",\"Switzerland\",\"Switzerland\"],\"legendgroup\":\"\",\"marker\":{\"color\":\"#636efa\",\"symbol\":\"circle\"},\"mode\":\"markers\",\"name\":\"\",\"orientation\":\"v\",\"showlegend\":false,\"x\":{\"dtype\":\"f8\",\"bdata\":\"8oFxlSwAyUAkC3tmQaHJQP6Q9zybhcpAgLRl20WOy0DbTy+B77vMQAVp2EW1c81AdCNQx9ejzEBtncNq4H\\u002fPQPDH1js\\u002fttBAEuVFtQaS0UDh8frm+r7tQPQwVvo\\u002fzO1AL+9T8PgZ7kDWD0B6hJLuQIqdCQL5Le9AxFgJmgSW70DnM0revHftQLMFwiYev+5A93V2O9cH8ECGO\\u002f\\u002fkQnHvQHoTxQCC2OtAPDaB18wX7EDc8paF4UjsQAf8\\u002fwdll+xAwHwAO\\u002fz+7EAkIqBFVYvtQFkcsu\\u002faAexA6r02xEqf7UAlM9z1s6DuQOCYdxKjuu5A4cmg4uhr1kCs3ISN6lTXQDWuccEBNdhAGvhA2NkN2UDbbv8bCeHZQC\\u002fnVbKeDNtAfHZkh0pW2kAJQYqzVp7cQCuvMMMx095A4w0ro7gu4EADVfEYm8vbQA3aumNgyNxAGXNOcawa3kDquk4Mc5jfQG+5pDmceOBAmsAaf7Im4UDMdS\\u002fL47vfQFTCemCVCOJAQTKdLQV340Cwf\\u002fgkMRbkQAAAAMCTy+FAAAAAwDqC4kAAAACgl6LjQAAAAIBykuRAAAAAYOKY5UAAAACg3I7mQAAAAKDhleVAAAAAgBLS50AAAACgqTrpQAAAACBrfOlAD9WWhsCb40DCpHJuUorkQCrsTumuB+VACJowuTAP5kCjlhagopvmQFxYz7pzUudAaVciCv4H5kAWr2cUgVbnQA+QdyzVoOdAlYrJYOcw50BlDc+t6s7tQDhY19+nOO5AsN39zmro7kCK6J1i96XvQHzXbCXsCfBABk+lAkNB8EAStUCUkdbvQJjMPuUyBfFAU698Ppol8UClXrdV6HHxQFPmQstPn+FAPUKb3Tnv4UDj\\u002fAYL23viQMlBtqhugONAOsEGXSYn5EC87FYkkdPkQNL8vXWYL+RAALsvM3Gb5UCq8Ms3TVXlQMFLvKFQXeRAg0FRLRm56UCO3Ur+D8LpQNy\\u002fOcE+WOpAKPm7vbMm60BPlImVTHDrQAqD4rpEx+tA3G7hzCsM60ARtUANzLrrQMa7fcgsDuxA3ahD1jqX60AUtvAr0pLoQP4Ku6Zcv+hAQM\\u002fRaALl6EAq9A4f8lbpQAaoDYQequlA8cqhwREZ6kBZcCur6hPoQLbAVryqpOlALeZywnM36kB2NCX5O2DqQHx4OuLq7OxAVzvx0Wom7UA\\u002fVcgvSZTtQPzc7OnvRO5A4xlW9++D7kBy8jDqVr\\u002fuQBzp+TTVdu1AoDWAfViI7kD4HkL9frruQKhmkZhV1u5AIjLIF1h73kCp2tt+\\u002fpzeQKir76cnu95AtdCNSdo+30APTcwvlfTfQMTYQAXYW+BAvuZTOsfF3UCL\\u002fK32ZF\\u002fgQJdKQZxTiOFAzL\\u002fQItD+4UCbU95iYH\\u002fdQKI65LH6qd5AG9Ql7Hdu30AlRn0YRm7gQPG6n49zVeFADg3cyWcv4kBBvnarFmjhQM1hvs6FtuJAPZ8yEyC040ARZrFRiaHjQDhJDA4zVuxAXA8ZDYRJ7UAEHoGgRLTuQEf6VW0iQO9AguPB9Ybp70B9kciGlszvQOG7ANygHe1Aaj5\\u002firIl7kBEZPq0cgXwQLLfSQ7IV\\u002fBANqVM7MIH8EASec+k1cnzQNFiGX02zvNAyMgAoVWP9UBEDxw2pub2QHMfx\\u002f6CuvdAD5DKrawq+UDbWDCB3fr8QO2rtx2Vq\\u002f5A2I5RahUz\\u002fEBkSZA0GrDmQB4xaVkx6eZAsFbQmMs750C7UhlGPqTnQEImthbi4edAWXHXJ1RD6EClhlU0IjjmQOYN05YsVOhA+6TmnLeD6UDgCFAwibPpQHZr2Y71jtxAkoOAnu3h3UBX20eJJ+3eQKaZGPmPIeBAMGW\\u002fMjr14EBjYo7dCTHhQDd+40ZAtuBAObtNETgG4kBDHExDoGbiQEtnQOr4u+JAAAAAAAAA+H8AAAAAAAD4fwAAAAAAAPh\\u002fAAAAAAAA+H8AAAAAAAD4fwAAAAAAAPh\\u002fAAAAAAAA+H8AAAAAAAD4fwAAAAAAAPh\\u002fAAAAAAAA+H\\u002f13hA59p3gQDvqwsjQP+FAp5Zx78fv4UB32\\u002ffLNAfjQBCZ403KJ+RAqPbMn3In5UAcY6j8UCjlQPivpDOhdeZAuFEf22bH5kCQcwqm9onmQByGvKGCof9AjQrj2SiY\\u002f0DaSzkQ4ToAQdVCzomBDABB2WFg1lDe\\u002f0A1L4RNgBQAQYogO4BHV\\u002f9ABsLZF22KAEEImFnNKW8AQXb80Mq02\\u002f9AUR3tX6r+5EC2URqz1HjmQLiC+z\\u002fx2+ZAJf6nIXcg6UAAblAzSgLqQGf5bh0YB+pAlkiW+uqS6EB8Vnpel7XrQKVlRxt6J+xAtfWPOkMa7UBue6sTGw\\u002fUQCYmgSw6utRASnXMbHVV1UDvBt47Z1bWQHvuWvQvetdABYhh+2Bw2EDupHYJ4bjUQI5lurobgddAquqHz1QX2UB+XQUm6LnaQL4wome7S+5AWvDZnCzN7kBi5oaQd2HvQMzh4g4gCPBA1jxcOWRM8EDQWi6rfZDwQKAHmibGq+9AjDC+Cdm98ECHCLWTwGnxQJ58zIAfQfFA7uk0kxMF0kCd7ORgy8PSQGC8AEp4XNNA\\u002fnPhN0qm00DoB28cwEHVQJnJporjetRAgzGs9xOg1UDdy\\u002fnSlknWQK8hvetDzNZAMuCyF+S19EDMr0O15OL0QFgx\\u002fuC58fRAjdPlyKFJ9UCa2AMbp1L1QAhZPKfbavVAiI1v0AAF9UDu3AE4grn1QJon\\u002fIZuLfZAlv9RFhoI9kDVaOo7uJ\\u002fdQFZ4L5EX9d5ACJ3SiNPo30BkJw4pU8bgQE+YayqN0uFAqOLj77Ok4kB+J9FWvkviQHbFirZyDORA5QDIsKAx5UAxzbM8EE3lQOa0PhwtI+FAcn3TcGt74UDP2vyGiePhQLHJna\\u002fjhuJArxQerXMa40CxE00tiZ\\u002fjQJsgfk+H\\u002fuFAFz\\u002f7XTXg4kDKhFWQ2w3kQGujD8T6R+RAv2xfMa9+20AQs+LGG3\\u002fcQFsvf9bpet1As\\u002fLeT2AK4EBMVyy9Zh\\u002fhQNWSfHhv4+FA72Z5BohT4UDOd57GkWziQI8pog6IOuNAa9H1svqt40BOD4U8oYDRQMauwzn50dFA2PpWDl5y0kBddqMmxfvSQPIBQ2+U+dNA1iexYk4J1UDaVQRTy\\u002fnUQP+IBHaa29ZAtbpC3qMO2ECBs4+jcCPZQFaBndUUZOJAm7BODCPR4kDHBeFWrV\\u002fjQM7ELL\\u002fpXORArGF6Y38t5UDeEQ\\u002fdmMTlQKPw2DRHveRATmPn1EFr5kCW5AnXBPvmQNLL8ViMX+dAin+OtS8t5ECz0zcTHAPlQNfeqkE\\u002fm+VAUfPeOxku5kDVW4sHtJzmQL6PlD0F5OZAI2GpZ39J5EBd5TpSup7lQG044y19yuZAgNt4f6Ud50CE8OlUrN\\u002frQOmM5Ur\\u002fy+xAieNyzAIb7UClIFRedT3tQEbDRr7Oc+1AzQHlgw\\u002fm7UDv\\u002fE0xjxbtQCLccmt2oe5ADwdA9u3d7kA3h4sOO6DuQDY\\u002fLI5PlvJAeuzXr9Kt8kDsbmEbvNvyQKxPB0cT8PJAFpIVGSdW80CPvS2oGGvzQC8+kJ423fJAGo0idcm680AQFcvysBH0QGV0MAHb9fNA\"},\"xaxis\":\"x\",\"y\":{\"dtype\":\"f8\",\"bdata\":\"cD0K16PsdkBcj8L1KAR2QML1KFyPenlAUrgehev5dUCQwvUoXMN1QJqZmZmZcXVAAAAAAAB4cEAK16NwPap1QK5H4XoUWnRA4noUrkcxcUDC9ShcDxmpQAAAAAAA66dAuB6F69Glq0ByPQrXIxOqQNajcD2K9qdA7FG4HgV7qEB6FK5H4TClQDMzMzMzPqNAR+F6FK5Np0A+Ctej8DmjQM7MzMzMvqtApHA9CteqrUA9CtejsAKwQClcj8L1YK9ACtejcL1kr0DXo3A9ilawQHsUrkfh\\u002fKpASOF6FK69q0ABAAAAgEqvQIXrUbieradACtejcD1qi0AUrkfhegqJQAAAAAAAoIdAUrgehevfikCkcD0K1\\u002f2IQB+F61G4bIZAexSuR+HQgkA9CtejcB2BQI7C9Shcr4NAH4XrUbh+gkAUrkfhevaHQD0K16NwFYlAH4XrUbh6kEC4HoXrUfyPQFyPwvUoWo5AmpmZmZkZj0BnZmZmZs6JQEjhehSutYlAKFyPwvX8i0AqXI\\u002fC9RCKQDMzMzMzvYBAUrgehetlfUAAAAAAAPB7QGZmZmZmCnxA7FG4HoVveUCF61G4HgF3QK5H4XoUrnJAXI\\u002fC9SgMdEBnZmZmZkZ4QFyPwvUoQHVA4XoUrkeBmECkcD0K11OTQOJ6FK5HH5JACtejcD2FkECF61G4HveNQD4K16NwQY5A4HoUrketiEDhehSuR6OHQOJ6FK5Hc4xA7FG4HoVnhkBSuB6Fq6+4QOxRuB6FLbZAKVyPwjXluEAfhetR+C64QFyPwvUoQLZAFK5H4Xo6tUBwPQrX4+myQB+F61F4l7BA7FG4HsXmskAzMzMzM+CvQFK4HoXrcphAhetRuB6MlECjcD0K11qUQDMzMzMzP5NAzczMzMxpkUBSuB6F6wyQQFyPwvUoRo9AC9ejcD2XkUBwPQrXo6eRQLgehetRD5BAuB6F69FhqUBnZmZm5suoQIXrUbge6a5AhetRuB7erEAAAAAAgNysQEjhehQusK5A4XoUrgcRsUCkcD0KV1WvQAvXo3C91a9AFa5H4foJqUC4HoXrUaOnQDMzMzMzBqdAXY\\u002fC9SjHrEDD9ShcDyOsQClcj8L11atAzczMzMw+rECuR+F6lD6oQHA9CtejFapAzczMzEyJrEB6FK5H4eGpQBSuR+F686RAXI\\u002fC9ahNpUBdj8L1KBmtQGdmZmbmTatAR+F6FC7GqUDC9ShcjwipQJDC9SjczKdAAAAAAAAzpkCsR+F6FGaoQKRwPQrXo6JAhetRuB5zj0DXo3A9CtyQQDMzMzMzwJFAPQrXo3CHk0CuR+F6FJWRQKRwPQrXpJJAexSuR+EIjEBbj8L1KMKMQIXrUbge+JBAzczMzMwqjkBI4XoUriaXQArXo3A9xJdAUrgeheupl0A+CtejcJeSQB+F61G4uI9AFK5H4XrkikC4HoXrURyJQI\\u002fC9ShcZYlAPgrXo3D\\u002fiUC5HoXrUVCEQEjhehQuuaJAmpmZmZnEokCjcD0KV8OgQKRwPQpXOKNAw\\u002fUoXA+RokB7FK5HYWWiQJqZmZkZq6BASOF6FK4uoUD2KFyPwiqgQNejcD0KPJ1AuB6F69GApUBH4XoUrgakQHA9CtcjtqFAUrgehet3okCQwvUoXACiQIXrUbied6JAexSuR+F\\u002fnUAK16NwPU2dQIXrUbgeM6BAFa5H4XqbnkDrUbgehfuhQJDC9SjcxaBAAAAAAAAqokAL16NwPVKhQLkehetR9aBA61G4HoVtoEAVrkfhevqaQMP1KFyPxJ9AuB6F61F7oUBI4XoUrlyZQEjhehSuIZRA9ihcj8K3k0Bcj8L1KIWVQFK4HoXrr5RAwvUoXI8ilECuR+F6FKeSQDMzMzMz1pFACtejcD1Ci0AK16NwPSSNQLgehetR6opAPgrXo\\u002fC8oUAyMzMzM+SbQBSuR+H6bqRApHA9Ctf3okCG61G4nqioQJDC9Sjc\\u002fqlAC9ejcD1WrUBcj8L1qJ+jQJqZmZmZlaVAkML1KFxbqECG61G4HkWTQJqZmZmZXJBA9ihcj8J\\u002fkECuR+F6FHCOQHsUrkfhVIlA2KNwPQq1hkAAAAAAACCEQB+F61G4loJAMzMzMzMzhUBI4XoUrmGBQML1KFyP06xAMzMzMzP5p0C4HoXrUQKoQJDC9Shcb6VANDMzMzPpp0DNzMzMTKKoQB+F61G4BqhA61G4HgUSqkBxPQrXYxOyQIXrUbge+LFA4noUrkcfn0BxPQrXIwqgQB6F61E43qBAPQrXo\\u002fAooECPwvUoXKOaQDQzMzMz4ZhAzszMzMx8kUBxPQrXo4eXQM3MzMzMGpRAPQrXo3C3jkD3KFyPwgl3QK5H4XoU2nVA16NwPQobc0BwPQrXo\\u002fByQCpcj8L1EHJAAAAAAAB4cUCkcD0K15NrQHsUrkfhcm5AUrgeheuFcEB7FK5H4QJsQFK4HoXrUKdAFa5H4XpmpUBwPQrXI4CmQHsUrkfh5qBAzszMzMxfnkCkcD0K1\\u002fCdQPYoXI\\u002fC9plANDMzMzOrlkBcj8L1KC2bQLgehetRu5tAhOtRuB4vjEAVrkfhepQ3QMP1KFyPAjZAhutRuB5FPEB7FK5H4XpRQJqZmZmZOUxACtejcD1KS0CuR+F6FM5QQOxRuB6Fe1JAAAAAAICsrkAL16NwvRCpQArXo3A9CapAmpmZmZmtp0CQwvUoXF+nQAAAAAAAvaZAw\\u002fUoXA+spEA9Ctej8HeiQNejcD2KWKVAr0fhepS8o0DrUbgehWmNQML1KFyPcolAKVyPwvWVkEDsUbgehTGQQLoehetR8o5AKVyPwvWRkEA+CtejcHSQQIXrUbgei5JAC9ejcD3TkkDsUbgehYGGQGZmZmZmpZZAFK5H4Xovl0AAAAAAAByYQI\\u002fC9ShcAphA4XoUrkfTl0B7FK5H4eiXQB6F61G4MZVAFK5H4XoVlUCRwvUoXKyXQI\\u002fC9ShcEJFAXI\\u002fC9SjbkUBcj8L1KJCHQLgehetRCIVArkfhehRMiEDiehSuR\\u002fWJQJDC9Shcm4RAXY\\u002fC9SgSg0ApXI\\u002fC9SCEQHoUrkfhooNAHoXrUbhQg0D2KFyPwtmLQBSuR+F6vohAXI\\u002fC9Si4iECtR+F6FDCHQClcj8L1GoZAj8L1KFx1hUCF61G4HkeCQMzMzMzMqINApHA9CtcvhEAzMzMzMyGBQB6F61G4fKFA4noUrkfNmkAAAAAAAEOeQD0K16NwvJtA4noUrkdGmUBxPQrXo+6eQChcj8L1A51AmpmZmZlwlUDNzMzMzBOZQKRwPQrX2phA7VG4HoUxj0DsUbgehZeQQD0K16NwZpVA16NwPQrolUBmZmZmZlqYQDQzMzMzxJlAKVyPwvVBl0A+CtejcFWYQEjhehSu\\u002fp1ArkfhehQ6kEDhehSuxzu5QJmZmZlZC7lA4noUrmepwEDYo3A9KhPBQOxRuB5lL8FAuB6F65HZwECPwvUonGnAQAvXo3B9o75AZmZmZibovUDD9Shczw+0QMP1KFyPZ69AFK5H4XrTrECkcD0K13+sQPYoXI\\u002fC5apArkfhepTfqEDNzMzMzK2oQKRwPQpXrqZASOF6FC6kpUDNzMzMzHqnQHA9CtejBKhA\"},\"yaxis\":\"y\",\"type\":\"scatter\"},{\"hovertemplate\":\"\\u003cb\\u003eOLS trendline\\u003c\\u002fb\\u003e\\u003cbr\\u003eTotal Crime Rate per 100k = 0.037949 * GDP per capita, PPP (constant 2021 international $) + 103.493\\u003cbr\\u003eR\\u003csup\\u003e2\\u003c\\u002fsup\\u003e=0.308796\\u003cbr\\u003e\\u003cbr\\u003eGDP per capita, PPP (constant 2021 international $)=%{x}\\u003cbr\\u003eTotal Crime Rate per 100k=%{y} \\u003cb\\u003e(trend)\\u003c\\u002fb\\u003e\\u003cextra\\u003e\\u003c\\u002fextra\\u003e\",\"legendgroup\":\"\",\"marker\":{\"color\":\"#636efa\",\"symbol\":\"circle\"},\"mode\":\"lines\",\"name\":\"\",\"showlegend\":false,\"x\":{\"dtype\":\"f8\",\"bdata\":\"8oFxlSwAyUAkC3tmQaHJQP6Q9zybhcpAgLRl20WOy0B0I1DH16PMQNtPL4Hvu8xABWnYRbVzzUBtncNq4H\\u002fPQPDH1js\\u002fttBATg+FPKGA0UAS5UW1BpLRQMauwzn50dFA7uk0kxMF0kDY+lYOXnLSQJ3s5GDLw9JAXXajJsX70kBgvABKeFzTQP5z4TdKptNA8gFDb5T500Bue6sTGw\\u002fUQJnJporjetRA7qR2CeG41EAmJoEsOrrUQNpVBFPL+dRA1iexYk4J1UDoB28cwEHVQEp1zGx1VdVAgzGs9xOg1UDdy\\u002fnSlknWQO8G3jtnVtZA4cmg4uhr1kCvIb3rQ8zWQP+IBHaa29ZArNyEjepU10B77lr0L3rXQI5lurobgddAtbpC3qMO2EA1rnHBATXYQAWIYftgcNhAGvhA2NkN2UCq6ofPVBfZQIGzj6NwI9lA227\\u002fGwnh2UB8dmSHSlbaQH5dBSboudpAL+dVsp4M20C\\u002fbF8xr37bQANV8Riby9tAELPixht\\u002f3EB2a9mO9Y7cQAlBirNWntxADdq6Y2DI3EBbL3\\u002fW6XrdQJtT3mJgf91A1WjqO7if3UC+5lM6x8XdQJKDgJ7t4d1AGXNOcawa3kAiMsgXWHveQKna237+nN5Aojrksfqp3kCoq++nJ7veQCuvMMMx095AV9tHiSft3kBWeC+RF\\u002fXeQLXQjUnaPt9AG9Ql7Hdu30Dquk4Mc5jfQMx1L8vju99ACJ3SiNPo30APTcwvlfTfQLPy3k9gCuBAppkY+Y8h4EDjDSujuC7gQMTYQAXYW+BAi\\u002fyt9mRf4EAlRn0YRm7gQG+5pDmceOBA9d4QOfad4EA3fuNGQLbgQGQnDilTxuBAMGW\\u002fMjr14EBMVyy9Zh\\u002fhQOa0PhwtI+FAmsAaf7Im4UBjYo7dCTHhQDvqwsjQP+FA72Z5BohT4UDxup+Pc1XhQEG+dqsWaOFAcn3TcGt74UCXSkGcU4jhQFPmQstPn+FAAAAAwJPL4UBPmGsqjdLhQNWSfHhv4+FAz9r8honj4UA9QpvdOe\\u002fhQKeWce\\u002fH7+FAmyB+T4f+4UDMv9Ai0P7hQDm7TRE4BuJAVMJ6YJUI4kAODdzJZy\\u002fiQH4n0Va+S+JAVoGd1RRk4kBDHExDoGbiQM53nsaRbOJA4\\u002fwGC9t74kAAAADAOoLiQLHJna\\u002fjhuJAqOLj77Ok4kDNYb7OhbbiQEtnQOr4u+JAm7BODCPR4kAXP\\u002ftdNeDiQHfb98s0B+NArxQerXMa40CPKaIOiDrjQMcF4VatX+NAQTKdLQV340DJQbaoboDjQA\\u002fVlobAm+NAsRNNLYmf40ARZrFRiaHjQAAAAKCXouNAa9H1svqt40A9nzITILTjQHbFirZyDORAyoRVkNsN5ECwf\\u002fgkMRbkQDrBBl0mJ+RAEJnjTcon5ECKf461Ly3kQNL8vXWYL+RAa6MPxPpH5EAjYalnf0nkQM7ELL\\u002fpXORAwUu8oVBd5EDCpHJuUorkQAAAAIBykuRAo\\u002fDYNEe95EC87FYkkdPkQFEd7V+q\\u002fuRAs9M3ExwD5UAq7E7prgflQKj2zJ9yJ+VAHGOo\\u002fFAo5UCsYXpjfy3lQOUAyLCgMeVAMc2zPBBN5UCq8Ms3TVXlQAAAAKDhleVAAAAAYOKY5UDX3qpBP5vlQAC7LzNxm+VAXeU6Urqe5UDeEQ\\u002fdmMTlQGlXIgr+B+ZACJowuTAP5kBR8947GS7mQKWGVTQiOOZATmPn1EFr5kD4r6QzoXXmQLZRGrPUeOZAkHMKpvaJ5kAAAACg3I7mQKOWFqCim+ZA1VuLB7Sc5kBkSZA0GrDmQLhRH9tmx+ZAbTjjLX3K5kC4gvs\\u002f8dvmQL6PlD0F5OZAHjFpWTHp5kCW5AnXBPvmQIDbeH+lHedAlYrJYOcw50CwVtCYyzvnQFxYz7pzUudAFq9nFIFW50DSy\\u002fFYjF\\u002fnQA+QdyzVoOdAu1IZRj6k50AAAACAEtLnQEImthbi4edAWXArq+oT6EBZcdcnVEPoQOYN05YsVOhAFLbwK9KS6ECWSJb66pLoQP4Ku6Zcv+hAQM\\u002fRaALl6EAl\\u002fqchdyDpQAAAAKCpOulAKvQOH\\u002fJW6UAAAAAga3zpQPuk5py3g+lAtsBWvKqk6UAGqA2EHqrpQOAIUDCJs+lAg0FRLRm56UCO3Ur+D8LpQABuUDNKAupAZ\\u002fluHRgH6kDxyqHBERnqQC3mcsJzN+pA3L85wT5Y6kB2NCX5O2DqQNxu4cwrDOtAKPm7vbMm60BPlImVTHDrQN2oQ9Y6l+tAfFZ6Xpe160ARtUANzLrrQAqD4rpEx+tAehPFAILY60CE8OlUrN\\u002frQFkcsu\\u002faAexAxrt9yCwO7EA8NoHXzBfsQKVlRxt6J+xA3PKWheFI7EA4SQwOM1bsQAf8\\u002fwdll+xA6YzlSv\\u002fL7EB8eDri6uzsQMB8ADv8\\u002fuxA7\\u002fxNMY8W7UC19Y86QxrtQInjcswCG+1A4bsA3KAd7UBXO\\u002fHRaibtQKUgVF51Pe1AXA8ZDYRJ7UBGw0a+znPtQBzp+TTVdu1A5zNK3rx37UAkIqBFVYvtQD9VyC9JlO1A6r02xEqf7UDh8frm+r7tQPQwVvo\\u002fzO1AZQ3PrerO7UDNAeWDD+btQC\\u002fvU\\u002fD4Ge5Aaj5\\u002firIl7kA4WNffpzjuQPzc7OnvRO5AvjCiZ7tL7kDjGVb374PuQKA1gH1YiO5A1g9AeoSS7kA3h4sOO6DuQCUz3PWzoO5AItxya3ah7kAEHoGgRLTuQPgeQv1+uu5A4Jh3EqO67kCzBcImHr\\u002fuQHLyMOpWv+5AWvDZnCzN7kCoZpGYVdbuQA8HQPbt3e5AsN39zmro7kCKnQkC+S3vQEf6VW0iQO9AYuaGkHdh70CGO\\u002f\\u002fkQnHvQMRYCZoElu9AiuidYvel70CgB5omxqvvQH2RyIaWzO9AErVAlJHW70CC48H1hunvQERk+rRyBfBANqVM7MIH8ED3dXY71wfwQMzh4g4gCPBAfNdsJewJ8EAGT6UCQ0HwQNY8XDlkTPBAst9JDshX8EDQWi6rfZDwQIwwvgnZvfBAmMw+5TIF8UBTr3w+miXxQJ58zIAfQfFAhwi1k8Bp8UClXrdV6HHxQDY\\u002fLI5PlvJAeuzXr9Kt8kDsbmEbvNvyQC8+kJ423fJArE8HRxPw8kAWkhUZJ1bzQI+9LagYa\\u002fNAGo0idcm680ASec+k1cnzQNFiGX02zvNAZXQwAdv180AQFcvysBH0QDLgshfktfRAzK9DteTi9EBYMf7gufH0QIiNb9AABfVAjdPlyKFJ9UCa2AMbp1L1QAhZPKfbavVAyMgAoVWP9UDu3AE4grn1QJb\\u002fURYaCPZAmif8hm4t9kBEDxw2pub2QHMfx\\u002f6CuvdAD5DKrawq+UDYjlFqFTP8QNtYMIHd+vxA7au3HZWr\\u002fkCKIDuAR1f\\u002fQI0K49komP9AHIa8oYKh\\u002f0B2\\u002fNDKtNv\\u002fQNlhYNZQ3v9A1ULOiYEMAEE1L4RNgBQAQdpLORDhOgBBCJhZzSlvAEEGwtkXbYoAQQ==\"},\"xaxis\":\"x\",\"y\":{\"dtype\":\"f8\",\"bdata\":\"n3zaYQdqgkCmI1W01cuCQDNaiVl8VoNAgzBN2S\\u002f3g0D0JzUPuZ+EQKNshQBaroRAhjXFbO8dhUDg9F+rM1yGQO8kaqJPh4dA2rLPAhR9iEAqumMpNJKIQOjb5fvb34hAOPkcw+odiUAp2J3qoqKJQBFXvcuEBYpAtZVlZ35JikAUw1887L6KQJzNrkORGItAraeiRLZ9i0AbRlI22peLQHGO25m9GoxAtGWR\\u002fwRmjEBy6wsfqGeMQOttQrTZtIxA+xYECLDHjEDzkXZOOwyNQAhozCsqJI1AdzDhrMd+jUDpwiD5oEyOQCUCf5gwXI5ANyCmek52jkBNAHpSUeuOQKhpm5Xx\\u002fY5A8TK\\u002fFkORj0Dr4BDbhb6PQB+0+3Dtxo9APAXASGY5kECbcFb5sVCQQAVCOrK+dJBAclg8AlzUkEBcxXKfHdqQQIbiuMl34ZBA09FFV5ZUkUDO56JtyJuRQArtephE2JFAdSGNb30KkkD74SiAv0+SQFWAkRp0fpJAQucr0nHrkkCg6rOjEfWSQI0lajVo\\u002fpJAnq+4h+4Xk0AHifQhVoSTQLkJjd4Lh5NArqkCQq+ak0CnrXILy7GTQEJS36XiwpNAs08eGVflk0C3FLR3CSCUQPTfCP53NJRAnWRVZFo8lEBHXKwnyEaUQI8p+NNgVZRANhOOCCRllEDxEHPZ9WmUQGdPByG\\u002flpRAekcBeqizlEC0d7b0Jc2UQIuMbceq4pRAP6mnqfP9lEBAXg8TFwWVQCOoYn+fGJVApzkXksc0lUDvTOFdwkSVQLVjTf2Ne5VA5Jm\\u002fx91\\u002flUDal0h375GVQOPZ2tZ8npVAq9YHntjLlUAn4YGeV+mVQE9CcJnc\\u002fJVAI5HojdE1lkCc22SFCGmWQN3eCQ2ebZZAWL41quRxlkDG2hiLc36WQLQ5fmVlkJZA+xbvmVaolkAZ0JqBq6qWQDoYkmJNwZZAyzHQAsfYlkCCx518c+iWQOllHwxdBJdAAUx3NB46l0Ay\\u002fQJblkKXQC1uujgXV5dATMcq3TZXl0Ah13epaGWXQGzGzy8VZpdA+xIT4f13l0BI0upQVniXQCFPbaxUgZdAuiPLvTOEl0ABOsmfWLOXQNmITlDC1ZdAdomDbFDzl0BE71B\\u002fZ\\u002faXQJUPTCyf\\u002fZdARRYqUS8QmEB6ZQbP7BeYQPpko3iVHZhAsDfw08lBmEBYMFWdbVeYQK+fnMkLXphAJ9U4ZL93mEBkAejODIqYQHBPAVxouZhA2KCsZsfQmEDW\\u002fJs\\u002fvPeYQI+\\u002frgLYJJlAtoXG3zBBmUDog3nenkyZQHx8F\\u002f7LbZlAwmh9SmRymUDTGz440nSZQHyYaHgadplAyQ7wcO6DmUAX1PgYZYuZQHF79Lem9plAlvWH7Fz4mUAxKeffewKaQJ3LkrUTF5pA7NEwy9oXmkAGtqlTaB6aQPNT7ElVIZpA64nLvfE+mkCl7CWxyUCaQGuFT4NdWJpAecv\\u002fc9pYmkANiZAmgo+aQLsfNx5gmZpAB3K6TGPNmkASGtBmdOiaQGPtp8zKHJtAD3i4YjAim0BNywQ2viebQJNJBhlRTptAbqW2IF9Pm0CIPt3dqVWbQK5f1dGtWptAJ15E\\u002fP57m0CG6BsQAIabQENAgnps1JtAuLoBBhLYm0BGy2OS8NqbQGX0tDgt25tAeo3Xpirfm0DC2TVjJw2cQGnQ4BT\\u002fXpxArDLSxrxnnEAA6514RY2cQLw3KiV1mZxAyzIlVYrXnEDgAWjtIuScQPsHTxkG6JxALZeOQNT8nEDbgkoKxwKdQADrmwVKEp1A8wvzCJYTnUBiE\\u002f\\u002fLJCudQMBO7RJwR51AskAX0S9LnUANviyyYWCdQBydDv8wap1A8P9i83hwnUDVLHi0HoadQOKqAqgrsJ1AMeODV47HnUCqa4tDyNSdQBH2fsFL8J1AxMPUejf1nUD\\u002fcr0QMwCeQJdUg5N6T55A230s155TnkB0Y7kSRoueQAAuMlV5np5AB1x+pzvbnkBeqLwFzxSfQDdUpeZDKZ9ACfnzald1n0CeofiKdXWfQCgvjDduq59AlzH5\\u002fiXZn0AZxqXFrBCgQEU6c9iUIKBA\\u002fvgfKMExoEDZrz7fgUigQNmCLWPwTKBAXgltDvJgoEAMYCCNQWSgQHHcw0X5aaBAfIId5VltoECX0x5Fy3KgQO9Iu7XKmaBAVcFxfrWcoEDyjxaJn6egQNM0TjYSuqBA8VAphPvNoEA4yOpW1dKgQERbFAg7O6FAIUK6\\u002fFZLoUC1SvTWBnihQOApjy+qj6FAuWhaihmioUBGmUC5QqWhQM9eCkTVrKFAyuDh7ky3oUBVOSS1pruhQCAKk+5n0KFAy99y5eLXoUDoS1EIu92hQKu7RNI\\u002f56FAdKXnGYj7oUCZyGNQngOiQCkwAzI0K6JAAwKEsCRLokCzlgzJIV+iQJfDbjgaaqJAW4EMjWp4okCfJN0uqnqiQI8PTIAee6JAHALjWbV8okCifZR9C4KiQMWoLf4IkKJAfd4eLVuXokD5bpD3CLGiQM3McDXfsqJAodCo3muzokC3+Iq\\u002fUb+iQApihVzBxKJAFMJfJnDLokDtuNa0rd6iQB3581q85qJAqdtW4VrookA47xlYaPaiQAIlHnftFaNAmSc8\\u002fQsdo0AOLKLajiijQPl8C90DMKNAU4LVDSQ0o0DNecCNRFajQE6vbsbxWKNA3rqs3x5fo0CsF7BwcmejQCBH0tm7Z6NAbcNj7DFoo0BysA8InXOjQKnGLhpld6NAgIDdAnt3o0BVsb5\\u002fM3qjQBR9\\u002fvZVeqNAYOUNbbyCo0AjbPZCTIijQKtBTtnojKNANNs+C0eTo0CiBXytgr2jQKoHp7qJyKNAGCg06cbco0Cee3b0XeajQCKzJ2Cv\\u002fKNAlkwJYF4GpEAUZGwd5QmkQEv+na\\u002fRHaRAddp\\u002fEuEjpEAfFUj3Yy+kQA16+M2mQ6RAdE30+HVGpEAwC6aijkakQPIenRLnRqRAFa\\u002fiyRVJpEDKFO6QSYykQKxQ7Y7NmaRAsi4Bc6KnpECeGyAqgOykQHOt86GUI6VAR10FGDp6pUAPLsmxk6GlQLnLJTr\\u002fwqVAFMuq81X0pUDubr9BPf6lQL0nc\\u002f5SYadA\\u002fUdMbuB9p0ArUZBmobWnQPzzxA1tt6dA9vmN0VTOp0CL4NxySkqoQJRY1lm5Y6hAoN3ean\\u002fEqEAW8\\u002f9ixdaoQGHAEIEW3KhA4SvihzoMqUArslsLCC6pQJ0R2CZu9alAkS1HaRQsqkBAW1KSFz6qQPJyX2WAVapAOIWclNeoqkD9jb3xy7OqQPjKZNQw0apAGQ0FkHz9qkA2xMeWszCrQP\\u002f8KIAkkKtAk9GVh3m9q0AZ4M6WZZ6sQIfzM\\u002fisn61AtAa0tcJer0D\\u002f9IuhzYaxQMEr1HwbALJAPIKmodgGs0DMN0kEGW+zQOIrdfF9lrNAc6FiaCucs0CZ2uRTgb+zQAk1LvQWwbNA0zUfpLrks0A310QqcO6zQL32owgLHbRAMRoUBolctEAoAW9ypH20QA==\"},\"yaxis\":\"y\",\"type\":\"scatter\"}],                        {\"template\":{\"data\":{\"histogram2dcontour\":[{\"type\":\"histogram2dcontour\",\"colorbar\":{\"outlinewidth\":0,\"ticks\":\"\"},\"colorscale\":[[0.0,\"#0d0887\"],[0.1111111111111111,\"#46039f\"],[0.2222222222222222,\"#7201a8\"],[0.3333333333333333,\"#9c179e\"],[0.4444444444444444,\"#bd3786\"],[0.5555555555555556,\"#d8576b\"],[0.6666666666666666,\"#ed7953\"],[0.7777777777777778,\"#fb9f3a\"],[0.8888888888888888,\"#fdca26\"],[1.0,\"#f0f921\"]]}],\"choropleth\":[{\"type\":\"choropleth\",\"colorbar\":{\"outlinewidth\":0,\"ticks\":\"\"}}],\"histogram2d\":[{\"type\":\"histogram2d\",\"colorbar\":{\"outlinewidth\":0,\"ticks\":\"\"},\"colorscale\":[[0.0,\"#0d0887\"],[0.1111111111111111,\"#46039f\"],[0.2222222222222222,\"#7201a8\"],[0.3333333333333333,\"#9c179e\"],[0.4444444444444444,\"#bd3786\"],[0.5555555555555556,\"#d8576b\"],[0.6666666666666666,\"#ed7953\"],[0.7777777777777778,\"#fb9f3a\"],[0.8888888888888888,\"#fdca26\"],[1.0,\"#f0f921\"]]}],\"heatmap\":[{\"type\":\"heatmap\",\"colorbar\":{\"outlinewidth\":0,\"ticks\":\"\"},\"colorscale\":[[0.0,\"#0d0887\"],[0.1111111111111111,\"#46039f\"],[0.2222222222222222,\"#7201a8\"],[0.3333333333333333,\"#9c179e\"],[0.4444444444444444,\"#bd3786\"],[0.5555555555555556,\"#d8576b\"],[0.6666666666666666,\"#ed7953\"],[0.7777777777777778,\"#fb9f3a\"],[0.8888888888888888,\"#fdca26\"],[1.0,\"#f0f921\"]]}],\"contourcarpet\":[{\"type\":\"contourcarpet\",\"colorbar\":{\"outlinewidth\":0,\"ticks\":\"\"}}],\"contour\":[{\"type\":\"contour\",\"colorbar\":{\"outlinewidth\":0,\"ticks\":\"\"},\"colorscale\":[[0.0,\"#0d0887\"],[0.1111111111111111,\"#46039f\"],[0.2222222222222222,\"#7201a8\"],[0.3333333333333333,\"#9c179e\"],[0.4444444444444444,\"#bd3786\"],[0.5555555555555556,\"#d8576b\"],[0.6666666666666666,\"#ed7953\"],[0.7777777777777778,\"#fb9f3a\"],[0.8888888888888888,\"#fdca26\"],[1.0,\"#f0f921\"]]}],\"surface\":[{\"type\":\"surface\",\"colorbar\":{\"outlinewidth\":0,\"ticks\":\"\"},\"colorscale\":[[0.0,\"#0d0887\"],[0.1111111111111111,\"#46039f\"],[0.2222222222222222,\"#7201a8\"],[0.3333333333333333,\"#9c179e\"],[0.4444444444444444,\"#bd3786\"],[0.5555555555555556,\"#d8576b\"],[0.6666666666666666,\"#ed7953\"],[0.7777777777777778,\"#fb9f3a\"],[0.8888888888888888,\"#fdca26\"],[1.0,\"#f0f921\"]]}],\"mesh3d\":[{\"type\":\"mesh3d\",\"colorbar\":{\"outlinewidth\":0,\"ticks\":\"\"}}],\"scatter\":[{\"fillpattern\":{\"fillmode\":\"overlay\",\"size\":10,\"solidity\":0.2},\"type\":\"scatter\"}],\"parcoords\":[{\"type\":\"parcoords\",\"line\":{\"colorbar\":{\"outlinewidth\":0,\"ticks\":\"\"}}}],\"scatterpolargl\":[{\"type\":\"scatterpolargl\",\"marker\":{\"colorbar\":{\"outlinewidth\":0,\"ticks\":\"\"}}}],\"bar\":[{\"error_x\":{\"color\":\"#2a3f5f\"},\"error_y\":{\"color\":\"#2a3f5f\"},\"marker\":{\"line\":{\"color\":\"#E5ECF6\",\"width\":0.5},\"pattern\":{\"fillmode\":\"overlay\",\"size\":10,\"solidity\":0.2}},\"type\":\"bar\"}],\"scattergeo\":[{\"type\":\"scattergeo\",\"marker\":{\"colorbar\":{\"outlinewidth\":0,\"ticks\":\"\"}}}],\"scatterpolar\":[{\"type\":\"scatterpolar\",\"marker\":{\"colorbar\":{\"outlinewidth\":0,\"ticks\":\"\"}}}],\"histogram\":[{\"marker\":{\"pattern\":{\"fillmode\":\"overlay\",\"size\":10,\"solidity\":0.2}},\"type\":\"histogram\"}],\"scattergl\":[{\"type\":\"scattergl\",\"marker\":{\"colorbar\":{\"outlinewidth\":0,\"ticks\":\"\"}}}],\"scatter3d\":[{\"type\":\"scatter3d\",\"line\":{\"colorbar\":{\"outlinewidth\":0,\"ticks\":\"\"}},\"marker\":{\"colorbar\":{\"outlinewidth\":0,\"ticks\":\"\"}}}],\"scattermap\":[{\"type\":\"scattermap\",\"marker\":{\"colorbar\":{\"outlinewidth\":0,\"ticks\":\"\"}}}],\"scattermapbox\":[{\"type\":\"scattermapbox\",\"marker\":{\"colorbar\":{\"outlinewidth\":0,\"ticks\":\"\"}}}],\"scatterternary\":[{\"type\":\"scatterternary\",\"marker\":{\"colorbar\":{\"outlinewidth\":0,\"ticks\":\"\"}}}],\"scattercarpet\":[{\"type\":\"scattercarpet\",\"marker\":{\"colorbar\":{\"outlinewidth\":0,\"ticks\":\"\"}}}],\"carpet\":[{\"aaxis\":{\"endlinecolor\":\"#2a3f5f\",\"gridcolor\":\"white\",\"linecolor\":\"white\",\"minorgridcolor\":\"white\",\"startlinecolor\":\"#2a3f5f\"},\"baxis\":{\"endlinecolor\":\"#2a3f5f\",\"gridcolor\":\"white\",\"linecolor\":\"white\",\"minorgridcolor\":\"white\",\"startlinecolor\":\"#2a3f5f\"},\"type\":\"carpet\"}],\"table\":[{\"cells\":{\"fill\":{\"color\":\"#EBF0F8\"},\"line\":{\"color\":\"white\"}},\"header\":{\"fill\":{\"color\":\"#C8D4E3\"},\"line\":{\"color\":\"white\"}},\"type\":\"table\"}],\"barpolar\":[{\"marker\":{\"line\":{\"color\":\"#E5ECF6\",\"width\":0.5},\"pattern\":{\"fillmode\":\"overlay\",\"size\":10,\"solidity\":0.2}},\"type\":\"barpolar\"}],\"pie\":[{\"automargin\":true,\"type\":\"pie\"}]},\"layout\":{\"autotypenumbers\":\"strict\",\"colorway\":[\"#636efa\",\"#EF553B\",\"#00cc96\",\"#ab63fa\",\"#FFA15A\",\"#19d3f3\",\"#FF6692\",\"#B6E880\",\"#FF97FF\",\"#FECB52\"],\"font\":{\"color\":\"#2a3f5f\"},\"hovermode\":\"closest\",\"hoverlabel\":{\"align\":\"left\"},\"paper_bgcolor\":\"white\",\"plot_bgcolor\":\"#E5ECF6\",\"polar\":{\"bgcolor\":\"#E5ECF6\",\"angularaxis\":{\"gridcolor\":\"white\",\"linecolor\":\"white\",\"ticks\":\"\"},\"radialaxis\":{\"gridcolor\":\"white\",\"linecolor\":\"white\",\"ticks\":\"\"}},\"ternary\":{\"bgcolor\":\"#E5ECF6\",\"aaxis\":{\"gridcolor\":\"white\",\"linecolor\":\"white\",\"ticks\":\"\"},\"baxis\":{\"gridcolor\":\"white\",\"linecolor\":\"white\",\"ticks\":\"\"},\"caxis\":{\"gridcolor\":\"white\",\"linecolor\":\"white\",\"ticks\":\"\"}},\"coloraxis\":{\"colorbar\":{\"outlinewidth\":0,\"ticks\":\"\"}},\"colorscale\":{\"sequential\":[[0.0,\"#0d0887\"],[0.1111111111111111,\"#46039f\"],[0.2222222222222222,\"#7201a8\"],[0.3333333333333333,\"#9c179e\"],[0.4444444444444444,\"#bd3786\"],[0.5555555555555556,\"#d8576b\"],[0.6666666666666666,\"#ed7953\"],[0.7777777777777778,\"#fb9f3a\"],[0.8888888888888888,\"#fdca26\"],[1.0,\"#f0f921\"]],\"sequentialminus\":[[0.0,\"#0d0887\"],[0.1111111111111111,\"#46039f\"],[0.2222222222222222,\"#7201a8\"],[0.3333333333333333,\"#9c179e\"],[0.4444444444444444,\"#bd3786\"],[0.5555555555555556,\"#d8576b\"],[0.6666666666666666,\"#ed7953\"],[0.7777777777777778,\"#fb9f3a\"],[0.8888888888888888,\"#fdca26\"],[1.0,\"#f0f921\"]],\"diverging\":[[0,\"#8e0152\"],[0.1,\"#c51b7d\"],[0.2,\"#de77ae\"],[0.3,\"#f1b6da\"],[0.4,\"#fde0ef\"],[0.5,\"#f7f7f7\"],[0.6,\"#e6f5d0\"],[0.7,\"#b8e186\"],[0.8,\"#7fbc41\"],[0.9,\"#4d9221\"],[1,\"#276419\"]]},\"xaxis\":{\"gridcolor\":\"white\",\"linecolor\":\"white\",\"ticks\":\"\",\"title\":{\"standoff\":15},\"zerolinecolor\":\"white\",\"automargin\":true,\"zerolinewidth\":2},\"yaxis\":{\"gridcolor\":\"white\",\"linecolor\":\"white\",\"ticks\":\"\",\"title\":{\"standoff\":15},\"zerolinecolor\":\"white\",\"automargin\":true,\"zerolinewidth\":2},\"scene\":{\"xaxis\":{\"backgroundcolor\":\"#E5ECF6\",\"gridcolor\":\"white\",\"linecolor\":\"white\",\"showbackground\":true,\"ticks\":\"\",\"zerolinecolor\":\"white\",\"gridwidth\":2},\"yaxis\":{\"backgroundcolor\":\"#E5ECF6\",\"gridcolor\":\"white\",\"linecolor\":\"white\",\"showbackground\":true,\"ticks\":\"\",\"zerolinecolor\":\"white\",\"gridwidth\":2},\"zaxis\":{\"backgroundcolor\":\"#E5ECF6\",\"gridcolor\":\"white\",\"linecolor\":\"white\",\"showbackground\":true,\"ticks\":\"\",\"zerolinecolor\":\"white\",\"gridwidth\":2}},\"shapedefaults\":{\"line\":{\"color\":\"#2a3f5f\"}},\"annotationdefaults\":{\"arrowcolor\":\"#2a3f5f\",\"arrowhead\":0,\"arrowwidth\":1},\"geo\":{\"bgcolor\":\"white\",\"landcolor\":\"#E5ECF6\",\"subunitcolor\":\"white\",\"showland\":true,\"showlakes\":true,\"lakecolor\":\"white\"},\"title\":{\"x\":0.05},\"mapbox\":{\"style\":\"light\"}}},\"xaxis\":{\"anchor\":\"y\",\"domain\":[0.0,1.0],\"title\":{\"text\":\"GDP per capita, PPP (constant 2021 international $)\"}},\"yaxis\":{\"anchor\":\"x\",\"domain\":[0.0,1.0],\"title\":{\"text\":\"Total Crime Rate per 100k\"}},\"legend\":{\"tracegroupgap\":0},\"title\":{\"text\":\"GDP per Capita vs. Total Crime Rate per 100k with Trendline\"}},                        {\"responsive\": true}                    ).then(function(){\n",
       "                            \n",
       "var gd = document.getElementById('77c89f43-5ec1-49b7-9c81-e41d275fe392');\n",
       "var x = new MutationObserver(function (mutations, observer) {{\n",
       "        var display = window.getComputedStyle(gd).display;\n",
       "        if (!display || display === 'none') {{\n",
       "            console.log([gd, 'removed!']);\n",
       "            Plotly.purge(gd);\n",
       "            observer.disconnect();\n",
       "        }}\n",
       "}});\n",
       "\n",
       "// Listen for the removal of the full notebook cells\n",
       "var notebookContainer = gd.closest('#notebook-container');\n",
       "if (notebookContainer) {{\n",
       "    x.observe(notebookContainer, {childList: true});\n",
       "}}\n",
       "\n",
       "// Listen for the clearing of the current output cell\n",
       "var outputEl = gd.closest('.output');\n",
       "if (outputEl) {{\n",
       "    x.observe(outputEl, {childList: true});\n",
       "}}\n",
       "\n",
       "                        })                };            </script>        </div>"
      ]
     },
     "metadata": {},
     "output_type": "display_data"
    }
   ],
   "source": [
    "import pandas as pd\n",
    "import plotly.express as px\n",
    "import statsmodels\n",
    "\n",
    "# Load and process data (same as before)\n",
    "bank1_df = pd.read_csv(\"world_bank_definitive.csv\")\n",
    "crime_df = pd.read_csv(\"europe_crime_definitive_per_100k.csv\")\n",
    "\n",
    "bank_df = bank1_df[bank1_df['Indicator Name'] == \"GDP per capita, PPP (constant 2021 international $)\"]\n",
    "bank_df = bank_df.rename(columns={\"Value\": \"GDP per capita, PPP (constant 2021 international $)\"})\n",
    "\n",
    "crime_columns = [col for col in crime_df.columns if col not in [\"Country Name\", \"Year\"]]\n",
    "crime_df[\"Total Crime Rate per 100k\"] = crime_df[crime_columns].sum(axis=1)\n",
    "\n",
    "merged_df = pd.merge(\n",
    "    crime_df[[\"Country Name\", \"Year\", \"Total Crime Rate per 100k\"]],\n",
    "    bank_df[[\"Country Name\", \"Year\", \"GDP per capita, PPP (constant 2021 international $)\"]],\n",
    "    on=[\"Country Name\", \"Year\"]\n",
    ")\n",
    "\n",
    "# Create scatter plot with trendline\n",
    "fig = px.scatter(\n",
    "    merged_df,\n",
    "    x=\"GDP per capita, PPP (constant 2021 international $)\",\n",
    "    y=\"Total Crime Rate per 100k\",\n",
    "    hover_name=\"Country Name\",\n",
    "    hover_data={\"Year\": True},\n",
    "    trendline=\"ols\",  # Ordinary Least Squares regression line\n",
    "    title=\"GDP per Capita vs. Total Crime Rate per 100k with Trendline\"\n",
    ")\n",
    "\n",
    "fig.update_layout(\n",
    "    xaxis_title=\"GDP per capita, PPP (constant 2021 international $)\",\n",
    "    yaxis_title=\"Total Crime Rate per 100k\"\n",
    ")\n",
    "\n",
    "fig.show()"
   ]
  },
  {
   "cell_type": "markdown",
   "id": "c3857f81-dcad-489c-a608-3f7f86e6a58e",
   "metadata": {},
   "source": [
    "> *Figure 4: Vivamus elementum semper nisi. Aenean vulputate eleifend tellus. Aenean leo ligula, porttitor eu, consequat vitae, eleifend ac, enim. Aliquam lorem ante, dapibus in, viverra quis, feugiat a, tellus.*"
   ]
  },
  {
   "cell_type": "markdown",
   "id": "52d494f5",
   "metadata": {},
   "source": [
    "In enim justo, rhoncus ut, imperdiet a, venenatis vitae, justo. Nullam dictum felis eu pede mollis pretium. Integer tincidunt. Cras dapibus. Vivamus elementum semper nisi. Aenean vulputate eleifend tellus. Aenean leo ligula, porttitor eu, consequat vitae, eleifend ac, enim. Aliquam lorem ante, dapibus in, viverra quis, feugiat a, tellus.\n",
    "\n",
    "Neque porro quisquam est, qui dolorem ipsum quia dolor sit amet, consectetur, adipisci velit, sed quia non numquam eius modi tempora incidunt ut labore et dolore magnam aliquam quaerat voluptatem. Ut enim ad minima veniam, quis nostrum exercitationem ullam corporis suscipit laboriosam, nisi ut aliquid ex ea commodi consequatur?"
   ]
  },
  {
   "cell_type": "markdown",
   "id": "bf522e30-74ba-4774-a6a0-a94f3d827123",
   "metadata": {},
   "source": [
    "### The Second Argument of Your Second Perspective"
   ]
  },
  {
   "cell_type": "markdown",
   "id": "51f7128d-2dd5-42ff-a178-bd7d6457d749",
   "metadata": {},
   "source": [
    "Sed ut perspiciatis unde omnis iste natus error sit voluptatem accusantium doloremque laudantium, totam rem aperiam, eaque ipsa quae ab illo inventore veritatis et quasi architecto beatae vitae dicta sunt explicabo. Nemo enim ipsam voluptatem quia voluptas sit aspernatur aut odit aut fugit, sed quia consequuntur magni dolores eos qui ratione voluptatem sequi nesciunt."
   ]
  },
  {
   "cell_type": "code",
   "execution_count": null,
   "id": "e6372635",
   "metadata": {
    "tags": [
     "hide-input"
    ]
   },
   "outputs": [],
   "source": [
    "import pandas as pd\n",
    "import plotly.express as px\n",
    "import plotly.io as pio\n",
    "\n",
    "# Set renderer\n",
    "pio.renderers.default = 'notebook'\n",
    "\n",
    "# Load datasets\n",
    "bank1_df = pd.read_csv(\"world_bank_definitive.csv\")\n",
    "crime_df = pd.read_csv(\"europe_crime_definitive_per_100k.csv\")\n",
    "\n",
    "# Filter and rename GDP column\n",
    "bank_df = bank1_df[bank1_df['Indicator Name'] == \"GDP per capita, PPP (constant 2021 international $)\"]\n",
    "bank_df = bank_df.rename(columns={\"Value\": \"GDP per capita, PPP (constant 2021 international $)\"})\n",
    "\n",
    "# Merge datasets\n",
    "merged_df = pd.merge(crime_df, bank_df, on=[\"Country Name\", \"Year\"])\n",
    "\n",
    "# Reshape to long format — you can add more crimes here\n",
    "long_df = merged_df.melt(\n",
    "    id_vars=[\"Country Name\", \"Year\"],\n",
    "    value_vars=[\"Theft\"],  # or [\"Burglary\", \"Fraud\", \"Theft\"]\n",
    "    var_name=\"CrimeType\",\n",
    "    value_name=\"Crime Rate per 100k\"\n",
    ")\n",
    "\n",
    "# Create a custom hover text column (exclude Year)\n",
    "long_df[\"hover_text\"] = \"Country: \" + long_df[\"Country Name\"]\n",
    "\n",
    "# Create box plot with color by CrimeType\n",
    "fig = px.box(\n",
    "    long_df,\n",
    "    x=\"Year\",\n",
    "    y=\"Crime Rate per 100k\",\n",
    "    color=\"CrimeType\",\n",
    "    points=\"all\",\n",
    "    hover_data={\"Year\": False, \"Country Name\": True, \"CrimeType\": False},\n",
    "    custom_data=[\"Country Name\"],  # for custom hover text\n",
    "    title=\"Crime Rate Distribution by Year\",\n",
    "    labels={\"Crime Rate per 100k\": \"Crime Rate per 100,000 people\"}\n",
    ")\n",
    "\n",
    "# Update all trace hover templates to only show Country\n",
    "fig.update_traces(\n",
    "    hovertemplate=\"<b>%{customdata[0]}</b><br>Crime Rate: %{y}<extra></extra>\"\n",
    ")\n",
    "\n",
    "# Ensure all years are shown on the x-axis\n",
    "fig.update_layout(\n",
    "    xaxis=dict(\n",
    "        type=\"category\",  # forces all year labels to show\n",
    "        tickmode=\"linear\",\n",
    "        tickangle=45\n",
    "    ),\n",
    "    yaxis_title=\"Crime Rate per 100,000 people\",\n",
    "    xaxis_title=\"Year\",\n",
    "    boxmode='group'\n",
    ")\n",
    "\n",
    "fig.show()"
   ]
  },
  {
   "cell_type": "markdown",
   "id": "84271e8b-3cdf-4cad-b78e-f536ff980cba",
   "metadata": {},
   "source": [
    "> *Figure 5: Vivamus elementum semper nisi. Aenean vulputate eleifend tellus. Aenean leo ligula, porttitor eu, consequat vitae, eleifend ac, enim. Aliquam lorem ante, dapibus in, viverra quis, feugiat a, tellus.*"
   ]
  },
  {
   "cell_type": "markdown",
   "id": "9bb2eaaf",
   "metadata": {},
   "source": [
    "In enim justo, rhoncus ut, imperdiet a, venenatis vitae, justo. Nullam dictum felis eu pede mollis pretium. Integer tincidunt. Cras dapibus. Vivamus elementum semper nisi. Aenean vulputate eleifend tellus. Aenean leo ligula, porttitor eu, consequat vitae, eleifend ac, enim. Aliquam lorem ante, dapibus in, viverra quis, feugiat a, tellus."
   ]
  },
  {
   "cell_type": "code",
   "execution_count": 63,
   "id": "3966ea55",
   "metadata": {
    "tags": [
     "hide-input"
    ]
   },
   "outputs": [
    {
     "ename": "ValueError",
     "evalue": "Value of 'y' is not the name of a column in 'data_frame'. Expected one of ['Country Name', 'Year', 'CrimeType', 'Crime Rate per 100k', 'hover_text'] but received: GDP per capita, PPP (constant 2021 international $)",
     "output_type": "error",
     "traceback": [
      "\u001b[31m---------------------------------------------------------------------------\u001b[39m",
      "\u001b[31mValueError\u001b[39m                                Traceback (most recent call last)",
      "\u001b[36mCell\u001b[39m\u001b[36m \u001b[39m\u001b[32mIn[63]\u001b[39m\u001b[32m, line 31\u001b[39m\n\u001b[32m     28\u001b[39m long_df[\u001b[33m\"\u001b[39m\u001b[33mhover_text\u001b[39m\u001b[33m\"\u001b[39m] = \u001b[33m\"\u001b[39m\u001b[33mCountry: \u001b[39m\u001b[33m\"\u001b[39m + long_df[\u001b[33m\"\u001b[39m\u001b[33mCountry Name\u001b[39m\u001b[33m\"\u001b[39m]\n\u001b[32m     30\u001b[39m \u001b[38;5;66;03m# Create box plot with color by CrimeType\u001b[39;00m\n\u001b[32m---> \u001b[39m\u001b[32m31\u001b[39m fig = \u001b[43mpx\u001b[49m\u001b[43m.\u001b[49m\u001b[43mbox\u001b[49m\u001b[43m(\u001b[49m\n\u001b[32m     32\u001b[39m \u001b[43m    \u001b[49m\u001b[43mlong_df\u001b[49m\u001b[43m,\u001b[49m\n\u001b[32m     33\u001b[39m \u001b[43m    \u001b[49m\u001b[43mx\u001b[49m\u001b[43m=\u001b[49m\u001b[33;43m\"\u001b[39;49m\u001b[33;43mYear\u001b[39;49m\u001b[33;43m\"\u001b[39;49m\u001b[43m,\u001b[49m\n\u001b[32m     34\u001b[39m \u001b[43m    \u001b[49m\u001b[43my\u001b[49m\u001b[43m=\u001b[49m\u001b[33;43m\"\u001b[39;49m\u001b[33;43mGDP per capita, PPP (constant 2021 international $)\u001b[39;49m\u001b[33;43m\"\u001b[39;49m\u001b[43m,\u001b[49m\n\u001b[32m     35\u001b[39m \u001b[43m    \u001b[49m\u001b[43mcolor\u001b[49m\u001b[43m=\u001b[49m\u001b[33;43m\"\u001b[39;49m\u001b[33;43mCrimeType\u001b[39;49m\u001b[33;43m\"\u001b[39;49m\u001b[43m,\u001b[49m\n\u001b[32m     36\u001b[39m \u001b[43m    \u001b[49m\u001b[43mpoints\u001b[49m\u001b[43m=\u001b[49m\u001b[33;43m\"\u001b[39;49m\u001b[33;43mall\u001b[39;49m\u001b[33;43m\"\u001b[39;49m\u001b[43m,\u001b[49m\n\u001b[32m     37\u001b[39m \u001b[43m    \u001b[49m\u001b[43mhover_data\u001b[49m\u001b[43m=\u001b[49m\u001b[43m{\u001b[49m\u001b[33;43m\"\u001b[39;49m\u001b[33;43mYear\u001b[39;49m\u001b[33;43m\"\u001b[39;49m\u001b[43m:\u001b[49m\u001b[43m \u001b[49m\u001b[38;5;28;43;01mFalse\u001b[39;49;00m\u001b[43m,\u001b[49m\u001b[43m \u001b[49m\u001b[33;43m\"\u001b[39;49m\u001b[33;43mCountry Name\u001b[39;49m\u001b[33;43m\"\u001b[39;49m\u001b[43m:\u001b[49m\u001b[43m \u001b[49m\u001b[38;5;28;43;01mTrue\u001b[39;49;00m\u001b[43m,\u001b[49m\u001b[43m \u001b[49m\u001b[33;43m\"\u001b[39;49m\u001b[33;43mCrimeType\u001b[39;49m\u001b[33;43m\"\u001b[39;49m\u001b[43m:\u001b[49m\u001b[43m \u001b[49m\u001b[38;5;28;43;01mFalse\u001b[39;49;00m\u001b[43m}\u001b[49m\u001b[43m,\u001b[49m\n\u001b[32m     38\u001b[39m \u001b[43m    \u001b[49m\u001b[43mcustom_data\u001b[49m\u001b[43m=\u001b[49m\u001b[43m[\u001b[49m\u001b[33;43m\"\u001b[39;49m\u001b[33;43mCountry Name\u001b[39;49m\u001b[33;43m\"\u001b[39;49m\u001b[43m]\u001b[49m\u001b[43m,\u001b[49m\u001b[43m  \u001b[49m\u001b[38;5;66;43;03m# for custom hover text\u001b[39;49;00m\n\u001b[32m     39\u001b[39m \u001b[43m    \u001b[49m\u001b[43mtitle\u001b[49m\u001b[43m=\u001b[49m\u001b[33;43m\"\u001b[39;49m\u001b[33;43mCrime Rate Distribution by Year\u001b[39;49m\u001b[33;43m\"\u001b[39;49m\u001b[43m,\u001b[49m\n\u001b[32m     40\u001b[39m \u001b[43m    \u001b[49m\u001b[43mlabels\u001b[49m\u001b[43m=\u001b[49m\u001b[43m{\u001b[49m\u001b[33;43m\"\u001b[39;49m\u001b[33;43mCrime Rate per 100k\u001b[39;49m\u001b[33;43m\"\u001b[39;49m\u001b[43m:\u001b[49m\u001b[43m \u001b[49m\u001b[33;43m\"\u001b[39;49m\u001b[33;43mCrime Rate per 100,000 people\u001b[39;49m\u001b[33;43m\"\u001b[39;49m\u001b[43m}\u001b[49m\n\u001b[32m     41\u001b[39m \u001b[43m)\u001b[49m\n\u001b[32m     43\u001b[39m \u001b[38;5;66;03m# Update all trace hover templates to only show Country\u001b[39;00m\n\u001b[32m     44\u001b[39m fig.update_traces(\n\u001b[32m     45\u001b[39m     hovertemplate=\u001b[33m\"\u001b[39m\u001b[33m<b>\u001b[39m\u001b[33m%\u001b[39m\u001b[38;5;132;01m{customdata[0]}\u001b[39;00m\u001b[33m</b><br>Crime Rate: \u001b[39m\u001b[33m%\u001b[39m\u001b[38;5;132;01m{y}\u001b[39;00m\u001b[33m<extra></extra>\u001b[39m\u001b[33m\"\u001b[39m\n\u001b[32m     46\u001b[39m )\n",
      "\u001b[36mFile \u001b[39m\u001b[32m~/miniconda3/lib/python3.13/site-packages/plotly/express/_chart_types.py:679\u001b[39m, in \u001b[36mbox\u001b[39m\u001b[34m(data_frame, x, y, color, facet_row, facet_col, facet_col_wrap, facet_row_spacing, facet_col_spacing, hover_name, hover_data, custom_data, animation_frame, animation_group, category_orders, labels, color_discrete_sequence, color_discrete_map, orientation, boxmode, log_x, log_y, range_x, range_y, points, notched, title, subtitle, template, width, height)\u001b[39m\n\u001b[32m    637\u001b[39m \u001b[38;5;28;01mdef\u001b[39;00m\u001b[38;5;250m \u001b[39m\u001b[34mbox\u001b[39m(\n\u001b[32m    638\u001b[39m     data_frame=\u001b[38;5;28;01mNone\u001b[39;00m,\n\u001b[32m    639\u001b[39m     x=\u001b[38;5;28;01mNone\u001b[39;00m,\n\u001b[32m   (...)\u001b[39m\u001b[32m    668\u001b[39m     height=\u001b[38;5;28;01mNone\u001b[39;00m,\n\u001b[32m    669\u001b[39m ) -> go.Figure:\n\u001b[32m    670\u001b[39m \u001b[38;5;250m    \u001b[39m\u001b[33;03m\"\"\"\u001b[39;00m\n\u001b[32m    671\u001b[39m \u001b[33;03m    In a box plot, rows of `data_frame` are grouped together into a\u001b[39;00m\n\u001b[32m    672\u001b[39m \u001b[33;03m    box-and-whisker mark to visualize their distribution.\u001b[39;00m\n\u001b[32m   (...)\u001b[39m\u001b[32m    677\u001b[39m \u001b[33;03m    range (IQR: Q3-Q1), see \"points\" for other options.\u001b[39;00m\n\u001b[32m    678\u001b[39m \u001b[33;03m    \"\"\"\u001b[39;00m\n\u001b[32m--> \u001b[39m\u001b[32m679\u001b[39m     \u001b[38;5;28;01mreturn\u001b[39;00m \u001b[43mmake_figure\u001b[49m\u001b[43m(\u001b[49m\n\u001b[32m    680\u001b[39m \u001b[43m        \u001b[49m\u001b[43margs\u001b[49m\u001b[43m=\u001b[49m\u001b[38;5;28;43mlocals\u001b[39;49m\u001b[43m(\u001b[49m\u001b[43m)\u001b[49m\u001b[43m,\u001b[49m\n\u001b[32m    681\u001b[39m \u001b[43m        \u001b[49m\u001b[43mconstructor\u001b[49m\u001b[43m=\u001b[49m\u001b[43mgo\u001b[49m\u001b[43m.\u001b[49m\u001b[43mBox\u001b[49m\u001b[43m,\u001b[49m\n\u001b[32m    682\u001b[39m \u001b[43m        \u001b[49m\u001b[43mtrace_patch\u001b[49m\u001b[43m=\u001b[49m\u001b[38;5;28;43mdict\u001b[39;49m\u001b[43m(\u001b[49m\u001b[43mboxpoints\u001b[49m\u001b[43m=\u001b[49m\u001b[43mpoints\u001b[49m\u001b[43m,\u001b[49m\u001b[43m \u001b[49m\u001b[43mnotched\u001b[49m\u001b[43m=\u001b[49m\u001b[43mnotched\u001b[49m\u001b[43m,\u001b[49m\u001b[43m \u001b[49m\u001b[43mx0\u001b[49m\u001b[43m=\u001b[49m\u001b[33;43m\"\u001b[39;49m\u001b[33;43m \u001b[39;49m\u001b[33;43m\"\u001b[39;49m\u001b[43m,\u001b[49m\u001b[43m \u001b[49m\u001b[43my0\u001b[49m\u001b[43m=\u001b[49m\u001b[33;43m\"\u001b[39;49m\u001b[33;43m \u001b[39;49m\u001b[33;43m\"\u001b[39;49m\u001b[43m)\u001b[49m\u001b[43m,\u001b[49m\n\u001b[32m    683\u001b[39m \u001b[43m        \u001b[49m\u001b[43mlayout_patch\u001b[49m\u001b[43m=\u001b[49m\u001b[38;5;28;43mdict\u001b[39;49m\u001b[43m(\u001b[49m\u001b[43mboxmode\u001b[49m\u001b[43m=\u001b[49m\u001b[43mboxmode\u001b[49m\u001b[43m)\u001b[49m\u001b[43m,\u001b[49m\n\u001b[32m    684\u001b[39m \u001b[43m    \u001b[49m\u001b[43m)\u001b[49m\n",
      "\u001b[36mFile \u001b[39m\u001b[32m~/miniconda3/lib/python3.13/site-packages/plotly/express/_core.py:2483\u001b[39m, in \u001b[36mmake_figure\u001b[39m\u001b[34m(args, constructor, trace_patch, layout_patch)\u001b[39m\n\u001b[32m   2480\u001b[39m layout_patch = layout_patch \u001b[38;5;129;01mor\u001b[39;00m {}\n\u001b[32m   2481\u001b[39m apply_default_cascade(args)\n\u001b[32m-> \u001b[39m\u001b[32m2483\u001b[39m args = \u001b[43mbuild_dataframe\u001b[49m\u001b[43m(\u001b[49m\u001b[43margs\u001b[49m\u001b[43m,\u001b[49m\u001b[43m \u001b[49m\u001b[43mconstructor\u001b[49m\u001b[43m)\u001b[49m\n\u001b[32m   2484\u001b[39m \u001b[38;5;28;01mif\u001b[39;00m constructor \u001b[38;5;129;01min\u001b[39;00m [go.Treemap, go.Sunburst, go.Icicle] \u001b[38;5;129;01mand\u001b[39;00m args[\u001b[33m\"\u001b[39m\u001b[33mpath\u001b[39m\u001b[33m\"\u001b[39m] \u001b[38;5;129;01mis\u001b[39;00m \u001b[38;5;129;01mnot\u001b[39;00m \u001b[38;5;28;01mNone\u001b[39;00m:\n\u001b[32m   2485\u001b[39m     args = process_dataframe_hierarchy(args)\n",
      "\u001b[36mFile \u001b[39m\u001b[32m~/miniconda3/lib/python3.13/site-packages/plotly/express/_core.py:1729\u001b[39m, in \u001b[36mbuild_dataframe\u001b[39m\u001b[34m(args, constructor)\u001b[39m\n\u001b[32m   1726\u001b[39m     args[\u001b[33m\"\u001b[39m\u001b[33mcolor\u001b[39m\u001b[33m\"\u001b[39m] = \u001b[38;5;28;01mNone\u001b[39;00m\n\u001b[32m   1727\u001b[39m \u001b[38;5;66;03m# now that things have been prepped, we do the systematic rewriting of `args`\u001b[39;00m\n\u001b[32m-> \u001b[39m\u001b[32m1729\u001b[39m df_output, wide_id_vars = \u001b[43mprocess_args_into_dataframe\u001b[49m\u001b[43m(\u001b[49m\n\u001b[32m   1730\u001b[39m \u001b[43m    \u001b[49m\u001b[43margs\u001b[49m\u001b[43m,\u001b[49m\n\u001b[32m   1731\u001b[39m \u001b[43m    \u001b[49m\u001b[43mwide_mode\u001b[49m\u001b[43m,\u001b[49m\n\u001b[32m   1732\u001b[39m \u001b[43m    \u001b[49m\u001b[43mvar_name\u001b[49m\u001b[43m,\u001b[49m\n\u001b[32m   1733\u001b[39m \u001b[43m    \u001b[49m\u001b[43mvalue_name\u001b[49m\u001b[43m,\u001b[49m\n\u001b[32m   1734\u001b[39m \u001b[43m    \u001b[49m\u001b[43mis_pd_like\u001b[49m\u001b[43m,\u001b[49m\n\u001b[32m   1735\u001b[39m \u001b[43m    \u001b[49m\u001b[43mnative_namespace\u001b[49m\u001b[43m,\u001b[49m\n\u001b[32m   1736\u001b[39m \u001b[43m\u001b[49m\u001b[43m)\u001b[49m\n\u001b[32m   1737\u001b[39m df_output: nw.DataFrame\n\u001b[32m   1738\u001b[39m \u001b[38;5;66;03m# now that `df_output` exists and `args` contains only references, we complete\u001b[39;00m\n\u001b[32m   1739\u001b[39m \u001b[38;5;66;03m# the special-case and wide-mode handling by further rewriting args and/or mutating\u001b[39;00m\n\u001b[32m   1740\u001b[39m \u001b[38;5;66;03m# df_output\u001b[39;00m\n",
      "\u001b[36mFile \u001b[39m\u001b[32m~/miniconda3/lib/python3.13/site-packages/plotly/express/_core.py:1330\u001b[39m, in \u001b[36mprocess_args_into_dataframe\u001b[39m\u001b[34m(args, wide_mode, var_name, value_name, is_pd_like, native_namespace)\u001b[39m\n\u001b[32m   1328\u001b[39m         \u001b[38;5;28;01mif\u001b[39;00m argument == \u001b[33m\"\u001b[39m\u001b[33mindex\u001b[39m\u001b[33m\"\u001b[39m:\n\u001b[32m   1329\u001b[39m             err_msg += \u001b[33m\"\u001b[39m\u001b[38;5;130;01m\\n\u001b[39;00m\u001b[33m To use the index, pass it in directly as `df.index`.\u001b[39m\u001b[33m\"\u001b[39m\n\u001b[32m-> \u001b[39m\u001b[32m1330\u001b[39m         \u001b[38;5;28;01mraise\u001b[39;00m \u001b[38;5;167;01mValueError\u001b[39;00m(err_msg)\n\u001b[32m   1331\u001b[39m \u001b[38;5;28;01melif\u001b[39;00m length \u001b[38;5;129;01mand\u001b[39;00m (actual_len := \u001b[38;5;28mlen\u001b[39m(df_input)) != length:\n\u001b[32m   1332\u001b[39m     \u001b[38;5;28;01mraise\u001b[39;00m \u001b[38;5;167;01mValueError\u001b[39;00m(\n\u001b[32m   1333\u001b[39m         \u001b[33m\"\u001b[39m\u001b[33mAll arguments should have the same length. \u001b[39m\u001b[33m\"\u001b[39m\n\u001b[32m   1334\u001b[39m         \u001b[33m\"\u001b[39m\u001b[33mThe length of column argument `df[\u001b[39m\u001b[38;5;132;01m%s\u001b[39;00m\u001b[33m]` is \u001b[39m\u001b[38;5;132;01m%d\u001b[39;00m\u001b[33m, whereas the \u001b[39m\u001b[33m\"\u001b[39m\n\u001b[32m   (...)\u001b[39m\u001b[32m   1341\u001b[39m         )\n\u001b[32m   1342\u001b[39m     )\n",
      "\u001b[31mValueError\u001b[39m: Value of 'y' is not the name of a column in 'data_frame'. Expected one of ['Country Name', 'Year', 'CrimeType', 'Crime Rate per 100k', 'hover_text'] but received: GDP per capita, PPP (constant 2021 international $)"
     ]
    }
   ],
   "source": [
    "import pandas as pd\n",
    "import plotly.express as px\n",
    "import plotly.io as pio\n",
    "\n",
    "# Set renderer\n",
    "pio.renderers.default = 'notebook'\n",
    "\n",
    "# Load datasets\n",
    "bank1_df = pd.read_csv(\"world_bank_definitive.csv\")\n",
    "crime_df = pd.read_csv(\"europe_crime_definitive_per_100k.csv\")\n",
    "\n",
    "# Filter and rename GDP column\n",
    "bank_df = bank1_df[bank1_df['Indicator Name'] == \"GDP per capita, PPP (constant 2021 international $)\"]\n",
    "bank_df = bank_df.rename(columns={\"Value\": \"GDP per capita, PPP (constant 2021 international $)\"})\n",
    "\n",
    "# Merge datasets\n",
    "merged_df = pd.merge(crime_df, bank_df, on=[\"Country Name\", \"Year\"])\n",
    "\n",
    "# Reshape to long format — you can add more crimes here\n",
    "long_df = merged_df.melt(\n",
    "    id_vars=[\"Country Name\", \"Year\"],\n",
    "    value_vars=[\"Burglary\"],  # or [\"Burglary\", \"Fraud\", \"Theft\"]\n",
    "    var_name=\"CrimeType\",\n",
    "    value_name=\"Crime Rate per 100k\"\n",
    ")\n",
    "\n",
    "# Create a custom hover text column (exclude Year)\n",
    "long_df[\"hover_text\"] = \"Country: \" + long_df[\"Country Name\"]\n",
    "\n",
    "# Create box plot with color by CrimeType\n",
    "fig = px.box(\n",
    "    long_df,\n",
    "    x=\"Year\",\n",
    "    y=\"GDP per capita, PPP (constant 2021 international $)\",\n",
    "    color=\"CrimeType\",\n",
    "    points=\"all\",\n",
    "    hover_data={\"Year\": False, \"Country Name\": True, \"CrimeType\": False},\n",
    "    custom_data=[\"Country Name\"],  # for custom hover text\n",
    "    title=\"Crime Rate Distribution by Year\",\n",
    "    labels={\"Crime Rate per 100k\": \"Crime Rate per 100,000 people\"}\n",
    ")\n",
    "\n",
    "# Update all trace hover templates to only show Country\n",
    "fig.update_traces(\n",
    "    hovertemplate=\"<b>%{customdata[0]}</b><br>Crime Rate: %{y}<extra></extra>\"\n",
    ")\n",
    "\n",
    "# Ensure all years are shown on the x-axis\n",
    "fig.update_layout(\n",
    "    xaxis=dict(\n",
    "        type=\"category\",  # forces all year labels to show\n",
    "        tickmode=\"linear\",\n",
    "        tickangle=45\n",
    "    ),\n",
    "    yaxis_title=\"Crime Rate per 100,000 people\",\n",
    "    xaxis_title=\"Year\",\n",
    "    boxmode='group'\n",
    ")\n",
    "\n",
    "fig.show()"
   ]
  },
  {
   "cell_type": "markdown",
   "id": "80633dca-039a-4041-bd31-135ef7eef52c",
   "metadata": {},
   "source": [
    "> *Figure 6: Vivamus elementum semper nisi. Aenean vulputate eleifend tellus. Aenean leo ligula, porttitor eu, consequat vitae, eleifend ac, enim. Aliquam lorem ante, dapibus in, viverra quis, feugiat a, tellus.*"
   ]
  },
  {
   "cell_type": "markdown",
   "id": "921df77f",
   "metadata": {},
   "source": [
    "## Reflection\n",
    "\n",
    "Curabitur non lacus ex. Maecenas at massa ultricies justo venenatis condimentum sed et eros. Ut vitae iaculis massa. Aenean vitae sagittis nibh. Aliquam pharetra dui suscipit purus dictum rutrum. Donec ultricies odio quis porttitor aliquet. Fusce sed nisl non velit rutrum commodo nec sed magna. Morbi non volutpat mi, cursus pulvinar dolor.\n",
    "\n",
    "Nam sit amet volutpat sapien. Aenean eu mattis neque. Maecenas eget libero consequat, condimentum nulla luctus, fermentum lectus. Donec at enim sit amet dolor vestibulum faucibus. Vestibulum velit elit, faucibus ut mi sit amet, mollis rutrum eros. Ut ut lacinia ante, eu placerat ligula. Fusce quis convallis purus. Maecenas eget fringilla quam.\n",
    "\n",
    "Proin ac sapien et lectus tempor dignissim a at arcu. Donec placerat aliquet odio, vel aliquam nibh tempus vel. Pellentesque non velit iaculis, porta metus sed, dictum augue. Aenean tempus gravida ullamcorper. Proin cursus fringilla turpis. Integer id lectus dignissim, ultrices metus vel, dictum quam. Suspendisse augue ligula, vestibulum ac nulla a, porta pharetra leo. Integer et pharetra lacus, in porttitor mauris. Cras sodales metus sit amet enim rhoncus sodales. Etiam orci enim, tincidunt eget arcu vel, gravida scelerisque lacus."
   ]
  },
  {
   "cell_type": "markdown",
   "id": "8799e8f6",
   "metadata": {},
   "source": [
    "## Work Distribution\n",
    "\n",
    "Curabitur non lacus ex. Maecenas at massa ultricies justo venenatis condimentum sed et eros. Ut vitae iaculis massa. Aenean vitae sagittis nibh. Aliquam pharetra dui suscipit purus dictum rutrum. Donec ultricies odio quis porttitor aliquet. Fusce sed nisl non velit rutrum commodo nec sed magna. Morbi non volutpat mi, cursus pulvinar dolor.\n",
    "\n",
    "Nam sit amet volutpat sapien. Aenean eu mattis neque. Maecenas eget libero consequat, condimentum nulla luctus, fermentum lectus. Donec at enim sit amet dolor vestibulum faucibus. Vestibulum velit elit, faucibus ut mi sit amet, mollis rutrum eros. Ut ut lacinia ante, eu placerat ligula. Fusce quis convallis purus. Maecenas eget fringilla quam.\n",
    "\n",
    "Proin ac sapien et lectus tempor dignissim a at arcu. Donec placerat aliquet odio, vel aliquam nibh tempus vel. Pellentesque non velit iaculis, porta metus sed, dictum augue. Aenean tempus gravida ullamcorper. Proin cursus fringilla turpis. Integer id lectus dignissim, ultrices metus vel, dictum quam. Suspendisse augue ligula, vestibulum ac nulla a, porta pharetra leo. Integer et pharetra lacus, in porttitor mauris. Cras sodales metus sit amet enim rhoncus sodales. Etiam orci enim, tincidunt eget arcu vel, gravida scelerisque lacus."
   ]
  },
  {
   "cell_type": "markdown",
   "id": "8a61224c",
   "metadata": {},
   "source": [
    "## References\n",
    "\n",
    "De Courson, B., Nettle, D. Why do inequality and deprivation produce high crime and low trust?. Sci Rep 11, 1937 (2021). https://doi.org/10.1038/s41598-020-80897-8"
   ]
  }
 ],
 "metadata": {
  "celltoolbar": "Tags",
  "kernelspec": {
   "display_name": "jupyterbook",
   "language": "python",
   "name": "jupyterbook"
  },
  "language_info": {
   "codemirror_mode": {
    "name": "ipython",
    "version": 3
   },
   "file_extension": ".py",
   "mimetype": "text/x-python",
   "name": "python",
   "nbconvert_exporter": "python",
   "pygments_lexer": "ipython3",
   "version": "3.13.2"
  },
  "widgets": {
   "application/vnd.jupyter.widget-state+json": {
    "state": {},
    "version_major": 2,
    "version_minor": 0
   }
  }
 },
 "nbformat": 4,
 "nbformat_minor": 5
}
